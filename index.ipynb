{
 "cells": [
  {
   "cell_type": "markdown",
   "metadata": {},
   "source": [
    "# Visualizer for all SciPy distributions\n",
    "\n",
    "The awesome ``scipy.stats`` subpackage holds a lot of continuous and discrete distributions that you might never have heard of. To quickly familiarize oneself with an unknown distribution plotting and *experiencing* the distribution helps a lot. This visualiser tries to make this as easy and comfortable as possible. This tool is based on [Bokeh](http://bokeh.pydata.org/) and [ipywidgets](http://ipywidgets.readthedocs.org/).\n",
    "\n",
    "**TL;DR**: Just run all cells and be stunned!"
   ]
  },
  {
   "cell_type": "code",
   "execution_count": 1,
   "metadata": {
    "collapsed": false
   },
   "outputs": [],
   "source": [
    "from collections import OrderedDict, defaultdict\n",
    "from enum import Enum\n",
    "\n",
    "import numpy as np\n",
    "from scipy import stats\n",
    "\n",
    "from bokeh.io import output_notebook, show, push_notebook\n",
    "from bokeh.plotting import figure\n",
    "from bokeh.io import show\n",
    "\n",
    "from ipywidgets import widgets, interact, interactive\n",
    "from IPython.display import display \n",
    "\n",
    "import warnings\n",
    "warnings.simplefilter('ignore', DeprecationWarning)"
   ]
  },
  {
   "cell_type": "code",
   "execution_count": 2,
   "metadata": {
    "collapsed": false
   },
   "outputs": [
    {
     "data": {
      "text/html": [
       "\n",
       "    <div class=\"bk-banner\">\n",
       "        <a href=\"http://bokeh.pydata.org\" target=\"_blank\" class=\"bk-logo bk-logo-small bk-logo-notebook\"></a>\n",
       "        <span id=\"57417ab4-2d6d-4f7d-b455-17b7c6f3aac5\">Loading BokehJS ...</span>\n",
       "    </div>"
      ]
     },
     "metadata": {},
     "output_type": "display_data"
    },
    {
     "data": {
      "application/javascript": [
       "\n",
       "(function(global) {\n",
       "  function now() {\n",
       "    return new Date();\n",
       "  }\n",
       "\n",
       "  if (typeof (window._bokeh_onload_callbacks) === \"undefined\") {\n",
       "    window._bokeh_onload_callbacks = [];\n",
       "  }\n",
       "\n",
       "  function run_callbacks() {\n",
       "    window._bokeh_onload_callbacks.forEach(function(callback) { callback() });\n",
       "    delete window._bokeh_onload_callbacks\n",
       "    console.info(\"Bokeh: all callbacks have finished\");\n",
       "  }\n",
       "\n",
       "  function load_libs(js_urls, callback) {\n",
       "    window._bokeh_onload_callbacks.push(callback);\n",
       "    if (window._bokeh_is_loading > 0) {\n",
       "      console.log(\"Bokeh: BokehJS is being loaded, scheduling callback at\", now());\n",
       "      return null;\n",
       "    }\n",
       "    if (js_urls == null || js_urls.length === 0) {\n",
       "      run_callbacks();\n",
       "      return null;\n",
       "    }\n",
       "    console.log(\"Bokeh: BokehJS not loaded, scheduling load and callback at\", now());\n",
       "    window._bokeh_is_loading = js_urls.length;\n",
       "    for (var i = 0; i < js_urls.length; i++) {\n",
       "      var url = js_urls[i];\n",
       "      var s = document.createElement('script');\n",
       "      s.src = url;\n",
       "      s.async = false;\n",
       "      s.onreadystatechange = s.onload = function() {\n",
       "        window._bokeh_is_loading--;\n",
       "        if (window._bokeh_is_loading === 0) {\n",
       "          console.log(\"Bokeh: all BokehJS libraries loaded\");\n",
       "          run_callbacks()\n",
       "        }\n",
       "      };\n",
       "      s.onerror = function() {\n",
       "        console.warn(\"failed to load library \" + url);\n",
       "      };\n",
       "      console.log(\"Bokeh: injecting script tag for BokehJS library: \", url);\n",
       "      document.getElementsByTagName(\"head\")[0].appendChild(s);\n",
       "    }\n",
       "  };\n",
       "\n",
       "  var js_urls = ['https://cdn.pydata.org/bokeh/release/bokeh-0.11.1.min.js', 'https://cdn.pydata.org/bokeh/release/bokeh-widgets-0.11.1.min.js', 'https://cdn.pydata.org/bokeh/release/bokeh-compiler-0.11.1.min.js'];\n",
       "\n",
       "  var inline_js = [\n",
       "    function(Bokeh) {\n",
       "      Bokeh.set_log_level(\"info\");\n",
       "    },\n",
       "    \n",
       "    function(Bokeh) {\n",
       "      Bokeh.$(\"#57417ab4-2d6d-4f7d-b455-17b7c6f3aac5\").text(\"BokehJS successfully loaded\");\n",
       "    },\n",
       "    function(Bokeh) {\n",
       "      console.log(\"Bokeh: injecting CSS: https://cdn.pydata.org/bokeh/release/bokeh-0.11.1.min.css\");\n",
       "      Bokeh.embed.inject_css(\"https://cdn.pydata.org/bokeh/release/bokeh-0.11.1.min.css\");\n",
       "      console.log(\"Bokeh: injecting CSS: https://cdn.pydata.org/bokeh/release/bokeh-widgets-0.11.1.min.css\");\n",
       "      Bokeh.embed.inject_css(\"https://cdn.pydata.org/bokeh/release/bokeh-widgets-0.11.1.min.css\");\n",
       "    }\n",
       "  ];\n",
       "\n",
       "  function run_inline_js() {\n",
       "    for (var i = 0; i < inline_js.length; i++) {\n",
       "      inline_js[i](window.Bokeh);\n",
       "    }\n",
       "  }\n",
       "\n",
       "  if (window._bokeh_is_loading === 0) {\n",
       "    console.log(\"Bokeh: BokehJS loaded, going straight to plotting\");\n",
       "    run_inline_js();\n",
       "  } else {\n",
       "    load_libs(js_urls, function() {\n",
       "      console.log(\"Bokeh: BokehJS plotting callback run at\", now());\n",
       "      run_inline_js();\n",
       "    });\n",
       "  }\n",
       "}(this));"
      ]
     },
     "metadata": {},
     "output_type": "display_data"
    }
   ],
   "source": [
    "output_notebook()"
   ]
  },
  {
   "cell_type": "markdown",
   "metadata": {},
   "source": [
    "We start with a little introspection to get lists of all continuous and discrete distributions in ``scipy.stats``. In order to do so, we use an ``Enum`` to define the two types of distribution that exists in the world of mathematics, i.e. *continuous* and *discrete* distributions. Based on a given type we determine all classes that have as base class either ``stats.rv_contiuous`` or ``stats.rv_discrete`` and create an ordered dictionary with the distribution's name as key and the object of the distribution as value."
   ]
  },
  {
   "cell_type": "code",
   "execution_count": 3,
   "metadata": {
    "collapsed": false,
    "scrolled": true
   },
   "outputs": [
    {
     "name": "stdout",
     "output_type": "stream",
     "text": [
      "number of continuous distributions: 89\n",
      "number of discrete distributions:   13\n"
     ]
    }
   ],
   "source": [
    "class DistType(Enum):\n",
    "    continuous = 0\n",
    "    discrete = 1\n",
    "    \n",
    "dist_types = OrderedDict([('continuous', DistType.continuous),\n",
    "                          ('discrete', DistType.discrete)])\n",
    "\n",
    "def get_dict_of_dists(dist_type):\n",
    "    if dist_type is DistType.continuous:\n",
    "        baseclass = stats.rv_continuous\n",
    "    else:\n",
    "        baseclass = stats.rv_discrete\n",
    "    dists = [getattr(stats, d) for d in sorted(dir(stats)) if isinstance(getattr(stats,d), baseclass)]\n",
    "    return OrderedDict([(dist.name, dist) for dist in dists])\n",
    "\n",
    "dist_continuous = get_dict_of_dists(DistType.continuous)\n",
    "dist_discrete = get_dict_of_dists(DistType.discrete)\n",
    "print('number of continuous distributions:', len(dist_continuous))\n",
    "print('number of discrete distributions:  ', len(dist_discrete))"
   ]
  },
  {
   "cell_type": "markdown",
   "metadata": {},
   "source": [
    "Since a lot of distributions need additional shape parameters we use a nested ``defaultdict`` to define shape parameters as we go. For an undefined distribution ``DEFAULT_SHAPES`` will return ``1.0`` for all shape parameters.\n",
    "\n",
    "The ``DEFAULT_SHAPES`` dictionary is not exhaustive, meaning that a lot of sane parameters still need to be configured."
   ]
  },
  {
   "cell_type": "code",
   "execution_count": 4,
   "metadata": {
    "collapsed": true
   },
   "outputs": [],
   "source": [
    "def make_default_shape_dict():\n",
    "    shape_param = defaultdict(lambda: 1.0)\n",
    "    return defaultdict(lambda: shape_param)\n",
    "\n",
    "DEFAULT_SHAPES = make_default_shape_dict()\n",
    "DEFAULT_SHAPES['alpha'] = {'a': 1.3}\n",
    "DEFAULT_SHAPES['beta'] = {'a': 1.5, 'b': 2.}\n",
    "\n",
    "# discrete\n",
    "DEFAULT_SHAPES['bernoulli'] = {'p': 0.7}\n",
    "DEFAULT_SHAPES['binom'] = {'n': 10, 'p': 0.7}\n",
    "DEFAULT_SHAPES['logser'] = {'p': 0.3}\n",
    "DEFAULT_SHAPES['zipf'] = {'a': 2}\n",
    "DEFAULT_SHAPES['randint'] = {'low': 0, 'high': 10}\n",
    "DEFAULT_SHAPES['nbinom'] = {'n': 10, 'p': 0.6}\n",
    "DEFAULT_SHAPES['hypergeom'] = {'n': 3, 'M': 10, 'N': 7}\n",
    "DEFAULT_SHAPES['geom'] = {'p': 0.6}"
   ]
  },
  {
   "cell_type": "markdown",
   "metadata": {},
   "source": [
    "Every project needs some purely auxiliary functions that help to keep the real program logic shorter and much more comprehensible. We define them in advance and all of them should be pretty much self-explanatory. Eventually, we have functions to:\n",
    "* flatten a list of list,\n",
    "* calculate the support of a distribution,\n",
    "* create patches, i.e. bars, from (x, y) data points,\n",
    "* determine the shape parameters of a distribution,\n",
    "* check if a distribution has shape parameters,\n",
    "* determine the options for a distribution selector widget,\n",
    "* determine the options for a function selector widget."
   ]
  },
  {
   "cell_type": "code",
   "execution_count": 16,
   "metadata": {
    "collapsed": false
   },
   "outputs": [],
   "source": [
    "def flatten(lst):\n",
    "    return [item for sublist in lst for item in sublist]\n",
    "\n",
    "def support(dist, *shapeargs):\n",
    "    # due to bug in scipy.levy_stable no keyword args for interval\n",
    "    return dist.interval(1.0, *shapeargs)\n",
    "\n",
    "def make_patches(x, y, width=0.5):\n",
    "    m = width/2\n",
    "    x = [[p-m, p-m, p+m, p+m] for p in x]\n",
    "    y = [[0, p, p, 0] for p in y]\n",
    "    return x, y\n",
    "\n",
    "def shape_params(dist):\n",
    "    if dist.shapes is not None:\n",
    "        return dist.shapes.split(', ')\n",
    "    \n",
    "def has_shape_params(dist):\n",
    "    return shape_params(dist) is not None\n",
    "\n",
    "def dist_options(dist_type):\n",
    "    if dist_type is DistType.continuous:\n",
    "        return dist_continuous\n",
    "    else:\n",
    "        return dist_discrete\n",
    "\n",
    "def func_options(dist_type):\n",
    "    if dist_type is DistType.continuous:\n",
    "        return ['pdf', 'cdf', 'ppf']\n",
    "    else:\n",
    "        return ['pmf', 'cdf']"
   ]
  },
  {
   "cell_type": "markdown",
   "metadata": {
    "collapsed": true
   },
   "source": [
    "The whole tool is basically about evaluating different functions, e.g. ``pdf``, ``cdf``, etc., of a distribution. So what we need to do is:\n",
    "1. determining the support of the function\n",
    "2. check if the distribution is continuous or discrete\n",
    "3. define a set of suitable ``x``-values\n",
    "4. evaluate the given function on that set of ``x`` and return ``x`` and ``y``"
   ]
  },
  {
   "cell_type": "code",
   "execution_count": 17,
   "metadata": {
    "collapsed": false
   },
   "outputs": [],
   "source": [
    "def get_dist_func_xy(dist, func, *shapeargs, **params):\n",
    "    if func == 'ppf':\n",
    "        interval = [0., 1.]\n",
    "    else:\n",
    "        interval = list(support(dist, *shapeargs))\n",
    "    if dist in dist_continuous.values():\n",
    "        for i, x in enumerate(interval):\n",
    "            if np.isinf(x):\n",
    "                interval[i] = np.sign(x)*100\n",
    "            interval[i] += (-1)**i*1e-3\n",
    "        l, r = interval\n",
    "        x = np.linspace(l, r, 100*(r-l))\n",
    "    elif dist in dist_discrete.values():\n",
    "        for i, x in enumerate(interval):\n",
    "            if np.isinf(x):\n",
    "                interval[i] = np.sign(x)*10\n",
    "        l, r = interval        \n",
    "        x = np.arange(l+1, r+1)\n",
    "    else:\n",
    "        raise RuntimeError(\"Unknown distribution: {}\".format(dist.name))\n",
    "    y = getattr(dist, func)(x, *shapeargs, **params)\n",
    "    return x, y"
   ]
  },
  {
   "cell_type": "code",
   "execution_count": null,
   "metadata": {
    "collapsed": false
   },
   "outputs": [],
   "source": []
  },
  {
   "cell_type": "code",
   "execution_count": 13,
   "metadata": {
    "collapsed": true
   },
   "outputs": [],
   "source": [
    "def update_type_sel():\n",
    "    dist_sel.options = dist_options(type_sel.value)\n",
    "    \n",
    "def update_dist_sel():\n",
    "    func_sel.options = func_options(type_sel.value)\n",
    "    if has_shape_params(dist_sel.value):\n",
    "        shapes = OrderedDict([(p, DEFAULT_SHAPES[dist_sel.value.name][p]) for p in shape_params(dist_sel.value)])\n",
    "        text_inputs = [widgets.BoundedFloatText(value=v, description='{}:'.format(k)) for k, v in shapes.items()]\n",
    "        [w.on_trait_change(update_dist_params, name='value') for w in text_inputs]\n",
    "        shape_param_container.children = text_inputs\n",
    "    else:\n",
    "        shape_param_container.children = []\n",
    "    if type_sel.value is DistType.continuous:\n",
    "        param_container.children = [loc_slider, scale_slider]\n",
    "    else:\n",
    "        param_container.children = []\n",
    "    update_dist_params()\n",
    "\n",
    "def update_continuous(fig, data, *shapeargs):\n",
    "    data['x'], data['y'] = get_dist_func_xy(dist_sel.value, func_sel.value, *shapeargs, loc=loc_slider.value, scale=scale_slider.value)\n",
    "    fig.y_range.start, fig.y_range.end = max(np.max(data['y']) - 5, 1.1*np.min(data['y'])), min(np.min(data['y']) + 5, 1.1*np.max(data['y']))\n",
    "    offset, lim = 1e-1, 5\n",
    "    fig.x_range.start, fig.x_range.end = max(-lim, np.min(data['x']) - offset), min(lim, np.max(data['x']) + offset)\n",
    "    \n",
    "    \n",
    "def update_discrete(fig, data, *shapeargs):\n",
    "    x, y = get_dist_func_xy(dist_sel.value, func_sel.value, *shapeargs)\n",
    "    data['xs'], data['ys'] = make_patches(x, y)\n",
    "    fig.y_range.start, fig.y_range.end = 0., 1.1*max(max(data['ys']))\n",
    "    x_high_value = [x for x, y in zip(flatten(data['xs']), flatten(data['ys'])) if y > 0.001] \n",
    "    fig.x_range.start, fig.x_range.end = min(x_high_value) - 1, max(x_high_value) + 1\n",
    "    \n",
    "    \n",
    "def update_dist_params():\n",
    "    shapeargs = [c.value for c in shape_param_container.children]\n",
    "    l_data['x'], l_data['y'] = [], []\n",
    "    p_data['xs'], p_data['ys'] = [], []\n",
    "    try:\n",
    "        if type_sel.value is DistType.continuous:\n",
    "            update_continuous(fig, l_data, *shapeargs)\n",
    "        else:\n",
    "            update_discrete(fig, p_data, *shapeargs)\n",
    "    except Exception as e:\n",
    "        error_text.value = \"Invalid parameters! Choose again.<br>ERROR: {}\".format(e)\n",
    "        error_text.visible = True\n",
    "    else:\n",
    "        error_text.visible = False\n",
    "    push_notebook()\n",
    "    "
   ]
  },
  {
   "cell_type": "code",
   "execution_count": 14,
   "metadata": {
    "collapsed": true
   },
   "outputs": [],
   "source": [
    "def get_dist_fig_data():\n",
    "    fig = figure(width=700, height=700, title=None, x_range=(-1, 1), y_range=(0, 1))\n",
    "    ren_p = fig.patches([[]], [[]], line_width=3, alpha=0.3)\n",
    "    ren_l = fig.line([], [], line_width=3)\n",
    "    return fig, ren_l.data_source.data, ren_p.data_source.data"
   ]
  },
  {
   "cell_type": "code",
   "execution_count": 15,
   "metadata": {
    "collapsed": false
   },
   "outputs": [
    {
     "data": {
      "text/html": [
       "\n",
       "\n",
       "    <div class=\"plotdiv\" id=\"7f298a05-535c-40ec-b670-4e90a1ae3ed1\"></div>\n",
       "<script type=\"text/javascript\">\n",
       "  \n",
       "  (function(global) {\n",
       "    function now() {\n",
       "      return new Date();\n",
       "    }\n",
       "  \n",
       "    if (typeof (window._bokeh_onload_callbacks) === \"undefined\") {\n",
       "      window._bokeh_onload_callbacks = [];\n",
       "    }\n",
       "  \n",
       "    function run_callbacks() {\n",
       "      window._bokeh_onload_callbacks.forEach(function(callback) { callback() });\n",
       "      delete window._bokeh_onload_callbacks\n",
       "      console.info(\"Bokeh: all callbacks have finished\");\n",
       "    }\n",
       "  \n",
       "    function load_libs(js_urls, callback) {\n",
       "      window._bokeh_onload_callbacks.push(callback);\n",
       "      if (window._bokeh_is_loading > 0) {\n",
       "        console.log(\"Bokeh: BokehJS is being loaded, scheduling callback at\", now());\n",
       "        return null;\n",
       "      }\n",
       "      if (js_urls == null || js_urls.length === 0) {\n",
       "        run_callbacks();\n",
       "        return null;\n",
       "      }\n",
       "      console.log(\"Bokeh: BokehJS not loaded, scheduling load and callback at\", now());\n",
       "      window._bokeh_is_loading = js_urls.length;\n",
       "      for (var i = 0; i < js_urls.length; i++) {\n",
       "        var url = js_urls[i];\n",
       "        var s = document.createElement('script');\n",
       "        s.src = url;\n",
       "        s.async = false;\n",
       "        s.onreadystatechange = s.onload = function() {\n",
       "          window._bokeh_is_loading--;\n",
       "          if (window._bokeh_is_loading === 0) {\n",
       "            console.log(\"Bokeh: all BokehJS libraries loaded\");\n",
       "            run_callbacks()\n",
       "          }\n",
       "        };\n",
       "        s.onerror = function() {\n",
       "          console.warn(\"failed to load library \" + url);\n",
       "        };\n",
       "        console.log(\"Bokeh: injecting script tag for BokehJS library: \", url);\n",
       "        document.getElementsByTagName(\"head\")[0].appendChild(s);\n",
       "      }\n",
       "    };var element = document.getElementById(\"7f298a05-535c-40ec-b670-4e90a1ae3ed1\");\n",
       "    if (element == null) {\n",
       "      console.log(\"Bokeh: ERROR: autoload.js configured with elementid '7f298a05-535c-40ec-b670-4e90a1ae3ed1' but no matching script tag was found. \")\n",
       "      return false;\n",
       "    }\n",
       "  \n",
       "    var js_urls = [];\n",
       "  \n",
       "    var inline_js = [\n",
       "      function(Bokeh) {\n",
       "        Bokeh.$(function() {\n",
       "            var docs_json = {\"e62d027e-c579-4dd6-bfb9-b30a0d716f13\":{\"roots\":{\"references\":[{\"attributes\":{\"line_color\":{\"value\":\"#1f77b4\"},\"line_width\":{\"value\":3},\"x\":{\"field\":\"x\"},\"y\":{\"field\":\"y\"}},\"id\":\"0699a7e3-58c9-4da6-bf3e-95715919944e\",\"type\":\"Line\"},{\"attributes\":{\"plot\":{\"id\":\"9ccfd11b-c405-46ef-897c-9217879fe2de\",\"subtype\":\"Figure\",\"type\":\"Plot\"}},\"id\":\"0f6b001f-3f3c-419c-b0da-6da8e5873689\",\"type\":\"WheelZoomTool\"},{\"attributes\":{\"callback\":null,\"column_names\":[\"ys\",\"xs\"],\"data\":{\"xs\":[[]],\"ys\":[[]]}},\"id\":\"7d805a85-4c66-4554-93c9-9cfbd77c0f3e\",\"type\":\"ColumnDataSource\"},{\"attributes\":{\"overlay\":{\"id\":\"cf8ccdcb-2bd9-4674-ac80-05cf8f6d791c\",\"type\":\"BoxAnnotation\"},\"plot\":{\"id\":\"9ccfd11b-c405-46ef-897c-9217879fe2de\",\"subtype\":\"Figure\",\"type\":\"Plot\"}},\"id\":\"3cd3b727-da5d-491d-90b3-503460debd42\",\"type\":\"BoxZoomTool\"},{\"attributes\":{\"line_alpha\":{\"value\":0.1},\"line_color\":{\"value\":\"#1f77b4\"},\"line_width\":{\"value\":3},\"x\":{\"field\":\"x\"},\"y\":{\"field\":\"y\"}},\"id\":\"c19b1f5d-1226-41f5-837f-d115d7781053\",\"type\":\"Line\"},{\"attributes\":{},\"id\":\"04469ce3-a0a1-478e-a7bc-62db00456f21\",\"type\":\"BasicTickFormatter\"},{\"attributes\":{\"plot\":{\"id\":\"9ccfd11b-c405-46ef-897c-9217879fe2de\",\"subtype\":\"Figure\",\"type\":\"Plot\"}},\"id\":\"f0f7863b-3816-44f0-93ad-5e42e81fe20c\",\"type\":\"ResizeTool\"},{\"attributes\":{\"formatter\":{\"id\":\"d2d2ec3f-5f02-4622-a65f-bbef1659e75b\",\"type\":\"BasicTickFormatter\"},\"plot\":{\"id\":\"dfee2642-ab1c-4db0-87d3-c8c80a322822\",\"subtype\":\"Figure\",\"type\":\"Plot\"},\"ticker\":{\"id\":\"ffb8c53a-16d8-497a-be74-5ef16cde16e0\",\"type\":\"BasicTicker\"}},\"id\":\"1dcff76e-bf62-46b8-bb41-d0c0cbed9d57\",\"type\":\"LinearAxis\"},{\"attributes\":{\"fill_alpha\":{\"value\":0.1},\"fill_color\":{\"value\":\"#1f77b4\"},\"line_alpha\":{\"value\":0.1},\"line_color\":{\"value\":\"#1f77b4\"},\"line_width\":{\"value\":3},\"xs\":{\"field\":\"xs\"},\"ys\":{\"field\":\"ys\"}},\"id\":\"8891bca6-1be3-40bd-b816-1d48ef959f5a\",\"type\":\"Patches\"},{\"attributes\":{\"plot\":{\"id\":\"9ccfd11b-c405-46ef-897c-9217879fe2de\",\"subtype\":\"Figure\",\"type\":\"Plot\"}},\"id\":\"f8a65a49-a6d2-43df-94ca-37a11c743ee2\",\"type\":\"HelpTool\"},{\"attributes\":{\"callback\":null,\"end\":0.438836508441576},\"id\":\"87080a57-2aec-43ce-a15c-6e586102f5b4\",\"type\":\"Range1d\"},{\"attributes\":{\"below\":[{\"id\":\"aa986c18-2491-4da3-966b-0668e0bd20dd\",\"type\":\"LinearAxis\"}],\"left\":[{\"id\":\"a5c2d4b7-d26d-4205-b079-5780443d3634\",\"type\":\"LinearAxis\"}],\"plot_height\":700,\"plot_width\":700,\"renderers\":[{\"id\":\"aa986c18-2491-4da3-966b-0668e0bd20dd\",\"type\":\"LinearAxis\"},{\"id\":\"7f7bc90b-ea7d-4b21-b154-6d53928feb60\",\"type\":\"Grid\"},{\"id\":\"a5c2d4b7-d26d-4205-b079-5780443d3634\",\"type\":\"LinearAxis\"},{\"id\":\"134aab61-8a12-4939-ad57-0d83137a5824\",\"type\":\"Grid\"},{\"id\":\"cf8ccdcb-2bd9-4674-ac80-05cf8f6d791c\",\"type\":\"BoxAnnotation\"},{\"id\":\"0052118f-9a19-4888-941f-34924e74ed53\",\"type\":\"GlyphRenderer\"},{\"id\":\"dee596c8-a640-4d47-957d-517cc234b9cb\",\"type\":\"GlyphRenderer\"}],\"title\":null,\"tool_events\":{\"id\":\"1490242b-c183-4e6e-8a63-b9d8f4844eeb\",\"type\":\"ToolEvents\"},\"tools\":[{\"id\":\"ccc99222-bdfd-4608-89bf-83417b1cda70\",\"type\":\"PanTool\"},{\"id\":\"0f6b001f-3f3c-419c-b0da-6da8e5873689\",\"type\":\"WheelZoomTool\"},{\"id\":\"3cd3b727-da5d-491d-90b3-503460debd42\",\"type\":\"BoxZoomTool\"},{\"id\":\"1b41bab7-918d-465f-a09e-14cffe9eed7f\",\"type\":\"PreviewSaveTool\"},{\"id\":\"f0f7863b-3816-44f0-93ad-5e42e81fe20c\",\"type\":\"ResizeTool\"},{\"id\":\"b4005c18-1c9a-4230-a37a-3bbe533a07d3\",\"type\":\"ResetTool\"},{\"id\":\"f8a65a49-a6d2-43df-94ca-37a11c743ee2\",\"type\":\"HelpTool\"}],\"x_range\":{\"id\":\"3964f84e-54dc-4e6a-aaff-ff16ad92ea0b\",\"type\":\"Range1d\"},\"y_range\":{\"id\":\"87080a57-2aec-43ce-a15c-6e586102f5b4\",\"type\":\"Range1d\"}},\"id\":\"9ccfd11b-c405-46ef-897c-9217879fe2de\",\"subtype\":\"Figure\",\"type\":\"Plot\"},{\"attributes\":{\"plot\":{\"id\":\"9ccfd11b-c405-46ef-897c-9217879fe2de\",\"subtype\":\"Figure\",\"type\":\"Plot\"},\"ticker\":{\"id\":\"a96cb454-a1b3-4da2-a82f-1ae32be42d81\",\"type\":\"BasicTicker\"}},\"id\":\"7f7bc90b-ea7d-4b21-b154-6d53928feb60\",\"type\":\"Grid\"},{\"attributes\":{\"plot\":{\"id\":\"9ccfd11b-c405-46ef-897c-9217879fe2de\",\"subtype\":\"Figure\",\"type\":\"Plot\"}},\"id\":\"b4005c18-1c9a-4230-a37a-3bbe533a07d3\",\"type\":\"ResetTool\"},{\"attributes\":{},\"id\":\"2d884efd-8369-4507-8e0d-93d628b9bf1f\",\"type\":\"BasicTicker\"},{\"attributes\":{},\"id\":\"ffb8c53a-16d8-497a-be74-5ef16cde16e0\",\"type\":\"BasicTicker\"},{\"attributes\":{\"fill_alpha\":{\"value\":0.3},\"fill_color\":{\"value\":\"#1f77b4\"},\"line_alpha\":{\"value\":0.3},\"line_color\":{\"value\":\"#1f77b4\"},\"line_width\":{\"value\":3},\"xs\":{\"field\":\"xs\"},\"ys\":{\"field\":\"ys\"}},\"id\":\"a7e412d2-ed9f-45ea-bd63-1bf2dd448f5a\",\"type\":\"Patches\"},{\"attributes\":{},\"id\":\"de539ccd-fc0d-41e1-b1ee-0541bfe35793\",\"type\":\"BasicTickFormatter\"},{\"attributes\":{\"dimension\":1,\"plot\":{\"id\":\"dfee2642-ab1c-4db0-87d3-c8c80a322822\",\"subtype\":\"Figure\",\"type\":\"Plot\"},\"ticker\":{\"id\":\"2d884efd-8369-4507-8e0d-93d628b9bf1f\",\"type\":\"BasicTicker\"}},\"id\":\"4d8b03ec-6778-49b8-9099-f47bf0820140\",\"type\":\"Grid\"},{\"attributes\":{\"plot\":{\"id\":\"dfee2642-ab1c-4db0-87d3-c8c80a322822\",\"subtype\":\"Figure\",\"type\":\"Plot\"}},\"id\":\"151fd00e-f644-4d42-8d64-197d4e00ba00\",\"type\":\"WheelZoomTool\"},{\"attributes\":{\"callback\":null,\"start\":-1},\"id\":\"cf51da78-2986-452b-95ff-84ad5d6bf8e9\",\"type\":\"Range1d\"},{\"attributes\":{\"callback\":null,\"column_names\":[\"x\",\"y\"],\"data\":{\"x\":[],\"y\":[]}},\"id\":\"78426b48-dda5-483c-b905-314228f06e0f\",\"type\":\"ColumnDataSource\"},{\"attributes\":{\"line_color\":{\"value\":\"#1f77b4\"},\"line_width\":{\"value\":3},\"x\":{\"field\":\"x\"},\"y\":{\"field\":\"y\"}},\"id\":\"9ca6504a-95b8-4a69-bee9-ce5ea552d060\",\"type\":\"Line\"},{\"attributes\":{\"plot\":{\"id\":\"dfee2642-ab1c-4db0-87d3-c8c80a322822\",\"subtype\":\"Figure\",\"type\":\"Plot\"},\"ticker\":{\"id\":\"ffb8c53a-16d8-497a-be74-5ef16cde16e0\",\"type\":\"BasicTicker\"}},\"id\":\"83d3b507-a40e-410f-922a-a825435c5d9b\",\"type\":\"Grid\"},{\"attributes\":{},\"id\":\"d21b3863-beb7-48c5-9f0f-3ba12383f5cd\",\"type\":\"ToolEvents\"},{\"attributes\":{\"plot\":{\"id\":\"dfee2642-ab1c-4db0-87d3-c8c80a322822\",\"subtype\":\"Figure\",\"type\":\"Plot\"}},\"id\":\"f6eddbdb-f92a-4e6b-b6a0-312f101dd57e\",\"type\":\"PreviewSaveTool\"},{\"attributes\":{\"plot\":{\"id\":\"dfee2642-ab1c-4db0-87d3-c8c80a322822\",\"subtype\":\"Figure\",\"type\":\"Plot\"}},\"id\":\"6df825e1-10f0-436e-bdf4-9f67afedd424\",\"type\":\"ResizeTool\"},{\"attributes\":{\"fill_alpha\":{\"value\":0.1},\"fill_color\":{\"value\":\"#1f77b4\"},\"line_alpha\":{\"value\":0.1},\"line_color\":{\"value\":\"#1f77b4\"},\"line_width\":{\"value\":3},\"xs\":{\"field\":\"xs\"},\"ys\":{\"field\":\"ys\"}},\"id\":\"a8442cf6-4406-4fc5-bfaa-72c8bd51ad46\",\"type\":\"Patches\"},{\"attributes\":{},\"id\":\"a96cb454-a1b3-4da2-a82f-1ae32be42d81\",\"type\":\"BasicTicker\"},{\"attributes\":{},\"id\":\"8a52e753-111e-41bc-a611-37782bc70648\",\"type\":\"BasicTickFormatter\"},{\"attributes\":{},\"id\":\"f2b77363-264e-46a9-af48-9cd35b1005fa\",\"type\":\"BasicTicker\"},{\"attributes\":{\"callback\":null,\"end\":5,\"start\":-5},\"id\":\"3964f84e-54dc-4e6a-aaff-ff16ad92ea0b\",\"type\":\"Range1d\"},{\"attributes\":{\"data_source\":{\"id\":\"78426b48-dda5-483c-b905-314228f06e0f\",\"type\":\"ColumnDataSource\"},\"glyph\":{\"id\":\"0699a7e3-58c9-4da6-bf3e-95715919944e\",\"type\":\"Line\"},\"hover_glyph\":null,\"nonselection_glyph\":{\"id\":\"c19b1f5d-1226-41f5-837f-d115d7781053\",\"type\":\"Line\"},\"selection_glyph\":null},\"id\":\"e1db1548-7369-4807-befa-286ace3c436e\",\"type\":\"GlyphRenderer\"},{\"attributes\":{\"formatter\":{\"id\":\"de539ccd-fc0d-41e1-b1ee-0541bfe35793\",\"type\":\"BasicTickFormatter\"},\"plot\":{\"id\":\"9ccfd11b-c405-46ef-897c-9217879fe2de\",\"subtype\":\"Figure\",\"type\":\"Plot\"},\"ticker\":{\"id\":\"a96cb454-a1b3-4da2-a82f-1ae32be42d81\",\"type\":\"BasicTicker\"}},\"id\":\"aa986c18-2491-4da3-966b-0668e0bd20dd\",\"type\":\"LinearAxis\"},{\"attributes\":{\"data_source\":{\"id\":\"0177fd83-2c75-48a7-b260-f8a6df2e8875\",\"type\":\"ColumnDataSource\"},\"glyph\":{\"id\":\"9ca6504a-95b8-4a69-bee9-ce5ea552d060\",\"type\":\"Line\"},\"hover_glyph\":null,\"nonselection_glyph\":{\"id\":\"039d127d-ae2b-47ac-8fd8-0254d10c5506\",\"type\":\"Line\"},\"selection_glyph\":null},\"id\":\"dee596c8-a640-4d47-957d-517cc234b9cb\",\"type\":\"GlyphRenderer\"},{\"attributes\":{},\"id\":\"d2d2ec3f-5f02-4622-a65f-bbef1659e75b\",\"type\":\"BasicTickFormatter\"},{\"attributes\":{\"bottom_units\":\"screen\",\"fill_alpha\":{\"value\":0.5},\"fill_color\":{\"value\":\"lightgrey\"},\"left_units\":\"screen\",\"level\":\"overlay\",\"line_alpha\":{\"value\":1.0},\"line_color\":{\"value\":\"black\"},\"line_dash\":[4,4],\"line_width\":{\"value\":2},\"plot\":null,\"render_mode\":\"css\",\"right_units\":\"screen\",\"top_units\":\"screen\"},\"id\":\"cf8ccdcb-2bd9-4674-ac80-05cf8f6d791c\",\"type\":\"BoxAnnotation\"},{\"attributes\":{\"plot\":{\"id\":\"dfee2642-ab1c-4db0-87d3-c8c80a322822\",\"subtype\":\"Figure\",\"type\":\"Plot\"}},\"id\":\"2d74c169-c506-4310-b767-5b1993aaa6bb\",\"type\":\"PanTool\"},{\"attributes\":{\"plot\":{\"id\":\"dfee2642-ab1c-4db0-87d3-c8c80a322822\",\"subtype\":\"Figure\",\"type\":\"Plot\"}},\"id\":\"1bced207-781d-4da7-829d-84105cb97812\",\"type\":\"ResetTool\"},{\"attributes\":{},\"id\":\"1490242b-c183-4e6e-8a63-b9d8f4844eeb\",\"type\":\"ToolEvents\"},{\"attributes\":{\"data_source\":{\"id\":\"6f30094d-1dda-48be-a2fa-9cf3272b2fa4\",\"type\":\"ColumnDataSource\"},\"glyph\":{\"id\":\"a7e412d2-ed9f-45ea-bd63-1bf2dd448f5a\",\"type\":\"Patches\"},\"hover_glyph\":null,\"nonselection_glyph\":{\"id\":\"8891bca6-1be3-40bd-b816-1d48ef959f5a\",\"type\":\"Patches\"},\"selection_glyph\":null},\"id\":\"0052118f-9a19-4888-941f-34924e74ed53\",\"type\":\"GlyphRenderer\"},{\"attributes\":{\"dimension\":1,\"plot\":{\"id\":\"9ccfd11b-c405-46ef-897c-9217879fe2de\",\"subtype\":\"Figure\",\"type\":\"Plot\"},\"ticker\":{\"id\":\"f2b77363-264e-46a9-af48-9cd35b1005fa\",\"type\":\"BasicTicker\"}},\"id\":\"134aab61-8a12-4939-ad57-0d83137a5824\",\"type\":\"Grid\"},{\"attributes\":{\"callback\":null,\"column_names\":[\"ys\",\"xs\"],\"data\":{\"xs\":[],\"ys\":[]}},\"id\":\"6f30094d-1dda-48be-a2fa-9cf3272b2fa4\",\"type\":\"ColumnDataSource\"},{\"attributes\":{\"fill_alpha\":{\"value\":0.3},\"fill_color\":{\"value\":\"#1f77b4\"},\"line_alpha\":{\"value\":0.3},\"line_color\":{\"value\":\"#1f77b4\"},\"line_width\":{\"value\":3},\"xs\":{\"field\":\"xs\"},\"ys\":{\"field\":\"ys\"}},\"id\":\"ca30d96f-632c-43c7-ba08-8461f103468d\",\"type\":\"Patches\"},{\"attributes\":{\"plot\":{\"id\":\"dfee2642-ab1c-4db0-87d3-c8c80a322822\",\"subtype\":\"Figure\",\"type\":\"Plot\"}},\"id\":\"b91d6c76-e96c-4a8d-a633-cf99bc1e3df6\",\"type\":\"HelpTool\"},{\"attributes\":{\"overlay\":{\"id\":\"9bcdb627-3b50-4403-b25f-43ef361422c5\",\"type\":\"BoxAnnotation\"},\"plot\":{\"id\":\"dfee2642-ab1c-4db0-87d3-c8c80a322822\",\"subtype\":\"Figure\",\"type\":\"Plot\"}},\"id\":\"55f1264a-59bd-42dd-a3f8-3f0762529514\",\"type\":\"BoxZoomTool\"},{\"attributes\":{\"formatter\":{\"id\":\"8a52e753-111e-41bc-a611-37782bc70648\",\"type\":\"BasicTickFormatter\"},\"plot\":{\"id\":\"dfee2642-ab1c-4db0-87d3-c8c80a322822\",\"subtype\":\"Figure\",\"type\":\"Plot\"},\"ticker\":{\"id\":\"2d884efd-8369-4507-8e0d-93d628b9bf1f\",\"type\":\"BasicTicker\"}},\"id\":\"872700ab-bc03-4a4f-a4fb-7b3510ad816f\",\"type\":\"LinearAxis\"},{\"attributes\":{\"plot\":{\"id\":\"9ccfd11b-c405-46ef-897c-9217879fe2de\",\"subtype\":\"Figure\",\"type\":\"Plot\"}},\"id\":\"1b41bab7-918d-465f-a09e-14cffe9eed7f\",\"type\":\"PreviewSaveTool\"},{\"attributes\":{\"data_source\":{\"id\":\"7d805a85-4c66-4554-93c9-9cfbd77c0f3e\",\"type\":\"ColumnDataSource\"},\"glyph\":{\"id\":\"ca30d96f-632c-43c7-ba08-8461f103468d\",\"type\":\"Patches\"},\"hover_glyph\":null,\"nonselection_glyph\":{\"id\":\"a8442cf6-4406-4fc5-bfaa-72c8bd51ad46\",\"type\":\"Patches\"},\"selection_glyph\":null},\"id\":\"a3b0e6e7-3299-4a91-96a2-971bf7801d40\",\"type\":\"GlyphRenderer\"},{\"attributes\":{\"callback\":null},\"id\":\"43439048-b2ed-42e1-917d-ddc80d9fc93b\",\"type\":\"Range1d\"},{\"attributes\":{\"bottom_units\":\"screen\",\"fill_alpha\":{\"value\":0.5},\"fill_color\":{\"value\":\"lightgrey\"},\"left_units\":\"screen\",\"level\":\"overlay\",\"line_alpha\":{\"value\":1.0},\"line_color\":{\"value\":\"black\"},\"line_dash\":[4,4],\"line_width\":{\"value\":2},\"plot\":null,\"render_mode\":\"css\",\"right_units\":\"screen\",\"top_units\":\"screen\"},\"id\":\"9bcdb627-3b50-4403-b25f-43ef361422c5\",\"type\":\"BoxAnnotation\"},{\"attributes\":{\"line_alpha\":{\"value\":0.1},\"line_color\":{\"value\":\"#1f77b4\"},\"line_width\":{\"value\":3},\"x\":{\"field\":\"x\"},\"y\":{\"field\":\"y\"}},\"id\":\"039d127d-ae2b-47ac-8fd8-0254d10c5506\",\"type\":\"Line\"},{\"attributes\":{\"below\":[{\"id\":\"1dcff76e-bf62-46b8-bb41-d0c0cbed9d57\",\"type\":\"LinearAxis\"}],\"left\":[{\"id\":\"872700ab-bc03-4a4f-a4fb-7b3510ad816f\",\"type\":\"LinearAxis\"}],\"plot_height\":700,\"plot_width\":700,\"renderers\":[{\"id\":\"1dcff76e-bf62-46b8-bb41-d0c0cbed9d57\",\"type\":\"LinearAxis\"},{\"id\":\"83d3b507-a40e-410f-922a-a825435c5d9b\",\"type\":\"Grid\"},{\"id\":\"872700ab-bc03-4a4f-a4fb-7b3510ad816f\",\"type\":\"LinearAxis\"},{\"id\":\"4d8b03ec-6778-49b8-9099-f47bf0820140\",\"type\":\"Grid\"},{\"id\":\"9bcdb627-3b50-4403-b25f-43ef361422c5\",\"type\":\"BoxAnnotation\"},{\"id\":\"a3b0e6e7-3299-4a91-96a2-971bf7801d40\",\"type\":\"GlyphRenderer\"},{\"id\":\"e1db1548-7369-4807-befa-286ace3c436e\",\"type\":\"GlyphRenderer\"}],\"title\":null,\"tool_events\":{\"id\":\"d21b3863-beb7-48c5-9f0f-3ba12383f5cd\",\"type\":\"ToolEvents\"},\"tools\":[{\"id\":\"2d74c169-c506-4310-b767-5b1993aaa6bb\",\"type\":\"PanTool\"},{\"id\":\"151fd00e-f644-4d42-8d64-197d4e00ba00\",\"type\":\"WheelZoomTool\"},{\"id\":\"55f1264a-59bd-42dd-a3f8-3f0762529514\",\"type\":\"BoxZoomTool\"},{\"id\":\"f6eddbdb-f92a-4e6b-b6a0-312f101dd57e\",\"type\":\"PreviewSaveTool\"},{\"id\":\"6df825e1-10f0-436e-bdf4-9f67afedd424\",\"type\":\"ResizeTool\"},{\"id\":\"1bced207-781d-4da7-829d-84105cb97812\",\"type\":\"ResetTool\"},{\"id\":\"b91d6c76-e96c-4a8d-a633-cf99bc1e3df6\",\"type\":\"HelpTool\"}],\"x_range\":{\"id\":\"cf51da78-2986-452b-95ff-84ad5d6bf8e9\",\"type\":\"Range1d\"},\"y_range\":{\"id\":\"43439048-b2ed-42e1-917d-ddc80d9fc93b\",\"type\":\"Range1d\"}},\"id\":\"dfee2642-ab1c-4db0-87d3-c8c80a322822\",\"subtype\":\"Figure\",\"type\":\"Plot\"},{\"attributes\":{\"plot\":{\"id\":\"9ccfd11b-c405-46ef-897c-9217879fe2de\",\"subtype\":\"Figure\",\"type\":\"Plot\"}},\"id\":\"ccc99222-bdfd-4608-89bf-83417b1cda70\",\"type\":\"PanTool\"},{\"attributes\":{\"callback\":null,\"column_names\":[\"x\",\"y\"],\"data\":{\"x\":[],\"y\":[]}},\"id\":\"0177fd83-2c75-48a7-b260-f8a6df2e8875\",\"type\":\"ColumnDataSource\"},{\"attributes\":{\"formatter\":{\"id\":\"04469ce3-a0a1-478e-a7bc-62db00456f21\",\"type\":\"BasicTickFormatter\"},\"plot\":{\"id\":\"9ccfd11b-c405-46ef-897c-9217879fe2de\",\"subtype\":\"Figure\",\"type\":\"Plot\"},\"ticker\":{\"id\":\"f2b77363-264e-46a9-af48-9cd35b1005fa\",\"type\":\"BasicTicker\"}},\"id\":\"a5c2d4b7-d26d-4205-b079-5780443d3634\",\"type\":\"LinearAxis\"}],\"root_ids\":[\"9ccfd11b-c405-46ef-897c-9217879fe2de\",\"dfee2642-ab1c-4db0-87d3-c8c80a322822\"]},\"title\":\"Bokeh Application\",\"version\":\"0.11.1\"}};\n",
       "            var render_items = [{\"docid\":\"e62d027e-c579-4dd6-bfb9-b30a0d716f13\",\"elementid\":\"7f298a05-535c-40ec-b670-4e90a1ae3ed1\",\"modelid\":\"dfee2642-ab1c-4db0-87d3-c8c80a322822\",\"notebook_comms_target\":\"2eaa5551-bb51-4f02-aa98-07b4d4e55115\"}];\n",
       "            \n",
       "            Bokeh.embed.embed_items(docs_json, render_items);\n",
       "        });\n",
       "      },\n",
       "      function(Bokeh) {\n",
       "      }\n",
       "    ];\n",
       "  \n",
       "    function run_inline_js() {\n",
       "      for (var i = 0; i < inline_js.length; i++) {\n",
       "        inline_js[i](window.Bokeh);\n",
       "      }\n",
       "    }\n",
       "  \n",
       "    if (window._bokeh_is_loading === 0) {\n",
       "      console.log(\"Bokeh: BokehJS loaded, going straight to plotting\");\n",
       "      run_inline_js();\n",
       "    } else {\n",
       "      load_libs(js_urls, function() {\n",
       "        console.log(\"Bokeh: BokehJS plotting callback run at\", now());\n",
       "        run_inline_js();\n",
       "      });\n",
       "    }\n",
       "  }(this));\n",
       "</script>"
      ]
     },
     "metadata": {},
     "output_type": "display_data"
    }
   ],
   "source": [
    "type_sel = widgets.Dropdown(options=dist_types, value=DistType.continuous, description='type:')\n",
    "type_sel.on_trait_change(update_type_sel, name='value')\n",
    "dist_sel = widgets.Dropdown(options=dist_options(type_sel.value), description='dist:')\n",
    "dist_sel.on_trait_change(update_dist_sel, name='value')\n",
    "func_sel = widgets.Dropdown(options=func_options(type_sel.value), description='func:')\n",
    "func_sel.on_trait_change(update_dist_sel, name='value')\n",
    "\n",
    "loc_slider = widgets.FloatSlider(value=0., min=-5.0, max=5.0, step=0.1, description='loc:')\n",
    "loc_slider.on_trait_change(update_dist_params, name='value')\n",
    "scale_slider = widgets.FloatSlider(value=1., min=0.01, max=10.0, step=0.01, description='scale:')\n",
    "scale_slider.on_trait_change(update_dist_params, name='value')\n",
    "\n",
    "dist_container = widgets.HBox()  \n",
    "dist_container.children = [type_sel, dist_sel, func_sel]\n",
    "\n",
    "param_container = widgets.VBox()\n",
    "param_container.children = [loc_slider, scale_slider]\n",
    "\n",
    "shape_param_container = widgets.HBox()\n",
    "error_text = widgets.HTML()\n",
    "\n",
    "display(dist_container)\n",
    "display(param_container)\n",
    "display(shape_param_container)\n",
    "display(error_text)\n",
    "\n",
    "fig, l_data, p_data = get_dist_fig_data()\n",
    "\n",
    "show(fig)\n",
    "dist_sel.value = dist_continuous['norm']"
   ]
  }
 ],
 "metadata": {
  "kernelspec": {
   "display_name": "Python 3",
   "language": "python",
   "name": "python3"
  },
  "language_info": {
   "codemirror_mode": {
    "name": "ipython",
    "version": 3
   },
   "file_extension": ".py",
   "mimetype": "text/x-python",
   "name": "python",
   "nbconvert_exporter": "python",
   "pygments_lexer": "ipython3",
   "version": "3.4.3"
  }
 },
 "nbformat": 4,
 "nbformat_minor": 0
}
