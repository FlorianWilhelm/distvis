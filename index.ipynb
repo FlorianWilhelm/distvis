{
 "cells": [
  {
   "cell_type": "markdown",
   "metadata": {},
   "source": [
    "# Visualizer for all SciPy distributions\n",
    "\n",
    "The awesome ``scipy.stats`` subpackage holds a lot of continuous and discrete distributions that you might never heard of. To quickly familiarize oneself with an unknown distribution plotting and *experiencing* the distribution helps a lot. \n",
    "This visualiser based on [Bokeh](http://bokeh.pydata.org/) and [ipywidgets](http://ipywidgets.readthedocs.org/) tries to make this as easy and comfortable as possible.\n",
    "\n",
    "**TL;DR**: Just run all cells and be stunned!"
   ]
  },
  {
   "cell_type": "code",
   "execution_count": 1,
   "metadata": {
    "collapsed": false
   },
   "outputs": [],
   "source": [
    "from collections import OrderedDict, defaultdict\n",
    "\n",
    "import numpy as np\n",
    "from scipy import stats\n",
    "\n",
    "from bokeh.io import output_notebook, show, push_notebook\n",
    "from bokeh.plotting import figure\n",
    "from bokeh.io import show\n",
    "\n",
    "from ipywidgets import widgets, interact, interactive\n",
    "from IPython.display import display \n",
    "\n",
    "import warnings\n",
    "warnings.simplefilter('ignore', DeprecationWarning)"
   ]
  },
  {
   "cell_type": "code",
   "execution_count": 2,
   "metadata": {
    "collapsed": false
   },
   "outputs": [
    {
     "data": {
      "text/html": [
       "\n",
       "    <div class=\"bk-banner\">\n",
       "        <a href=\"http://bokeh.pydata.org\" target=\"_blank\" class=\"bk-logo bk-logo-small bk-logo-notebook\"></a>\n",
       "        <span id=\"34b80427-b0a7-497d-a029-d0c5bcb10c12\">Loading BokehJS ...</span>\n",
       "    </div>"
      ]
     },
     "metadata": {},
     "output_type": "display_data"
    },
    {
     "data": {
      "application/javascript": [
       "\n",
       "(function(global) {\n",
       "  function now() {\n",
       "    return new Date();\n",
       "  }\n",
       "\n",
       "  if (typeof (window._bokeh_onload_callbacks) === \"undefined\") {\n",
       "    window._bokeh_onload_callbacks = [];\n",
       "  }\n",
       "\n",
       "  function run_callbacks() {\n",
       "    window._bokeh_onload_callbacks.forEach(function(callback) { callback() });\n",
       "    delete window._bokeh_onload_callbacks\n",
       "    console.info(\"Bokeh: all callbacks have finished\");\n",
       "  }\n",
       "\n",
       "  function load_libs(js_urls, callback) {\n",
       "    window._bokeh_onload_callbacks.push(callback);\n",
       "    if (window._bokeh_is_loading > 0) {\n",
       "      console.log(\"Bokeh: BokehJS is being loaded, scheduling callback at\", now());\n",
       "      return null;\n",
       "    }\n",
       "    if (js_urls == null || js_urls.length === 0) {\n",
       "      run_callbacks();\n",
       "      return null;\n",
       "    }\n",
       "    console.log(\"Bokeh: BokehJS not loaded, scheduling load and callback at\", now());\n",
       "    window._bokeh_is_loading = js_urls.length;\n",
       "    for (var i = 0; i < js_urls.length; i++) {\n",
       "      var url = js_urls[i];\n",
       "      var s = document.createElement('script');\n",
       "      s.src = url;\n",
       "      s.async = false;\n",
       "      s.onreadystatechange = s.onload = function() {\n",
       "        window._bokeh_is_loading--;\n",
       "        if (window._bokeh_is_loading === 0) {\n",
       "          console.log(\"Bokeh: all BokehJS libraries loaded\");\n",
       "          run_callbacks()\n",
       "        }\n",
       "      };\n",
       "      s.onerror = function() {\n",
       "        console.warn(\"failed to load library \" + url);\n",
       "      };\n",
       "      console.log(\"Bokeh: injecting script tag for BokehJS library: \", url);\n",
       "      document.getElementsByTagName(\"head\")[0].appendChild(s);\n",
       "    }\n",
       "  };\n",
       "\n",
       "  var js_urls = ['https://cdn.pydata.org/bokeh/release/bokeh-0.11.1.min.js', 'https://cdn.pydata.org/bokeh/release/bokeh-widgets-0.11.1.min.js', 'https://cdn.pydata.org/bokeh/release/bokeh-compiler-0.11.1.min.js'];\n",
       "\n",
       "  var inline_js = [\n",
       "    function(Bokeh) {\n",
       "      Bokeh.set_log_level(\"info\");\n",
       "    },\n",
       "    \n",
       "    function(Bokeh) {\n",
       "      Bokeh.$(\"#34b80427-b0a7-497d-a029-d0c5bcb10c12\").text(\"BokehJS successfully loaded\");\n",
       "    },\n",
       "    function(Bokeh) {\n",
       "      console.log(\"Bokeh: injecting CSS: https://cdn.pydata.org/bokeh/release/bokeh-0.11.1.min.css\");\n",
       "      Bokeh.embed.inject_css(\"https://cdn.pydata.org/bokeh/release/bokeh-0.11.1.min.css\");\n",
       "      console.log(\"Bokeh: injecting CSS: https://cdn.pydata.org/bokeh/release/bokeh-widgets-0.11.1.min.css\");\n",
       "      Bokeh.embed.inject_css(\"https://cdn.pydata.org/bokeh/release/bokeh-widgets-0.11.1.min.css\");\n",
       "    }\n",
       "  ];\n",
       "\n",
       "  function run_inline_js() {\n",
       "    for (var i = 0; i < inline_js.length; i++) {\n",
       "      inline_js[i](window.Bokeh);\n",
       "    }\n",
       "  }\n",
       "\n",
       "  if (window._bokeh_is_loading === 0) {\n",
       "    console.log(\"Bokeh: BokehJS loaded, going straight to plotting\");\n",
       "    run_inline_js();\n",
       "  } else {\n",
       "    load_libs(js_urls, function() {\n",
       "      console.log(\"Bokeh: BokehJS plotting callback run at\", now());\n",
       "      run_inline_js();\n",
       "    });\n",
       "  }\n",
       "}(this));"
      ]
     },
     "metadata": {},
     "output_type": "display_data"
    }
   ],
   "source": [
    "output_notebook()"
   ]
  },
  {
   "cell_type": "markdown",
   "metadata": {},
   "source": [
    "We start with a little introspection makes to get lists of all continuous and discrete distributions"
   ]
  },
  {
   "cell_type": "code",
   "execution_count": 3,
   "metadata": {
    "collapsed": false,
    "scrolled": true
   },
   "outputs": [
    {
     "name": "stdout",
     "output_type": "stream",
     "text": [
      "number of continuous distributions: 89\n",
      "number of discrete distributions:   13\n"
     ]
    }
   ],
   "source": [
    "dist_continuous = [getattr(stats, d) for d in dir(stats) if isinstance(getattr(stats,d), stats.rv_continuous)]\n",
    "dist_discrete = [getattr(stats, d) for d in dir(stats) if isinstance(getattr(stats,d), stats.rv_discrete)]\n",
    "print('number of continuous distributions:', len(dist_continuous))\n",
    "print('number of discrete distributions:  ', len(dist_discrete))"
   ]
  },
  {
   "cell_type": "markdown",
   "metadata": {},
   "source": [
    "Since a lot of distributions need additional shape parameters we use a nested ``defaultdict`` to define shape parameters as we go. For an undefined distribution ``DEFAULT_SHAPES`` will return ``1.0`` for all shape parameters."
   ]
  },
  {
   "cell_type": "code",
   "execution_count": 4,
   "metadata": {
    "collapsed": true
   },
   "outputs": [],
   "source": [
    "CONTINUOUS = 'continuous'\n",
    "DISCRETE = 'discrete'\n",
    "\n",
    "def make_default_shape_dict():\n",
    "    shape_param = defaultdict(lambda: 1.0)\n",
    "    return defaultdict(lambda: shape_param)\n",
    "\n",
    "DEFAULT_SHAPES = make_default_shape_dict()\n",
    "DEFAULT_SHAPES['alpha'] = {'a': 1.3}\n",
    "DEFAULT_SHAPES['beta'] = {'a': 1.5, 'b': 2.}\n",
    "\n",
    "# discrete\n",
    "DEFAULT_SHAPES['bernoulli'] = {'p': 0.7}\n",
    "DEFAULT_SHAPES['binom'] = {'n': 10, 'p': 0.7}\n",
    "DEFAULT_SHAPES['logser'] = {'p': 0.3}\n",
    "DEFAULT_SHAPES['zipf'] = {'a': 2}\n",
    "DEFAULT_SHAPES['randint'] = {'low': 0, 'high': 10}\n",
    "DEFAULT_SHAPES['nbinom'] = {'n': 10, 'p': 0.6}\n",
    "DEFAULT_SHAPES['hypergeom'] = {'n': 3, 'M': 10, 'N': 7}\n",
    "DEFAULT_SHAPES['geom'] = {'p': 0.6}"
   ]
  },
  {
   "cell_type": "markdown",
   "metadata": {},
   "source": [
    "Some utility functions to:\n",
    "* create an ordered dict of (distribution name, object) pairs,\n",
    "* flatten a list of list,\n",
    "* calculate the support of a distribution,\n",
    "* create patches, i.e. bars, from (x, y) data points\n",
    "* "
   ]
  },
  {
   "cell_type": "code",
   "execution_count": 5,
   "metadata": {
    "collapsed": false
   },
   "outputs": [],
   "source": [
    "def make_dict(dists):\n",
    "    return OrderedDict([(dist.name, dist) for dist in dists])\n",
    "\n",
    "def flatten(lst):\n",
    "    return [item for sublist in lst for item in sublist]\n",
    "\n",
    "def support(dist, *shapeargs):\n",
    "    return dist.interval(1.0, *shapeargs)\n",
    "\n",
    "def make_patches(x, y, width=0.5):\n",
    "    m = width/2\n",
    "    x = [[p-m, p-m, p+m, p+m] for p in x]\n",
    "    y = [[0, p, p, 0] for p in y]\n",
    "    return x, y\n",
    "\n",
    "def shape_params(dist):\n",
    "    if dist.shapes is not None:\n",
    "        return dist.shapes.split(', ')\n",
    "    \n",
    "def has_shape_params(dist):\n",
    "    return shape_params(dist) is not None"
   ]
  },
  {
   "cell_type": "code",
   "execution_count": null,
   "metadata": {
    "collapsed": true
   },
   "outputs": [],
   "source": []
  },
  {
   "cell_type": "code",
   "execution_count": 12,
   "metadata": {
    "collapsed": false
   },
   "outputs": [],
   "source": [
    "def get_dist_func_xy(dist, func, *shapeargs, **params):\n",
    "    # due to bug in scipy.levy_stable no keyword args\n",
    "    if func == 'ppf':\n",
    "        interval = [0., 1.]\n",
    "    else:\n",
    "        interval = list(support(dist, *shapeargs))\n",
    "    if 'scale' in params: # continuous\n",
    "        for i, x in enumerate(interval):\n",
    "            if np.isinf(x):\n",
    "                interval[i] = np.sign(x)*100\n",
    "            interval[i] += (-1)**i*1e-3\n",
    "        l, r = interval\n",
    "        x = np.linspace(l, r, 100*(r-l))\n",
    "    else: # discrete\n",
    "        for i, x in enumerate(interval):\n",
    "            if np.isinf(x):\n",
    "                interval[i] = np.sign(x)*100\n",
    "        l, r = interval        \n",
    "        x = np.arange(l+1, r+1)\n",
    "    y = getattr(dist, func)(x, *shapeargs, **params)\n",
    "    return x, y"
   ]
  },
  {
   "cell_type": "code",
   "execution_count": 13,
   "metadata": {
    "collapsed": false
   },
   "outputs": [],
   "source": [
    "def get_dist_fig_data():\n",
    "    fig = figure(width=600, height=600, title=None, x_range=(-1, 1), y_range=(0, 1))\n",
    "    ren_p = fig.patches([[]], [[]], line_width=3, alpha=0.3)\n",
    "    ren_l = fig.line([], [], line_width=3)\n",
    "    return fig, ren_l.data_source.data, ren_p.data_source.data"
   ]
  },
  {
   "cell_type": "code",
   "execution_count": 14,
   "metadata": {
    "collapsed": false
   },
   "outputs": [],
   "source": [
    "def dist_options(dist_type):\n",
    "    if dist_type == CONTINUOUS:\n",
    "        options = make_dict(dist_continuous)\n",
    "    elif dist_type == DISCRETE:\n",
    "        options = make_dict(dist_discrete)\n",
    "    else:\n",
    "        raise RuntimeError(\"Unknown distribution type: {}\".format(dist_type))\n",
    "    return options\n",
    "\n",
    "def func_options(dist_type):\n",
    "    if dist_type == CONTINUOUS:\n",
    "        return ['pdf', 'cdf', 'ppf']\n",
    "    elif dist_type == DISCRETE:\n",
    "        return ['pmf', 'cdf']\n",
    "    else:\n",
    "        raise RuntimeError(\"Unknown distribution type: {}\".format(dist_type))"
   ]
  },
  {
   "cell_type": "code",
   "execution_count": 15,
   "metadata": {
    "collapsed": true
   },
   "outputs": [],
   "source": []
  },
  {
   "cell_type": "code",
   "execution_count": 16,
   "metadata": {
    "collapsed": true
   },
   "outputs": [],
   "source": []
  },
  {
   "cell_type": "code",
   "execution_count": 19,
   "metadata": {
    "collapsed": false
   },
   "outputs": [
    {
     "data": {
      "text/html": [
       "\n",
       "\n",
       "    <div class=\"plotdiv\" id=\"4b1f5691-78da-4143-9f84-5694c56f9a4e\"></div>\n",
       "<script type=\"text/javascript\">\n",
       "  \n",
       "  (function(global) {\n",
       "    function now() {\n",
       "      return new Date();\n",
       "    }\n",
       "  \n",
       "    if (typeof (window._bokeh_onload_callbacks) === \"undefined\") {\n",
       "      window._bokeh_onload_callbacks = [];\n",
       "    }\n",
       "  \n",
       "    function run_callbacks() {\n",
       "      window._bokeh_onload_callbacks.forEach(function(callback) { callback() });\n",
       "      delete window._bokeh_onload_callbacks\n",
       "      console.info(\"Bokeh: all callbacks have finished\");\n",
       "    }\n",
       "  \n",
       "    function load_libs(js_urls, callback) {\n",
       "      window._bokeh_onload_callbacks.push(callback);\n",
       "      if (window._bokeh_is_loading > 0) {\n",
       "        console.log(\"Bokeh: BokehJS is being loaded, scheduling callback at\", now());\n",
       "        return null;\n",
       "      }\n",
       "      if (js_urls == null || js_urls.length === 0) {\n",
       "        run_callbacks();\n",
       "        return null;\n",
       "      }\n",
       "      console.log(\"Bokeh: BokehJS not loaded, scheduling load and callback at\", now());\n",
       "      window._bokeh_is_loading = js_urls.length;\n",
       "      for (var i = 0; i < js_urls.length; i++) {\n",
       "        var url = js_urls[i];\n",
       "        var s = document.createElement('script');\n",
       "        s.src = url;\n",
       "        s.async = false;\n",
       "        s.onreadystatechange = s.onload = function() {\n",
       "          window._bokeh_is_loading--;\n",
       "          if (window._bokeh_is_loading === 0) {\n",
       "            console.log(\"Bokeh: all BokehJS libraries loaded\");\n",
       "            run_callbacks()\n",
       "          }\n",
       "        };\n",
       "        s.onerror = function() {\n",
       "          console.warn(\"failed to load library \" + url);\n",
       "        };\n",
       "        console.log(\"Bokeh: injecting script tag for BokehJS library: \", url);\n",
       "        document.getElementsByTagName(\"head\")[0].appendChild(s);\n",
       "      }\n",
       "    };var element = document.getElementById(\"4b1f5691-78da-4143-9f84-5694c56f9a4e\");\n",
       "    if (element == null) {\n",
       "      console.log(\"Bokeh: ERROR: autoload.js configured with elementid '4b1f5691-78da-4143-9f84-5694c56f9a4e' but no matching script tag was found. \")\n",
       "      return false;\n",
       "    }\n",
       "  \n",
       "    var js_urls = [];\n",
       "  \n",
       "    var inline_js = [\n",
       "      function(Bokeh) {\n",
       "        Bokeh.$(function() {\n",
       "            var docs_json = {\"c2c26bf9-961b-4ca7-b4ba-ade3565023e1\":{\"roots\":{\"references\":[{\"attributes\":{\"data_source\":{\"id\":\"7b8903b3-fe24-4a59-bc1f-d2cf0d5eae56\",\"type\":\"ColumnDataSource\"},\"glyph\":{\"id\":\"7fe7487d-151e-489e-95d5-ce3dce101c43\",\"type\":\"Line\"},\"hover_glyph\":null,\"nonselection_glyph\":{\"id\":\"fe76ac8e-3433-4e89-9957-f49884cdd366\",\"type\":\"Line\"},\"selection_glyph\":null},\"id\":\"e81f7ac8-d5f0-4320-b696-65121d2cee08\",\"type\":\"GlyphRenderer\"},{\"attributes\":{\"callback\":null,\"column_names\":[\"xs\",\"ys\"],\"data\":{\"xs\":[],\"ys\":[]}},\"id\":\"d7bf5af9-748a-4e7a-96a9-730517fb32ca\",\"type\":\"ColumnDataSource\"},{\"attributes\":{\"data_source\":{\"id\":\"d7bf5af9-748a-4e7a-96a9-730517fb32ca\",\"type\":\"ColumnDataSource\"},\"glyph\":{\"id\":\"4bbd0740-6b7e-495d-ae5c-3754e7e9cc05\",\"type\":\"Patches\"},\"hover_glyph\":null,\"nonselection_glyph\":{\"id\":\"9ccd1fb0-717d-40c8-bd95-b74501057731\",\"type\":\"Patches\"},\"selection_glyph\":null},\"id\":\"04facb6a-cf72-43fa-bf6f-2cbce0cf7856\",\"type\":\"GlyphRenderer\"},{\"attributes\":{\"plot\":{\"id\":\"7f12c118-2877-4860-926b-95c297f8a014\",\"subtype\":\"Figure\",\"type\":\"Plot\"}},\"id\":\"666fe749-0526-4402-b185-8fbe53672085\",\"type\":\"ResizeTool\"},{\"attributes\":{\"line_color\":{\"value\":\"#1f77b4\"},\"line_width\":{\"value\":3},\"x\":{\"field\":\"x\"},\"y\":{\"field\":\"y\"}},\"id\":\"665d3851-4e1b-4e7e-b79b-dc413a543e64\",\"type\":\"Line\"},{\"attributes\":{\"plot\":{\"id\":\"ec757dd5-1d28-49a6-b7ff-1b0937dac629\",\"subtype\":\"Figure\",\"type\":\"Plot\"}},\"id\":\"5c1e9faa-f2e3-4b31-b579-da26e8c34295\",\"type\":\"PanTool\"},{\"attributes\":{\"data_source\":{\"id\":\"c84c46dc-1c32-41ea-bd07-b940ded4d08e\",\"type\":\"ColumnDataSource\"},\"glyph\":{\"id\":\"665d3851-4e1b-4e7e-b79b-dc413a543e64\",\"type\":\"Line\"},\"hover_glyph\":null,\"nonselection_glyph\":{\"id\":\"a9ae28a4-a478-426e-b79b-6613ccef0dcf\",\"type\":\"Line\"},\"selection_glyph\":null},\"id\":\"da00363c-4172-43f4-b24d-a06e999f4340\",\"type\":\"GlyphRenderer\"},{\"attributes\":{},\"id\":\"5f2edd5c-65d4-444a-a1ac-8bda265a8df9\",\"type\":\"BasicTickFormatter\"},{\"attributes\":{\"plot\":{\"id\":\"c03975e8-0bfa-4d67-ab76-58b786f5e9e6\",\"subtype\":\"Figure\",\"type\":\"Plot\"}},\"id\":\"efd19582-5b59-4202-a667-eb8a4a2ae657\",\"type\":\"HelpTool\"},{\"attributes\":{\"fill_alpha\":{\"value\":0.1},\"fill_color\":{\"value\":\"#1f77b4\"},\"line_alpha\":{\"value\":0.1},\"line_color\":{\"value\":\"#1f77b4\"},\"line_width\":{\"value\":3},\"xs\":{\"field\":\"xs\"},\"ys\":{\"field\":\"ys\"}},\"id\":\"9ccd1fb0-717d-40c8-bd95-b74501057731\",\"type\":\"Patches\"},{\"attributes\":{\"line_alpha\":{\"value\":0.1},\"line_color\":{\"value\":\"#1f77b4\"},\"line_width\":{\"value\":3},\"x\":{\"field\":\"x\"},\"y\":{\"field\":\"y\"}},\"id\":\"83a7e67b-eff9-4ecc-8d49-8e0674b0f776\",\"type\":\"Line\"},{\"attributes\":{},\"id\":\"6e3b3c0b-5199-4d10-aaeb-2dddde368e77\",\"type\":\"BasicTickFormatter\"},{\"attributes\":{\"overlay\":{\"id\":\"5f8c58da-0ad9-4267-b6b8-3ce7837e70de\",\"type\":\"BoxAnnotation\"},\"plot\":{\"id\":\"7f12c118-2877-4860-926b-95c297f8a014\",\"subtype\":\"Figure\",\"type\":\"Plot\"}},\"id\":\"e191dc38-edb1-423e-8c95-967769f18a1b\",\"type\":\"BoxZoomTool\"},{\"attributes\":{\"formatter\":{\"id\":\"adca9baf-e030-4e2f-a7dc-846d93b70e0a\",\"type\":\"BasicTickFormatter\"},\"plot\":{\"id\":\"7f12c118-2877-4860-926b-95c297f8a014\",\"subtype\":\"Figure\",\"type\":\"Plot\"},\"ticker\":{\"id\":\"e268af3a-12e2-4b80-a612-a14eef5773e5\",\"type\":\"BasicTicker\"}},\"id\":\"8049a3ee-bb49-4787-af85-e325513f5817\",\"type\":\"LinearAxis\"},{\"attributes\":{\"formatter\":{\"id\":\"9f27b87d-e042-49f6-acd0-6209f900af43\",\"type\":\"BasicTickFormatter\"},\"plot\":{\"id\":\"ec757dd5-1d28-49a6-b7ff-1b0937dac629\",\"subtype\":\"Figure\",\"type\":\"Plot\"},\"ticker\":{\"id\":\"f91b2938-7323-4b51-be7f-848109f2adc3\",\"type\":\"BasicTicker\"}},\"id\":\"9ab0929d-7d2c-4442-9777-f0b33a439712\",\"type\":\"LinearAxis\"},{\"attributes\":{},\"id\":\"6c812a94-c3db-41dd-b9fd-e28b9846b1ca\",\"type\":\"BasicTickFormatter\"},{\"attributes\":{\"plot\":{\"id\":\"7f12c118-2877-4860-926b-95c297f8a014\",\"subtype\":\"Figure\",\"type\":\"Plot\"}},\"id\":\"aac8e435-e910-45dc-81c4-e5f2bee1506a\",\"type\":\"PreviewSaveTool\"},{\"attributes\":{\"callback\":null},\"id\":\"2fb63422-1948-49b5-9c48-99ae5c2bffd4\",\"type\":\"Range1d\"},{\"attributes\":{\"line_color\":{\"value\":\"#1f77b4\"},\"line_width\":{\"value\":3},\"x\":{\"field\":\"x\"},\"y\":{\"field\":\"y\"}},\"id\":\"c966778a-5f21-4784-b953-0032d723257e\",\"type\":\"Line\"},{\"attributes\":{\"fill_alpha\":{\"value\":0.3},\"fill_color\":{\"value\":\"#1f77b4\"},\"line_alpha\":{\"value\":0.3},\"line_color\":{\"value\":\"#1f77b4\"},\"line_width\":{\"value\":3},\"xs\":{\"field\":\"xs\"},\"ys\":{\"field\":\"ys\"}},\"id\":\"286a013d-de2b-4705-87df-cf27933e26d8\",\"type\":\"Patches\"},{\"attributes\":{\"plot\":{\"id\":\"7f12c118-2877-4860-926b-95c297f8a014\",\"subtype\":\"Figure\",\"type\":\"Plot\"}},\"id\":\"ff324e8b-57c3-46ab-835a-c5831c7059f9\",\"type\":\"HelpTool\"},{\"attributes\":{\"dimension\":1,\"plot\":{\"id\":\"ace6a7d0-2927-4fe9-8b66-dc3513b986dd\",\"subtype\":\"Figure\",\"type\":\"Plot\"},\"ticker\":{\"id\":\"e2f7d9ee-3ea7-483a-84db-79f28a7cc137\",\"type\":\"BasicTicker\"}},\"id\":\"76a6857e-fe8f-4ad8-9358-4edf754f9269\",\"type\":\"Grid\"},{\"attributes\":{\"plot\":{\"id\":\"ec757dd5-1d28-49a6-b7ff-1b0937dac629\",\"subtype\":\"Figure\",\"type\":\"Plot\"}},\"id\":\"ad0b1fdc-1e88-4955-9b5e-92054e562ded\",\"type\":\"HelpTool\"},{\"attributes\":{\"plot\":{\"id\":\"ec757dd5-1d28-49a6-b7ff-1b0937dac629\",\"subtype\":\"Figure\",\"type\":\"Plot\"}},\"id\":\"00660f7a-cb1f-4b8c-9269-077ddee61b3d\",\"type\":\"PreviewSaveTool\"},{\"attributes\":{\"overlay\":{\"id\":\"bfc7d6ee-8c31-4732-b32f-37859af43255\",\"type\":\"BoxAnnotation\"},\"plot\":{\"id\":\"c03975e8-0bfa-4d67-ab76-58b786f5e9e6\",\"subtype\":\"Figure\",\"type\":\"Plot\"}},\"id\":\"0f7c1f77-150c-4132-9b9d-00249819ac84\",\"type\":\"BoxZoomTool\"},{\"attributes\":{\"below\":[{\"id\":\"8bab463c-03d7-4451-86e2-a6aea940b8c9\",\"type\":\"LinearAxis\"}],\"left\":[{\"id\":\"3f1eeb48-e4ac-44e1-ab29-d2fcac948cf9\",\"type\":\"LinearAxis\"}],\"renderers\":[{\"id\":\"8bab463c-03d7-4451-86e2-a6aea940b8c9\",\"type\":\"LinearAxis\"},{\"id\":\"9e80ddfe-2cad-4a3f-b0a5-4dd708e1d52c\",\"type\":\"Grid\"},{\"id\":\"3f1eeb48-e4ac-44e1-ab29-d2fcac948cf9\",\"type\":\"LinearAxis\"},{\"id\":\"76a6857e-fe8f-4ad8-9358-4edf754f9269\",\"type\":\"Grid\"},{\"id\":\"ba627995-2867-4743-a2fb-972b450371ac\",\"type\":\"BoxAnnotation\"},{\"id\":\"04facb6a-cf72-43fa-bf6f-2cbce0cf7856\",\"type\":\"GlyphRenderer\"},{\"id\":\"e81f7ac8-d5f0-4320-b696-65121d2cee08\",\"type\":\"GlyphRenderer\"}],\"title\":null,\"tool_events\":{\"id\":\"43911fa1-85d3-41b6-b1cd-1f898e881176\",\"type\":\"ToolEvents\"},\"tools\":[{\"id\":\"6d7fa59d-4f35-438a-874d-1e4ac4ae0889\",\"type\":\"PanTool\"},{\"id\":\"f7b175d1-fb73-4a3f-b02b-895baac816fd\",\"type\":\"WheelZoomTool\"},{\"id\":\"df987e18-e207-4d27-ab0a-96859c61cd98\",\"type\":\"BoxZoomTool\"},{\"id\":\"bdc4ff96-4b52-4ef3-8c66-f52d7cef70e9\",\"type\":\"PreviewSaveTool\"},{\"id\":\"39f4085b-4c19-43b3-9428-be2064ede003\",\"type\":\"ResizeTool\"},{\"id\":\"8d3fafa4-8a9f-4a2f-8912-1f03c737058d\",\"type\":\"ResetTool\"},{\"id\":\"22733960-cd98-4644-b3e0-623879ff627b\",\"type\":\"HelpTool\"}],\"x_range\":{\"id\":\"18e16b14-43a9-4096-97a0-0a11056bfc1f\",\"type\":\"Range1d\"},\"y_range\":{\"id\":\"148673cc-97f1-432d-a996-2676737b6825\",\"type\":\"Range1d\"}},\"id\":\"ace6a7d0-2927-4fe9-8b66-dc3513b986dd\",\"subtype\":\"Figure\",\"type\":\"Plot\"},{\"attributes\":{},\"id\":\"8073795b-6ac7-4484-9b28-e82bff9efbfb\",\"type\":\"BasicTickFormatter\"},{\"attributes\":{\"data_source\":{\"id\":\"d224e692-1c57-4245-bf30-6d12a830de72\",\"type\":\"ColumnDataSource\"},\"glyph\":{\"id\":\"120ee10f-6561-4ec1-a2e7-45d02bfe0230\",\"type\":\"Patches\"},\"hover_glyph\":null,\"nonselection_glyph\":{\"id\":\"a1fd2ee0-b18b-4b3e-ada0-74f7e8104651\",\"type\":\"Patches\"},\"selection_glyph\":null},\"id\":\"b2efceaa-7a82-4276-96eb-a7744bdea30f\",\"type\":\"GlyphRenderer\"},{\"attributes\":{\"line_color\":{\"value\":\"#1f77b4\"},\"line_width\":{\"value\":3},\"x\":{\"field\":\"x\"},\"y\":{\"field\":\"y\"}},\"id\":\"7fe7487d-151e-489e-95d5-ce3dce101c43\",\"type\":\"Line\"},{\"attributes\":{\"callback\":null,\"end\":1.9097676938321868,\"start\":-1.9097676938321868},\"id\":\"a3d61df5-e5d6-4927-8728-f8e4155ccfea\",\"type\":\"Range1d\"},{\"attributes\":{},\"id\":\"f65dd7ae-7223-42dd-9482-52163381f420\",\"type\":\"ToolEvents\"},{\"attributes\":{\"formatter\":{\"id\":\"6e3b3c0b-5199-4d10-aaeb-2dddde368e77\",\"type\":\"BasicTickFormatter\"},\"plot\":{\"id\":\"ace6a7d0-2927-4fe9-8b66-dc3513b986dd\",\"subtype\":\"Figure\",\"type\":\"Plot\"},\"ticker\":{\"id\":\"57ca5770-b6ac-4462-8bef-bc43d9d68996\",\"type\":\"BasicTicker\"}},\"id\":\"8bab463c-03d7-4451-86e2-a6aea940b8c9\",\"type\":\"LinearAxis\"},{\"attributes\":{\"fill_alpha\":{\"value\":0.3},\"fill_color\":{\"value\":\"#1f77b4\"},\"line_alpha\":{\"value\":0.3},\"line_color\":{\"value\":\"#1f77b4\"},\"line_width\":{\"value\":3},\"xs\":{\"field\":\"xs\"},\"ys\":{\"field\":\"ys\"}},\"id\":\"120ee10f-6561-4ec1-a2e7-45d02bfe0230\",\"type\":\"Patches\"},{\"attributes\":{},\"id\":\"adca9baf-e030-4e2f-a7dc-846d93b70e0a\",\"type\":\"BasicTickFormatter\"},{\"attributes\":{\"plot\":{\"id\":\"c03975e8-0bfa-4d67-ab76-58b786f5e9e6\",\"subtype\":\"Figure\",\"type\":\"Plot\"}},\"id\":\"6ec8e71c-5387-43a3-a120-8562232923f0\",\"type\":\"PreviewSaveTool\"},{\"attributes\":{\"callback\":null,\"end\":2.0976128791279893},\"id\":\"42cf69c5-9b81-4ca6-a227-6919c78da421\",\"type\":\"Range1d\"},{\"attributes\":{\"fill_alpha\":{\"value\":0.1},\"fill_color\":{\"value\":\"#1f77b4\"},\"line_alpha\":{\"value\":0.1},\"line_color\":{\"value\":\"#1f77b4\"},\"line_width\":{\"value\":3},\"xs\":{\"field\":\"xs\"},\"ys\":{\"field\":\"ys\"}},\"id\":\"a6f142bb-9543-43f3-9946-a9961ead16d2\",\"type\":\"Patches\"},{\"attributes\":{\"formatter\":{\"id\":\"e8660dd6-1065-4442-8235-5c5163aa0efa\",\"type\":\"BasicTickFormatter\"},\"plot\":{\"id\":\"7f12c118-2877-4860-926b-95c297f8a014\",\"subtype\":\"Figure\",\"type\":\"Plot\"},\"ticker\":{\"id\":\"993d0b4d-82db-4db2-ba92-feca38c7072c\",\"type\":\"BasicTicker\"}},\"id\":\"b325807d-baac-49f4-ab71-7b424f3ffce5\",\"type\":\"LinearAxis\"},{\"attributes\":{\"formatter\":{\"id\":\"8073795b-6ac7-4484-9b28-e82bff9efbfb\",\"type\":\"BasicTickFormatter\"},\"plot\":{\"id\":\"c03975e8-0bfa-4d67-ab76-58b786f5e9e6\",\"subtype\":\"Figure\",\"type\":\"Plot\"},\"ticker\":{\"id\":\"e74eacf1-1eef-4bb2-82a2-1fc7216e791d\",\"type\":\"BasicTicker\"}},\"id\":\"8e184fb6-cfc7-47af-b973-c928901b3014\",\"type\":\"LinearAxis\"},{\"attributes\":{},\"id\":\"3a3c25b7-b99d-4a7a-9ddd-339bdb62b67f\",\"type\":\"BasicTickFormatter\"},{\"attributes\":{\"plot\":{\"id\":\"c03975e8-0bfa-4d67-ab76-58b786f5e9e6\",\"subtype\":\"Figure\",\"type\":\"Plot\"}},\"id\":\"2d3d8c54-b2a1-41a8-9ad8-18d91faeedee\",\"type\":\"WheelZoomTool\"},{\"attributes\":{\"bottom_units\":\"screen\",\"fill_alpha\":{\"value\":0.5},\"fill_color\":{\"value\":\"lightgrey\"},\"left_units\":\"screen\",\"level\":\"overlay\",\"line_alpha\":{\"value\":1.0},\"line_color\":{\"value\":\"black\"},\"line_dash\":[4,4],\"line_width\":{\"value\":2},\"plot\":null,\"render_mode\":\"css\",\"right_units\":\"screen\",\"top_units\":\"screen\"},\"id\":\"3725d18a-3d3a-43fe-9fd8-432aa2cd4390\",\"type\":\"BoxAnnotation\"},{\"attributes\":{\"data_source\":{\"id\":\"3252e765-4ad9-419c-97b1-c079891e9b26\",\"type\":\"ColumnDataSource\"},\"glyph\":{\"id\":\"4b96a203-c2ae-45dd-bb99-5d3e39556c25\",\"type\":\"Patches\"},\"hover_glyph\":null,\"nonselection_glyph\":{\"id\":\"a6f142bb-9543-43f3-9946-a9961ead16d2\",\"type\":\"Patches\"},\"selection_glyph\":null},\"id\":\"cb86e79e-b2dd-4a0d-b538-569b4a168fbb\",\"type\":\"GlyphRenderer\"},{\"attributes\":{\"plot\":{\"id\":\"ec757dd5-1d28-49a6-b7ff-1b0937dac629\",\"subtype\":\"Figure\",\"type\":\"Plot\"}},\"id\":\"d288be21-e4f2-444e-b999-6bd32c1f8258\",\"type\":\"WheelZoomTool\"},{\"attributes\":{},\"id\":\"e268af3a-12e2-4b80-a612-a14eef5773e5\",\"type\":\"BasicTicker\"},{\"attributes\":{},\"id\":\"9f27b87d-e042-49f6-acd0-6209f900af43\",\"type\":\"BasicTickFormatter\"},{\"attributes\":{\"fill_alpha\":{\"value\":0.3},\"fill_color\":{\"value\":\"#1f77b4\"},\"line_alpha\":{\"value\":0.3},\"line_color\":{\"value\":\"#1f77b4\"},\"line_width\":{\"value\":3},\"xs\":{\"field\":\"xs\"},\"ys\":{\"field\":\"ys\"}},\"id\":\"4b96a203-c2ae-45dd-bb99-5d3e39556c25\",\"type\":\"Patches\"},{\"attributes\":{\"line_alpha\":{\"value\":0.1},\"line_color\":{\"value\":\"#1f77b4\"},\"line_width\":{\"value\":3},\"x\":{\"field\":\"x\"},\"y\":{\"field\":\"y\"}},\"id\":\"a9ae28a4-a478-426e-b79b-6613ccef0dcf\",\"type\":\"Line\"},{\"attributes\":{\"plot\":{\"id\":\"c03975e8-0bfa-4d67-ab76-58b786f5e9e6\",\"subtype\":\"Figure\",\"type\":\"Plot\"}},\"id\":\"1d62be8e-c2e6-40be-86dd-2d20aaa9927a\",\"type\":\"PanTool\"},{\"attributes\":{\"overlay\":{\"id\":\"3725d18a-3d3a-43fe-9fd8-432aa2cd4390\",\"type\":\"BoxAnnotation\"},\"plot\":{\"id\":\"ec757dd5-1d28-49a6-b7ff-1b0937dac629\",\"subtype\":\"Figure\",\"type\":\"Plot\"}},\"id\":\"55a09575-87ab-4668-8935-4fe37f24e24f\",\"type\":\"BoxZoomTool\"},{\"attributes\":{\"formatter\":{\"id\":\"3a3c25b7-b99d-4a7a-9ddd-339bdb62b67f\",\"type\":\"BasicTickFormatter\"},\"plot\":{\"id\":\"ec757dd5-1d28-49a6-b7ff-1b0937dac629\",\"subtype\":\"Figure\",\"type\":\"Plot\"},\"ticker\":{\"id\":\"9761acd3-e075-4d02-bfa5-3e2c8a250a54\",\"type\":\"BasicTicker\"}},\"id\":\"bb4ffe9d-e67e-4857-83d3-57d2c054167b\",\"type\":\"LinearAxis\"},{\"attributes\":{\"plot\":{\"id\":\"ace6a7d0-2927-4fe9-8b66-dc3513b986dd\",\"subtype\":\"Figure\",\"type\":\"Plot\"}},\"id\":\"bdc4ff96-4b52-4ef3-8c66-f52d7cef70e9\",\"type\":\"PreviewSaveTool\"},{\"attributes\":{\"plot\":{\"id\":\"7f12c118-2877-4860-926b-95c297f8a014\",\"subtype\":\"Figure\",\"type\":\"Plot\"},\"ticker\":{\"id\":\"e268af3a-12e2-4b80-a612-a14eef5773e5\",\"type\":\"BasicTicker\"}},\"id\":\"98fab6d5-25d0-4ca8-93ce-3912346e00f3\",\"type\":\"Grid\"},{\"attributes\":{\"below\":[{\"id\":\"93b3ea06-4738-421f-8d52-3bb3069ca301\",\"type\":\"LinearAxis\"}],\"left\":[{\"id\":\"8e184fb6-cfc7-47af-b973-c928901b3014\",\"type\":\"LinearAxis\"}],\"renderers\":[{\"id\":\"93b3ea06-4738-421f-8d52-3bb3069ca301\",\"type\":\"LinearAxis\"},{\"id\":\"d0c895d1-3e61-42e6-83f0-0323e8fc351e\",\"type\":\"Grid\"},{\"id\":\"8e184fb6-cfc7-47af-b973-c928901b3014\",\"type\":\"LinearAxis\"},{\"id\":\"29a6dcd2-0db8-4bb6-be36-261c893f0a14\",\"type\":\"Grid\"},{\"id\":\"bfc7d6ee-8c31-4732-b32f-37859af43255\",\"type\":\"BoxAnnotation\"},{\"id\":\"52c836a5-1198-4ba1-b4da-2ef726f7d362\",\"type\":\"GlyphRenderer\"},{\"id\":\"5bc6739b-d802-40f9-96f1-e2f2620056e3\",\"type\":\"GlyphRenderer\"}],\"title\":null,\"tool_events\":{\"id\":\"f65dd7ae-7223-42dd-9482-52163381f420\",\"type\":\"ToolEvents\"},\"tools\":[{\"id\":\"1d62be8e-c2e6-40be-86dd-2d20aaa9927a\",\"type\":\"PanTool\"},{\"id\":\"2d3d8c54-b2a1-41a8-9ad8-18d91faeedee\",\"type\":\"WheelZoomTool\"},{\"id\":\"0f7c1f77-150c-4132-9b9d-00249819ac84\",\"type\":\"BoxZoomTool\"},{\"id\":\"6ec8e71c-5387-43a3-a120-8562232923f0\",\"type\":\"PreviewSaveTool\"},{\"id\":\"03790d5c-a1cb-4f54-86e1-3e046091818d\",\"type\":\"ResizeTool\"},{\"id\":\"01313e39-fdfe-4adb-9383-221f88c6cdbe\",\"type\":\"ResetTool\"},{\"id\":\"efd19582-5b59-4202-a667-eb8a4a2ae657\",\"type\":\"HelpTool\"}],\"x_range\":{\"id\":\"d5b2c975-e719-448c-bb14-b8d60b75f2df\",\"type\":\"Range1d\"},\"y_range\":{\"id\":\"2fb63422-1948-49b5-9c48-99ae5c2bffd4\",\"type\":\"Range1d\"}},\"id\":\"c03975e8-0bfa-4d67-ab76-58b786f5e9e6\",\"subtype\":\"Figure\",\"type\":\"Plot\"},{\"attributes\":{\"callback\":null,\"end\":1.099,\"start\":-0.099},\"id\":\"8917ac21-8997-4603-806f-50b4840c4665\",\"type\":\"Range1d\"},{\"attributes\":{\"fill_alpha\":{\"value\":0.3},\"fill_color\":{\"value\":\"#1f77b4\"},\"line_alpha\":{\"value\":0.3},\"line_color\":{\"value\":\"#1f77b4\"},\"line_width\":{\"value\":3},\"xs\":{\"field\":\"xs\"},\"ys\":{\"field\":\"ys\"}},\"id\":\"4bbd0740-6b7e-495d-ae5c-3754e7e9cc05\",\"type\":\"Patches\"},{\"attributes\":{\"plot\":{\"id\":\"ace6a7d0-2927-4fe9-8b66-dc3513b986dd\",\"subtype\":\"Figure\",\"type\":\"Plot\"},\"ticker\":{\"id\":\"57ca5770-b6ac-4462-8bef-bc43d9d68996\",\"type\":\"BasicTicker\"}},\"id\":\"9e80ddfe-2cad-4a3f-b0a5-4dd708e1d52c\",\"type\":\"Grid\"},{\"attributes\":{},\"id\":\"f91b2938-7323-4b51-be7f-848109f2adc3\",\"type\":\"BasicTicker\"},{\"attributes\":{\"plot\":{\"id\":\"ace6a7d0-2927-4fe9-8b66-dc3513b986dd\",\"subtype\":\"Figure\",\"type\":\"Plot\"}},\"id\":\"8d3fafa4-8a9f-4a2f-8912-1f03c737058d\",\"type\":\"ResetTool\"},{\"attributes\":{},\"id\":\"993d0b4d-82db-4db2-ba92-feca38c7072c\",\"type\":\"BasicTicker\"},{\"attributes\":{\"dimension\":1,\"plot\":{\"id\":\"c03975e8-0bfa-4d67-ab76-58b786f5e9e6\",\"subtype\":\"Figure\",\"type\":\"Plot\"},\"ticker\":{\"id\":\"e74eacf1-1eef-4bb2-82a2-1fc7216e791d\",\"type\":\"BasicTicker\"}},\"id\":\"29a6dcd2-0db8-4bb6-be36-261c893f0a14\",\"type\":\"Grid\"},{\"attributes\":{\"line_alpha\":{\"value\":0.1},\"line_color\":{\"value\":\"#1f77b4\"},\"line_width\":{\"value\":3},\"x\":{\"field\":\"x\"},\"y\":{\"field\":\"y\"}},\"id\":\"e1401ad5-84b8-4d4b-83b8-cc7f8dfc82e8\",\"type\":\"Line\"},{\"attributes\":{\"plot\":{\"id\":\"c03975e8-0bfa-4d67-ab76-58b786f5e9e6\",\"subtype\":\"Figure\",\"type\":\"Plot\"}},\"id\":\"01313e39-fdfe-4adb-9383-221f88c6cdbe\",\"type\":\"ResetTool\"},{\"attributes\":{\"line_alpha\":{\"value\":0.1},\"line_color\":{\"value\":\"#1f77b4\"},\"line_width\":{\"value\":3},\"x\":{\"field\":\"x\"},\"y\":{\"field\":\"y\"}},\"id\":\"fe76ac8e-3433-4e89-9957-f49884cdd366\",\"type\":\"Line\"},{\"attributes\":{\"bottom_units\":\"screen\",\"fill_alpha\":{\"value\":0.5},\"fill_color\":{\"value\":\"lightgrey\"},\"left_units\":\"screen\",\"level\":\"overlay\",\"line_alpha\":{\"value\":1.0},\"line_color\":{\"value\":\"black\"},\"line_dash\":[4,4],\"line_width\":{\"value\":2},\"plot\":null,\"render_mode\":\"css\",\"right_units\":\"screen\",\"top_units\":\"screen\"},\"id\":\"5f8c58da-0ad9-4267-b6b8-3ce7837e70de\",\"type\":\"BoxAnnotation\"},{\"attributes\":{\"bottom_units\":\"screen\",\"fill_alpha\":{\"value\":0.5},\"fill_color\":{\"value\":\"lightgrey\"},\"left_units\":\"screen\",\"level\":\"overlay\",\"line_alpha\":{\"value\":1.0},\"line_color\":{\"value\":\"black\"},\"line_dash\":[4,4],\"line_width\":{\"value\":2},\"plot\":null,\"render_mode\":\"css\",\"right_units\":\"screen\",\"top_units\":\"screen\"},\"id\":\"ba627995-2867-4743-a2fb-972b450371ac\",\"type\":\"BoxAnnotation\"},{\"attributes\":{\"fill_alpha\":{\"value\":0.1},\"fill_color\":{\"value\":\"#1f77b4\"},\"line_alpha\":{\"value\":0.1},\"line_color\":{\"value\":\"#1f77b4\"},\"line_width\":{\"value\":3},\"xs\":{\"field\":\"xs\"},\"ys\":{\"field\":\"ys\"}},\"id\":\"998ded05-cfce-441b-a106-dbe81fffab00\",\"type\":\"Patches\"},{\"attributes\":{},\"id\":\"57ca5770-b6ac-4462-8bef-bc43d9d68996\",\"type\":\"BasicTicker\"},{\"attributes\":{\"plot\":{\"id\":\"c03975e8-0bfa-4d67-ab76-58b786f5e9e6\",\"subtype\":\"Figure\",\"type\":\"Plot\"}},\"id\":\"03790d5c-a1cb-4f54-86e1-3e046091818d\",\"type\":\"ResizeTool\"},{\"attributes\":{\"below\":[{\"id\":\"bb4ffe9d-e67e-4857-83d3-57d2c054167b\",\"type\":\"LinearAxis\"}],\"left\":[{\"id\":\"9ab0929d-7d2c-4442-9777-f0b33a439712\",\"type\":\"LinearAxis\"}],\"renderers\":[{\"id\":\"bb4ffe9d-e67e-4857-83d3-57d2c054167b\",\"type\":\"LinearAxis\"},{\"id\":\"3682d9e3-85b4-4e0c-9c39-5a87c598ab4f\",\"type\":\"Grid\"},{\"id\":\"9ab0929d-7d2c-4442-9777-f0b33a439712\",\"type\":\"LinearAxis\"},{\"id\":\"86621971-d6b1-4450-a9cf-13656ad45ece\",\"type\":\"Grid\"},{\"id\":\"3725d18a-3d3a-43fe-9fd8-432aa2cd4390\",\"type\":\"BoxAnnotation\"},{\"id\":\"b2efceaa-7a82-4276-96eb-a7744bdea30f\",\"type\":\"GlyphRenderer\"},{\"id\":\"364cf7dc-4d9b-4c16-b02a-df912f3d9dab\",\"type\":\"GlyphRenderer\"}],\"title\":null,\"tool_events\":{\"id\":\"b992dda3-e5d0-40ff-831a-49c7a30c924e\",\"type\":\"ToolEvents\"},\"tools\":[{\"id\":\"5c1e9faa-f2e3-4b31-b579-da26e8c34295\",\"type\":\"PanTool\"},{\"id\":\"d288be21-e4f2-444e-b999-6bd32c1f8258\",\"type\":\"WheelZoomTool\"},{\"id\":\"55a09575-87ab-4668-8935-4fe37f24e24f\",\"type\":\"BoxZoomTool\"},{\"id\":\"00660f7a-cb1f-4b8c-9269-077ddee61b3d\",\"type\":\"PreviewSaveTool\"},{\"id\":\"9b560860-04a7-4b6a-9506-b012f8269265\",\"type\":\"ResizeTool\"},{\"id\":\"bd578176-c578-40ea-9a13-e12953c5618c\",\"type\":\"ResetTool\"},{\"id\":\"ad0b1fdc-1e88-4955-9b5e-92054e562ded\",\"type\":\"HelpTool\"}],\"x_range\":{\"id\":\"8917ac21-8997-4603-806f-50b4840c4665\",\"type\":\"Range1d\"},\"y_range\":{\"id\":\"42cf69c5-9b81-4ca6-a227-6919c78da421\",\"type\":\"Range1d\"}},\"id\":\"ec757dd5-1d28-49a6-b7ff-1b0937dac629\",\"subtype\":\"Figure\",\"type\":\"Plot\"},{\"attributes\":{},\"id\":\"b5cbdcae-fbc2-4b95-9281-c61032257544\",\"type\":\"BasicTicker\"},{\"attributes\":{\"callback\":null,\"column_names\":[\"xs\",\"ys\"],\"data\":{\"xs\":[],\"ys\":[]}},\"id\":\"3252e765-4ad9-419c-97b1-c079891e9b26\",\"type\":\"ColumnDataSource\"},{\"attributes\":{\"formatter\":{\"id\":\"5f2edd5c-65d4-444a-a1ac-8bda265a8df9\",\"type\":\"BasicTickFormatter\"},\"plot\":{\"id\":\"ace6a7d0-2927-4fe9-8b66-dc3513b986dd\",\"subtype\":\"Figure\",\"type\":\"Plot\"},\"ticker\":{\"id\":\"e2f7d9ee-3ea7-483a-84db-79f28a7cc137\",\"type\":\"BasicTicker\"}},\"id\":\"3f1eeb48-e4ac-44e1-ab29-d2fcac948cf9\",\"type\":\"LinearAxis\"},{\"attributes\":{\"bottom_units\":\"screen\",\"fill_alpha\":{\"value\":0.5},\"fill_color\":{\"value\":\"lightgrey\"},\"left_units\":\"screen\",\"level\":\"overlay\",\"line_alpha\":{\"value\":1.0},\"line_color\":{\"value\":\"black\"},\"line_dash\":[4,4],\"line_width\":{\"value\":2},\"plot\":null,\"render_mode\":\"css\",\"right_units\":\"screen\",\"top_units\":\"screen\"},\"id\":\"bfc7d6ee-8c31-4732-b32f-37859af43255\",\"type\":\"BoxAnnotation\"},{\"attributes\":{\"callback\":null,\"column_names\":[\"y\",\"x\"],\"data\":{\"x\":[0.001,0.011183673469387756,0.02136734693877551,0.031551020408163266,0.04173469387755102,0.051918367346938776,0.06210204081632653,0.07228571428571429,0.08246938775510204,0.0926530612244898,0.10283673469387755,0.1130204081632653,0.12320408163265306,0.13338775510204082,0.14357142857142857,0.15375510204081633,0.16393877551020408,0.17412244897959184,0.1843061224489796,0.19448979591836735,0.2046734693877551,0.21485714285714286,0.2250408163265306,0.23522448979591837,0.24540816326530612,0.2555918367346939,0.26577551020408163,0.2759591836734694,0.28614285714285714,0.2963265306122449,0.30651020408163265,0.3166938775510204,0.32687755102040816,0.3370612244897959,0.3472448979591837,0.35742857142857143,0.3676122448979592,0.37779591836734694,0.3879795918367347,0.39816326530612245,0.4083469387755102,0.41853061224489796,0.4287142857142857,0.43889795918367347,0.4490816326530612,0.459265306122449,0.46944897959183673,0.4796326530612245,0.48981632653061224,0.5,0.5101836734693878,0.5203673469387755,0.5305510204081633,0.540734693877551,0.5509183673469388,0.5611020408163265,0.5712857142857143,0.581469387755102,0.5916530612244898,0.6018367346938776,0.6120204081632653,0.6222040816326531,0.6323877551020408,0.6425714285714286,0.6527551020408163,0.6629387755102041,0.6731224489795918,0.6833061224489796,0.6934897959183673,0.7036734693877551,0.7138571428571429,0.7240408163265306,0.7342244897959184,0.7444081632653061,0.7545918367346939,0.7647755102040816,0.7749591836734694,0.7851428571428571,0.7953265306122449,0.8055102040816327,0.8156938775510204,0.8258775510204082,0.8360612244897959,0.8462448979591837,0.8564285714285714,0.8666122448979592,0.8767959183673469,0.8869795918367347,0.8971632653061224,0.9073469387755102,0.917530612244898,0.9277142857142857,0.9378979591836735,0.9480816326530612,0.958265306122449,0.9684489795918367,0.9786326530612245,0.9888163265306122,0.999],\"y\":[-3.090232306167813,-2.284071198361624,-2.026293725381621,-1.8584718251993395,-1.7309011990129588,-1.6265310449216086,-1.537364471343792,-1.4589770349449647,-1.388651412581019,-1.3245931700491593,-1.2655521419383315,-1.210620676002648,-1.159117819617856,-1.1105188493669607,-1.064410327932115,-1.0204603089357993,-0.9783979311757223,-0.9379990506990045,-0.8990758794312783,-0.8614693557190679,-0.8250434224466718,-0.7896806653244509,-0.7552789392461441,-0.7217487244517301,-0.6890110298644503,-0.6569957122591885,-0.6256401153495841,-0.5948879577711176,-0.5646884166925807,-0.5349953666328336,-0.5057667424722064,-0.4769640026276885,-0.4485516735938963,-0.420496961014921,-0.39276941548189553,-0.3653406435875121,-0.33818405658491807,-0.3112746504206916,-0.28458881203289915,-0.2581041476946106,-0.23179932989243723,-0.20565395979769951,-0.17964844284441311,-0.15376387529609753,-0.12798193997990076,-0.10228480960515123,-0.07665505627458054,-0.051075565948126456,-0.025529456737575732,0.0,0.025529456737575732,0.051075565948126456,0.07665505627458054,0.10228480960515123,0.12798193997990076,0.15376387529609753,0.17964844284441311,0.20565395979769951,0.23179932989243723,0.2581041476946106,0.28458881203289915,0.3112746504206916,0.33818405658491807,0.3653406435875121,0.39276941548189553,0.420496961014921,0.4485516735938963,0.4769640026276885,0.5057667424722064,0.5349953666328336,0.5646884166925807,0.5948879577711176,0.6256401153495841,0.6569957122591885,0.6890110298644503,0.7217487244517301,0.7552789392461441,0.7896806653244509,0.8250434224466718,0.8614693557190679,0.8990758794312783,0.9379990506990045,0.9783979311757223,1.0204603089357993,1.064410327932115,1.1105188493669607,1.159117819617856,1.210620676002648,1.2655521419383315,1.3245931700491593,1.388651412581019,1.4589770349449647,1.537364471343792,1.6265310449216086,1.7309011990129588,1.8584718251993395,2.026293725381621,2.284071198361624,3.090232306167813]}},\"id\":\"c84c46dc-1c32-41ea-bd07-b940ded4d08e\",\"type\":\"ColumnDataSource\"},{\"attributes\":{\"callback\":null,\"end\":5,\"start\":-5},\"id\":\"18e16b14-43a9-4096-97a0-0a11056bfc1f\",\"type\":\"Range1d\"},{\"attributes\":{\"formatter\":{\"id\":\"6c812a94-c3db-41dd-b9fd-e28b9846b1ca\",\"type\":\"BasicTickFormatter\"},\"plot\":{\"id\":\"c03975e8-0bfa-4d67-ab76-58b786f5e9e6\",\"subtype\":\"Figure\",\"type\":\"Plot\"},\"ticker\":{\"id\":\"b5cbdcae-fbc2-4b95-9281-c61032257544\",\"type\":\"BasicTicker\"}},\"id\":\"93b3ea06-4738-421f-8d52-3bb3069ca301\",\"type\":\"LinearAxis\"},{\"attributes\":{\"plot\":{\"id\":\"ec757dd5-1d28-49a6-b7ff-1b0937dac629\",\"subtype\":\"Figure\",\"type\":\"Plot\"}},\"id\":\"9b560860-04a7-4b6a-9506-b012f8269265\",\"type\":\"ResizeTool\"},{\"attributes\":{\"plot\":{\"id\":\"c03975e8-0bfa-4d67-ab76-58b786f5e9e6\",\"subtype\":\"Figure\",\"type\":\"Plot\"},\"ticker\":{\"id\":\"b5cbdcae-fbc2-4b95-9281-c61032257544\",\"type\":\"BasicTicker\"}},\"id\":\"d0c895d1-3e61-42e6-83f0-0323e8fc351e\",\"type\":\"Grid\"},{\"attributes\":{\"below\":[{\"id\":\"8049a3ee-bb49-4787-af85-e325513f5817\",\"type\":\"LinearAxis\"}],\"left\":[{\"id\":\"b325807d-baac-49f4-ab71-7b424f3ffce5\",\"type\":\"LinearAxis\"}],\"renderers\":[{\"id\":\"8049a3ee-bb49-4787-af85-e325513f5817\",\"type\":\"LinearAxis\"},{\"id\":\"98fab6d5-25d0-4ca8-93ce-3912346e00f3\",\"type\":\"Grid\"},{\"id\":\"b325807d-baac-49f4-ab71-7b424f3ffce5\",\"type\":\"LinearAxis\"},{\"id\":\"d4f9d851-bced-4efe-b8e5-a326d276f619\",\"type\":\"Grid\"},{\"id\":\"5f8c58da-0ad9-4267-b6b8-3ce7837e70de\",\"type\":\"BoxAnnotation\"},{\"id\":\"cb86e79e-b2dd-4a0d-b538-569b4a168fbb\",\"type\":\"GlyphRenderer\"},{\"id\":\"da00363c-4172-43f4-b24d-a06e999f4340\",\"type\":\"GlyphRenderer\"}],\"title\":null,\"tool_events\":{\"id\":\"4d98d2d1-193e-4c3d-a641-c1804f584d1a\",\"type\":\"ToolEvents\"},\"tools\":[{\"id\":\"a0611e12-214b-4520-8d8e-40a28c94331a\",\"type\":\"PanTool\"},{\"id\":\"bee9581a-1033-4083-acb9-639115a41bc4\",\"type\":\"WheelZoomTool\"},{\"id\":\"e191dc38-edb1-423e-8c95-967769f18a1b\",\"type\":\"BoxZoomTool\"},{\"id\":\"aac8e435-e910-45dc-81c4-e5f2bee1506a\",\"type\":\"PreviewSaveTool\"},{\"id\":\"666fe749-0526-4402-b185-8fbe53672085\",\"type\":\"ResizeTool\"},{\"id\":\"eca13ed9-9fdc-4194-bebc-6d9f867b22a9\",\"type\":\"ResetTool\"},{\"id\":\"ff324e8b-57c3-46ab-835a-c5831c7059f9\",\"type\":\"HelpTool\"}],\"x_range\":{\"id\":\"c18f6bf9-e05c-46ae-9ce3-8e07981f466e\",\"type\":\"Range1d\"},\"y_range\":{\"id\":\"a3d61df5-e5d6-4927-8728-f8e4155ccfea\",\"type\":\"Range1d\"}},\"id\":\"7f12c118-2877-4860-926b-95c297f8a014\",\"subtype\":\"Figure\",\"type\":\"Plot\"},{\"attributes\":{\"line_color\":{\"value\":\"#1f77b4\"},\"line_width\":{\"value\":3},\"x\":{\"field\":\"x\"},\"y\":{\"field\":\"y\"}},\"id\":\"ec7c5627-965e-4e23-aa7a-cf236b5fb67f\",\"type\":\"Line\"},{\"attributes\":{},\"id\":\"e8660dd6-1065-4442-8235-5c5163aa0efa\",\"type\":\"BasicTickFormatter\"},{\"attributes\":{},\"id\":\"e74eacf1-1eef-4bb2-82a2-1fc7216e791d\",\"type\":\"BasicTicker\"},{\"attributes\":{\"callback\":null,\"end\":0.438836508441576},\"id\":\"148673cc-97f1-432d-a996-2676737b6825\",\"type\":\"Range1d\"},{\"attributes\":{\"data_source\":{\"id\":\"bdcd7089-beaf-4483-af8e-728921a70206\",\"type\":\"ColumnDataSource\"},\"glyph\":{\"id\":\"ec7c5627-965e-4e23-aa7a-cf236b5fb67f\",\"type\":\"Line\"},\"hover_glyph\":null,\"nonselection_glyph\":{\"id\":\"e1401ad5-84b8-4d4b-83b8-cc7f8dfc82e8\",\"type\":\"Line\"},\"selection_glyph\":null},\"id\":\"5bc6739b-d802-40f9-96f1-e2f2620056e3\",\"type\":\"GlyphRenderer\"},{\"attributes\":{\"data_source\":{\"id\":\"f02d4acc-afd1-4703-a52b-da6b39abc29e\",\"type\":\"ColumnDataSource\"},\"glyph\":{\"id\":\"c966778a-5f21-4784-b953-0032d723257e\",\"type\":\"Line\"},\"hover_glyph\":null,\"nonselection_glyph\":{\"id\":\"83a7e67b-eff9-4ecc-8d49-8e0674b0f776\",\"type\":\"Line\"},\"selection_glyph\":null},\"id\":\"364cf7dc-4d9b-4c16-b02a-df912f3d9dab\",\"type\":\"GlyphRenderer\"},{\"attributes\":{\"dimension\":1,\"plot\":{\"id\":\"7f12c118-2877-4860-926b-95c297f8a014\",\"subtype\":\"Figure\",\"type\":\"Plot\"},\"ticker\":{\"id\":\"993d0b4d-82db-4db2-ba92-feca38c7072c\",\"type\":\"BasicTicker\"}},\"id\":\"d4f9d851-bced-4efe-b8e5-a326d276f619\",\"type\":\"Grid\"},{\"attributes\":{\"callback\":null,\"column_names\":[\"xs\",\"ys\"],\"data\":{\"xs\":[[]],\"ys\":[[]]}},\"id\":\"460b0613-0d4c-49da-bf4b-13727989c900\",\"type\":\"ColumnDataSource\"},{\"attributes\":{\"fill_alpha\":{\"value\":0.1},\"fill_color\":{\"value\":\"#1f77b4\"},\"line_alpha\":{\"value\":0.1},\"line_color\":{\"value\":\"#1f77b4\"},\"line_width\":{\"value\":3},\"xs\":{\"field\":\"xs\"},\"ys\":{\"field\":\"ys\"}},\"id\":\"a1fd2ee0-b18b-4b3e-ada0-74f7e8104651\",\"type\":\"Patches\"},{\"attributes\":{},\"id\":\"43911fa1-85d3-41b6-b1cd-1f898e881176\",\"type\":\"ToolEvents\"},{\"attributes\":{\"plot\":{\"id\":\"ace6a7d0-2927-4fe9-8b66-dc3513b986dd\",\"subtype\":\"Figure\",\"type\":\"Plot\"}},\"id\":\"f7b175d1-fb73-4a3f-b02b-895baac816fd\",\"type\":\"WheelZoomTool\"},{\"attributes\":{\"plot\":{\"id\":\"7f12c118-2877-4860-926b-95c297f8a014\",\"subtype\":\"Figure\",\"type\":\"Plot\"}},\"id\":\"a0611e12-214b-4520-8d8e-40a28c94331a\",\"type\":\"PanTool\"},{\"attributes\":{\"overlay\":{\"id\":\"ba627995-2867-4743-a2fb-972b450371ac\",\"type\":\"BoxAnnotation\"},\"plot\":{\"id\":\"ace6a7d0-2927-4fe9-8b66-dc3513b986dd\",\"subtype\":\"Figure\",\"type\":\"Plot\"}},\"id\":\"df987e18-e207-4d27-ab0a-96859c61cd98\",\"type\":\"BoxZoomTool\"},{\"attributes\":{},\"id\":\"9761acd3-e075-4d02-bfa5-3e2c8a250a54\",\"type\":\"BasicTicker\"},{\"attributes\":{\"data_source\":{\"id\":\"460b0613-0d4c-49da-bf4b-13727989c900\",\"type\":\"ColumnDataSource\"},\"glyph\":{\"id\":\"286a013d-de2b-4705-87df-cf27933e26d8\",\"type\":\"Patches\"},\"hover_glyph\":null,\"nonselection_glyph\":{\"id\":\"998ded05-cfce-441b-a106-dbe81fffab00\",\"type\":\"Patches\"},\"selection_glyph\":null},\"id\":\"52c836a5-1198-4ba1-b4da-2ef726f7d362\",\"type\":\"GlyphRenderer\"},{\"attributes\":{\"plot\":{\"id\":\"7f12c118-2877-4860-926b-95c297f8a014\",\"subtype\":\"Figure\",\"type\":\"Plot\"}},\"id\":\"eca13ed9-9fdc-4194-bebc-6d9f867b22a9\",\"type\":\"ResetTool\"},{\"attributes\":{\"callback\":null,\"column_names\":[\"y\",\"x\"],\"data\":{\"x\":[0.001,0.011183673469387756,0.02136734693877551,0.031551020408163266,0.04173469387755102,0.051918367346938776,0.06210204081632653,0.07228571428571429,0.08246938775510204,0.0926530612244898,0.10283673469387755,0.1130204081632653,0.12320408163265306,0.13338775510204082,0.14357142857142857,0.15375510204081633,0.16393877551020408,0.17412244897959184,0.1843061224489796,0.19448979591836735,0.2046734693877551,0.21485714285714286,0.2250408163265306,0.23522448979591837,0.24540816326530612,0.2555918367346939,0.26577551020408163,0.2759591836734694,0.28614285714285714,0.2963265306122449,0.30651020408163265,0.3166938775510204,0.32687755102040816,0.3370612244897959,0.3472448979591837,0.35742857142857143,0.3676122448979592,0.37779591836734694,0.3879795918367347,0.39816326530612245,0.4083469387755102,0.41853061224489796,0.4287142857142857,0.43889795918367347,0.4490816326530612,0.459265306122449,0.46944897959183673,0.4796326530612245,0.48981632653061224,0.5,0.5101836734693878,0.5203673469387755,0.5305510204081633,0.540734693877551,0.5509183673469388,0.5611020408163265,0.5712857142857143,0.581469387755102,0.5916530612244898,0.6018367346938776,0.6120204081632653,0.6222040816326531,0.6323877551020408,0.6425714285714286,0.6527551020408163,0.6629387755102041,0.6731224489795918,0.6833061224489796,0.6934897959183673,0.7036734693877551,0.7138571428571429,0.7240408163265306,0.7342244897959184,0.7444081632653061,0.7545918367346939,0.7647755102040816,0.7749591836734694,0.7851428571428571,0.7953265306122449,0.8055102040816327,0.8156938775510204,0.8258775510204082,0.8360612244897959,0.8462448979591837,0.8564285714285714,0.8666122448979592,0.8767959183673469,0.8869795918367347,0.8971632653061224,0.9073469387755102,0.917530612244898,0.9277142857142857,0.9378979591836735,0.9480816326530612,0.958265306122449,0.9684489795918367,0.9786326530612245,0.9888163265306122,0.999],\"y\":[-1.306920799207263,-0.8877170231480445,-0.7536727371984429,-0.6664053491036566,-0.6000686234867387,-0.5457961433592364,-0.49942952509877186,-0.4586680581713816,-0.4220987345421299,-0.38878844842556287,-0.3580871138079324,-0.32952275152137706,-0.3027412662012851,-0.2774698016708195,-0.25349337052469983,-0.23063936064661567,-0.2087669242113756,-0.18775950636348238,-0.16751945730426476,-0.14796406497391534,-0.12902257967226938,-0.11063394596871451,-0.09274504840799497,-0.0753093367148997,-0.05828573552951416,-0.04163777037477806,-0.02533285998178375,-0.009341738040981151,0.006362023319857968,0.021802409350926477,0.037001293914452615,0.051978718633601956,0.0667531297311739,0.08134158027224106,0.0957599039494143,0.11002286533449368,0.12414429057584259,0.13813718178124038,0.15201381774289244,0.16578584319880246,0.17946434845593262,0.19305994090519624,0.20658280972090515,0.22004278484602927,0.2334493912104516,0.24681189900532136,0.2601393707372181,0.2734407057069742,0.2867246824964606,0.3,0.3132753175035394,0.32655929429302577,0.3398606292627819,0.3531881009946786,0.36655060878954837,0.37995721515397074,0.39341719027909483,0.40694005909480374,0.42053565154406736,0.4342141568011975,0.4479861822571075,0.46186281821875963,0.4758557094241574,0.4899771346655063,0.5042400960505857,0.518658419727759,0.5332468702688261,0.548021281366398,0.5629987060855474,0.5781975906490735,0.5936379766801421,0.6093417380409811,0.6253328599817838,0.641637770374778,0.6582857355295142,0.6753093367148997,0.6927450484079949,0.7106339459687145,0.7290225796722694,0.7479640649739153,0.7675194573042647,0.7877595063634824,0.8087669242113755,0.8306393606466156,0.8534933705246999,0.8774698016708196,0.902741266201285,0.9295227515213771,0.9580871138079323,0.9887884484255629,1.02209873454213,1.0586680581713817,1.0994295250987718,1.1457961433592365,1.2000686234867386,1.2664053491036567,1.353672737198443,1.4877170231480445,1.906920799207263]}},\"id\":\"f02d4acc-afd1-4703-a52b-da6b39abc29e\",\"type\":\"ColumnDataSource\"},{\"attributes\":{\"plot\":{\"id\":\"ace6a7d0-2927-4fe9-8b66-dc3513b986dd\",\"subtype\":\"Figure\",\"type\":\"Plot\"}},\"id\":\"39f4085b-4c19-43b3-9428-be2064ede003\",\"type\":\"ResizeTool\"},{\"attributes\":{},\"id\":\"b992dda3-e5d0-40ff-831a-49c7a30c924e\",\"type\":\"ToolEvents\"},{\"attributes\":{\"plot\":{\"id\":\"7f12c118-2877-4860-926b-95c297f8a014\",\"subtype\":\"Figure\",\"type\":\"Plot\"}},\"id\":\"bee9581a-1033-4083-acb9-639115a41bc4\",\"type\":\"WheelZoomTool\"},{\"attributes\":{\"dimension\":1,\"plot\":{\"id\":\"ec757dd5-1d28-49a6-b7ff-1b0937dac629\",\"subtype\":\"Figure\",\"type\":\"Plot\"},\"ticker\":{\"id\":\"f91b2938-7323-4b51-be7f-848109f2adc3\",\"type\":\"BasicTicker\"}},\"id\":\"86621971-d6b1-4450-a9cf-13656ad45ece\",\"type\":\"Grid\"},{\"attributes\":{\"callback\":null,\"column_names\":[\"xs\",\"ys\"],\"data\":{\"xs\":[],\"ys\":[]}},\"id\":\"d224e692-1c57-4245-bf30-6d12a830de72\",\"type\":\"ColumnDataSource\"},{\"attributes\":{\"plot\":{\"id\":\"ec757dd5-1d28-49a6-b7ff-1b0937dac629\",\"subtype\":\"Figure\",\"type\":\"Plot\"},\"ticker\":{\"id\":\"9761acd3-e075-4d02-bfa5-3e2c8a250a54\",\"type\":\"BasicTicker\"}},\"id\":\"3682d9e3-85b4-4e0c-9c39-5a87c598ab4f\",\"type\":\"Grid\"},{\"attributes\":{\"callback\":null,\"column_names\":[\"y\",\"x\"],\"data\":{\"x\":[],\"y\":[]}},\"id\":\"7b8903b3-fe24-4a59-bc1f-d2cf0d5eae56\",\"type\":\"ColumnDataSource\"},{\"attributes\":{\"callback\":null,\"start\":-1},\"id\":\"d5b2c975-e719-448c-bb14-b8d60b75f2df\",\"type\":\"Range1d\"},{\"attributes\":{},\"id\":\"e2f7d9ee-3ea7-483a-84db-79f28a7cc137\",\"type\":\"BasicTicker\"},{\"attributes\":{\"plot\":{\"id\":\"ace6a7d0-2927-4fe9-8b66-dc3513b986dd\",\"subtype\":\"Figure\",\"type\":\"Plot\"}},\"id\":\"22733960-cd98-4644-b3e0-623879ff627b\",\"type\":\"HelpTool\"},{\"attributes\":{\"plot\":{\"id\":\"ec757dd5-1d28-49a6-b7ff-1b0937dac629\",\"subtype\":\"Figure\",\"type\":\"Plot\"}},\"id\":\"bd578176-c578-40ea-9a13-e12953c5618c\",\"type\":\"ResetTool\"},{\"attributes\":{\"callback\":null,\"end\":1.099,\"start\":-0.099},\"id\":\"c18f6bf9-e05c-46ae-9ce3-8e07981f466e\",\"type\":\"Range1d\"},{\"attributes\":{\"callback\":null,\"column_names\":[\"y\",\"x\"],\"data\":{\"x\":[],\"y\":[]}},\"id\":\"bdcd7089-beaf-4483-af8e-728921a70206\",\"type\":\"ColumnDataSource\"},{\"attributes\":{\"plot\":{\"id\":\"ace6a7d0-2927-4fe9-8b66-dc3513b986dd\",\"subtype\":\"Figure\",\"type\":\"Plot\"}},\"id\":\"6d7fa59d-4f35-438a-874d-1e4ac4ae0889\",\"type\":\"PanTool\"},{\"attributes\":{},\"id\":\"4d98d2d1-193e-4c3d-a641-c1804f584d1a\",\"type\":\"ToolEvents\"}],\"root_ids\":[\"ace6a7d0-2927-4fe9-8b66-dc3513b986dd\",\"ec757dd5-1d28-49a6-b7ff-1b0937dac629\",\"7f12c118-2877-4860-926b-95c297f8a014\",\"c03975e8-0bfa-4d67-ab76-58b786f5e9e6\"]},\"title\":\"Bokeh Application\",\"version\":\"0.11.1\"}};\n",
       "            var render_items = [{\"docid\":\"c2c26bf9-961b-4ca7-b4ba-ade3565023e1\",\"elementid\":\"4b1f5691-78da-4143-9f84-5694c56f9a4e\",\"modelid\":\"c03975e8-0bfa-4d67-ab76-58b786f5e9e6\",\"notebook_comms_target\":\"9d93066a-fdfa-4aae-9134-5af7df6c3163\"}];\n",
       "            \n",
       "            Bokeh.embed.embed_items(docs_json, render_items);\n",
       "        });\n",
       "      },\n",
       "      function(Bokeh) {\n",
       "      }\n",
       "    ];\n",
       "  \n",
       "    function run_inline_js() {\n",
       "      for (var i = 0; i < inline_js.length; i++) {\n",
       "        inline_js[i](window.Bokeh);\n",
       "      }\n",
       "    }\n",
       "  \n",
       "    if (window._bokeh_is_loading === 0) {\n",
       "      console.log(\"Bokeh: BokehJS loaded, going straight to plotting\");\n",
       "      run_inline_js();\n",
       "    } else {\n",
       "      load_libs(js_urls, function() {\n",
       "        console.log(\"Bokeh: BokehJS plotting callback run at\", now());\n",
       "        run_inline_js();\n",
       "      });\n",
       "    }\n",
       "  }(this));\n",
       "</script>"
      ]
     },
     "metadata": {},
     "output_type": "display_data"
    }
   ],
   "source": [
    "def update_type_sel():\n",
    "    dist_sel.options = dist_options(type_sel.value)\n",
    "    \n",
    "def update_dist_sel():\n",
    "    func_sel.options = func_options(type_sel.value)\n",
    "    if has_shape_params(dist_sel.value):\n",
    "        shapes = OrderedDict([(p, DEFAULT_SHAPES[dist_sel.value.name][p]) for p in shape_params(dist_sel.value)])\n",
    "        text_inputs = [widgets.BoundedFloatText(value=v, description='{}:'.format(k)) for k, v in shapes.items()]\n",
    "        [w.on_trait_change(update_dist_params, name='value') for w in text_inputs]\n",
    "        shape_param_container.children = text_inputs\n",
    "    else:\n",
    "        shape_param_container.children = []\n",
    "    if type_sel.value == CONTINUOUS:\n",
    "        param_container.children = [loc_slider, scale_slider]\n",
    "    else:\n",
    "        param_container.children = []\n",
    "    update_dist_params()\n",
    "    \n",
    "\n",
    "def update_continuous(fig, data, *shapeargs):\n",
    "    data['x'], data['y'] = get_dist_func_xy(dist_sel.value, func_sel.value, *shapeargs, loc=loc_slider.value, scale=scale_slider.value)\n",
    "    fig.y_range.start, fig.y_range.end = max(np.max(data['y']) - 5, 1.1*np.min(data['y'])), min(np.min(data['y']) + 5, 1.1*np.max(data['y']))\n",
    "    offset, lim = 1e-1, 5\n",
    "    fig.x_range.start, fig.x_range.end = max(-lim, np.min(data['x']) - offset), min(lim, np.max(data['x']) + offset)\n",
    "    \n",
    "    \n",
    "def update_discrete(fig, data, *shapeargs):\n",
    "    x, y = get_dist_func_xy(dist_sel.value, func_sel.value, *shapeargs)\n",
    "    data['xs'], data['ys'] = make_patches(x, y)\n",
    "    fig.y_range.start, fig.y_range.end = 0., 1.1*max(max(data['ys']))\n",
    "    x_high_value = [x for x, y in zip(flatten(data['xs']), flatten(data['ys'])) if y > 0.001] \n",
    "    fig.x_range.start, fig.x_range.end = min(x_high_value) - 1, max(x_high_value) + 1\n",
    "    \n",
    "    \n",
    "def update_dist_params():\n",
    "    shapeargs = [c.value for c in shape_param_container.children]\n",
    "    l_data['x'], l_data['y'] = [], []\n",
    "    p_data['xs'], p_data['ys'] = [], []\n",
    "    try:\n",
    "        if type_sel.value == CONTINUOUS:\n",
    "            update_continuous(fig, l_data, *shapeargs)\n",
    "        else:\n",
    "            update_discrete(fig, p_data, *shapeargs)\n",
    "    except Exception as e:\n",
    "        error_text.value = \"Invalid parameters! Choose again.<br>ERROR: {}\".format(e)\n",
    "        error_text.visible = True\n",
    "    else:\n",
    "        error_text.visible = False\n",
    "    push_notebook()\n",
    "    \n",
    "type_sel = widgets.Dropdown(options=[CONTINUOUS, DISCRETE], value=CONTINUOUS, description='type:')\n",
    "type_sel.on_trait_change(update_type_sel, name='value')\n",
    "dist_sel = widgets.Dropdown(options=dist_options(type_sel.value), description='dist:')\n",
    "dist_sel.on_trait_change(update_dist_sel, name='value')\n",
    "func_sel = widgets.Dropdown(options=func_options(type_sel.value), description='func:')\n",
    "func_sel.on_trait_change(update_dist_sel, name='value')\n",
    "\n",
    "loc_slider = widgets.FloatSlider(value=0., min=-5.0, max=5.0, step=0.1, description='loc:')\n",
    "loc_slider.on_trait_change(update_dist_params, name='value')\n",
    "scale_slider = widgets.FloatSlider(value=1., min=0.01, max=10.0, step=0.01, description='scale:')\n",
    "scale_slider.on_trait_change(update_dist_params, name='value')\n",
    "\n",
    "dist_container = widgets.HBox()  \n",
    "dist_container.children = [type_sel, dist_sel, func_sel]\n",
    "\n",
    "param_container = widgets.VBox()\n",
    "param_container.children = [loc_slider, scale_slider]\n",
    "\n",
    "shape_param_container = widgets.HBox()\n",
    "error_text = widgets.HTML()\n",
    "\n",
    "display(dist_container)\n",
    "display(param_container)\n",
    "display(shape_param_container)\n",
    "display(error_text)\n",
    "\n",
    "fig, l_data, p_data = get_dist_fig_data()\n",
    "\n",
    "show(fig)\n",
    "dist_sel.value = make_dict(dist_continuous)['norm']"
   ]
  },
  {
   "cell_type": "code",
   "execution_count": null,
   "metadata": {
    "collapsed": true
   },
   "outputs": [],
   "source": []
  },
  {
   "cell_type": "code",
   "execution_count": null,
   "metadata": {
    "collapsed": true
   },
   "outputs": [],
   "source": []
  },
  {
   "cell_type": "code",
   "execution_count": null,
   "metadata": {
    "collapsed": true
   },
   "outputs": [],
   "source": []
  }
 ],
 "metadata": {
  "kernelspec": {
   "display_name": "Python 3",
   "language": "python",
   "name": "python3"
  },
  "language_info": {
   "codemirror_mode": {
    "name": "ipython",
    "version": 3
   },
   "file_extension": ".py",
   "mimetype": "text/x-python",
   "name": "python",
   "nbconvert_exporter": "python",
   "pygments_lexer": "ipython3",
   "version": "3.4.3"
  }
 },
 "nbformat": 4,
 "nbformat_minor": 0
}
