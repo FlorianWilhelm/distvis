{
 "cells": [
  {
   "cell_type": "markdown",
   "metadata": {},
   "source": [
    "# Visualizer for all SciPy distributions\n",
    "\n",
    "The awesome ``scipy.stats`` subpackage holds a lot of continuous and discrete distributions that you might never heard of. To quickly familiarize oneself with an unknown distribution plotting and *experiencing* the distribution helps a lot. \n",
    "This visualiser based on [Bokeh](http://bokeh.pydata.org/) and [ipywidgets](http://ipywidgets.readthedocs.org/) tries to make this as easy and comfortable as possible.\n",
    "\n",
    "**TL;DR**: Just run all cells and be stunned!"
   ]
  },
  {
   "cell_type": "code",
   "execution_count": 1,
   "metadata": {
    "collapsed": false
   },
   "outputs": [],
   "source": [
    "from collections import OrderedDict, defaultdict\n",
    "\n",
    "import numpy as np\n",
    "from scipy import stats\n",
    "\n",
    "from bokeh.io import output_notebook, show, push_notebook\n",
    "from bokeh.plotting import figure\n",
    "from bokeh.io import show\n",
    "\n",
    "from ipywidgets import widgets, interact, interactive\n",
    "from IPython.display import display \n",
    "\n",
    "import warnings\n",
    "warnings.simplefilter('ignore', DeprecationWarning)"
   ]
  },
  {
   "cell_type": "code",
   "execution_count": 2,
   "metadata": {
    "collapsed": false
   },
   "outputs": [
    {
     "data": {
      "text/html": [
       "\n",
       "    <div class=\"bk-banner\">\n",
       "        <a href=\"http://bokeh.pydata.org\" target=\"_blank\" class=\"bk-logo bk-logo-small bk-logo-notebook\"></a>\n",
       "        <span id=\"a0438db4-8aca-4709-a45c-927b2040eff4\">Loading BokehJS ...</span>\n",
       "    </div>"
      ]
     },
     "metadata": {},
     "output_type": "display_data"
    },
    {
     "data": {
      "application/javascript": [
       "\n",
       "(function(global) {\n",
       "  function now() {\n",
       "    return new Date();\n",
       "  }\n",
       "\n",
       "  if (typeof (window._bokeh_onload_callbacks) === \"undefined\") {\n",
       "    window._bokeh_onload_callbacks = [];\n",
       "  }\n",
       "\n",
       "  function run_callbacks() {\n",
       "    window._bokeh_onload_callbacks.forEach(function(callback) { callback() });\n",
       "    delete window._bokeh_onload_callbacks\n",
       "    console.info(\"Bokeh: all callbacks have finished\");\n",
       "  }\n",
       "\n",
       "  function load_libs(js_urls, callback) {\n",
       "    window._bokeh_onload_callbacks.push(callback);\n",
       "    if (window._bokeh_is_loading > 0) {\n",
       "      console.log(\"Bokeh: BokehJS is being loaded, scheduling callback at\", now());\n",
       "      return null;\n",
       "    }\n",
       "    if (js_urls == null || js_urls.length === 0) {\n",
       "      run_callbacks();\n",
       "      return null;\n",
       "    }\n",
       "    console.log(\"Bokeh: BokehJS not loaded, scheduling load and callback at\", now());\n",
       "    window._bokeh_is_loading = js_urls.length;\n",
       "    for (var i = 0; i < js_urls.length; i++) {\n",
       "      var url = js_urls[i];\n",
       "      var s = document.createElement('script');\n",
       "      s.src = url;\n",
       "      s.async = false;\n",
       "      s.onreadystatechange = s.onload = function() {\n",
       "        window._bokeh_is_loading--;\n",
       "        if (window._bokeh_is_loading === 0) {\n",
       "          console.log(\"Bokeh: all BokehJS libraries loaded\");\n",
       "          run_callbacks()\n",
       "        }\n",
       "      };\n",
       "      s.onerror = function() {\n",
       "        console.warn(\"failed to load library \" + url);\n",
       "      };\n",
       "      console.log(\"Bokeh: injecting script tag for BokehJS library: \", url);\n",
       "      document.getElementsByTagName(\"head\")[0].appendChild(s);\n",
       "    }\n",
       "  };\n",
       "\n",
       "  var js_urls = ['https://cdn.pydata.org/bokeh/release/bokeh-0.11.1.min.js', 'https://cdn.pydata.org/bokeh/release/bokeh-widgets-0.11.1.min.js', 'https://cdn.pydata.org/bokeh/release/bokeh-compiler-0.11.1.min.js'];\n",
       "\n",
       "  var inline_js = [\n",
       "    function(Bokeh) {\n",
       "      Bokeh.set_log_level(\"info\");\n",
       "    },\n",
       "    \n",
       "    function(Bokeh) {\n",
       "      Bokeh.$(\"#a0438db4-8aca-4709-a45c-927b2040eff4\").text(\"BokehJS successfully loaded\");\n",
       "    },\n",
       "    function(Bokeh) {\n",
       "      console.log(\"Bokeh: injecting CSS: https://cdn.pydata.org/bokeh/release/bokeh-0.11.1.min.css\");\n",
       "      Bokeh.embed.inject_css(\"https://cdn.pydata.org/bokeh/release/bokeh-0.11.1.min.css\");\n",
       "      console.log(\"Bokeh: injecting CSS: https://cdn.pydata.org/bokeh/release/bokeh-widgets-0.11.1.min.css\");\n",
       "      Bokeh.embed.inject_css(\"https://cdn.pydata.org/bokeh/release/bokeh-widgets-0.11.1.min.css\");\n",
       "    }\n",
       "  ];\n",
       "\n",
       "  function run_inline_js() {\n",
       "    for (var i = 0; i < inline_js.length; i++) {\n",
       "      inline_js[i](window.Bokeh);\n",
       "    }\n",
       "  }\n",
       "\n",
       "  if (window._bokeh_is_loading === 0) {\n",
       "    console.log(\"Bokeh: BokehJS loaded, going straight to plotting\");\n",
       "    run_inline_js();\n",
       "  } else {\n",
       "    load_libs(js_urls, function() {\n",
       "      console.log(\"Bokeh: BokehJS plotting callback run at\", now());\n",
       "      run_inline_js();\n",
       "    });\n",
       "  }\n",
       "}(this));"
      ]
     },
     "metadata": {},
     "output_type": "display_data"
    }
   ],
   "source": [
    "output_notebook()"
   ]
  },
  {
   "cell_type": "markdown",
   "metadata": {},
   "source": [
    "We start with a little introspection makes to get lists of all continuous and discrete distributions"
   ]
  },
  {
   "cell_type": "code",
   "execution_count": 3,
   "metadata": {
    "collapsed": false,
    "scrolled": true
   },
   "outputs": [
    {
     "name": "stdout",
     "output_type": "stream",
     "text": [
      "number of continuous distributions: 89\n",
      "number of discrete distributions:   13\n"
     ]
    }
   ],
   "source": [
    "dist_continuous = [getattr(stats, d) for d in dir(stats) if isinstance(getattr(stats,d), stats.rv_continuous)]\n",
    "dist_discrete = [getattr(stats, d) for d in dir(stats) if isinstance(getattr(stats,d), stats.rv_discrete)]\n",
    "print('number of continuous distributions:', len(dist_continuous))\n",
    "print('number of discrete distributions:  ', len(dist_discrete))"
   ]
  },
  {
   "cell_type": "markdown",
   "metadata": {},
   "source": [
    "Since a lot of distributions need additional shape parameters we use a nested ``defaultdict`` to define shape parameters as we go. For an undefined distribution ``DEFAULT_SHAPES`` will return ``1.0`` for all shape parameters."
   ]
  },
  {
   "cell_type": "code",
   "execution_count": 4,
   "metadata": {
    "collapsed": true
   },
   "outputs": [],
   "source": [
    "CONTINUOUS = 'continuous'\n",
    "DISCRETE = 'discrete'\n",
    "\n",
    "def make_default_shape_dict():\n",
    "    shape_param = defaultdict(lambda: 1.0)\n",
    "    return defaultdict(lambda: shape_param)\n",
    "\n",
    "DEFAULT_SHAPES = make_default_shape_dict()\n",
    "DEFAULT_SHAPES['alpha'] = {'a': 1.3}\n",
    "DEFAULT_SHAPES['beta'] = {'a': 1.5, 'b': 2.}\n",
    "\n",
    "# discrete\n",
    "DEFAULT_SHAPES['bernoulli'] = {'p': 0.7}\n",
    "DEFAULT_SHAPES['binom'] = {'n': 10, 'p': 0.7}\n",
    "DEFAULT_SHAPES['logser'] = {'p': 0.3}\n",
    "DEFAULT_SHAPES['zipf'] = {'a': 2}\n",
    "DEFAULT_SHAPES['randint'] = {'low': 0, 'high': 10}\n",
    "DEFAULT_SHAPES['nbinom'] = {'n': 10, 'p': 0.6}\n",
    "DEFAULT_SHAPES['hypergeom'] = {'n': 3, 'M': 10, 'N': 7}\n",
    "DEFAULT_SHAPES['geom'] = {'p': 0.6}"
   ]
  },
  {
   "cell_type": "markdown",
   "metadata": {},
   "source": [
    "Some utility functions to:\n",
    "* create an ordered dict of (distribution name, object) pairs,\n",
    "* flatten a list of list,\n",
    "* calculate the support of a distribution,\n",
    "* create patches, i.e. bars, from (x, y) data points,\n",
    "* determine the shape parameters of a distribution,\n",
    "* check if a distribution has shape parameters"
   ]
  },
  {
   "cell_type": "code",
   "execution_count": 5,
   "metadata": {
    "collapsed": false
   },
   "outputs": [],
   "source": [
    "def make_dict(dists):\n",
    "    return OrderedDict([(dist.name, dist) for dist in dists])\n",
    "\n",
    "def flatten(lst):\n",
    "    return [item for sublist in lst for item in sublist]\n",
    "\n",
    "def support(dist, *shapeargs):\n",
    "    return dist.interval(1.0, *shapeargs)\n",
    "\n",
    "def make_patches(x, y, width=0.5):\n",
    "    m = width/2\n",
    "    x = [[p-m, p-m, p+m, p+m] for p in x]\n",
    "    y = [[0, p, p, 0] for p in y]\n",
    "    return x, y\n",
    "\n",
    "def shape_params(dist):\n",
    "    if dist.shapes is not None:\n",
    "        return dist.shapes.split(', ')\n",
    "    \n",
    "def has_shape_params(dist):\n",
    "    return shape_params(dist) is not None"
   ]
  },
  {
   "cell_type": "code",
   "execution_count": null,
   "metadata": {
    "collapsed": true
   },
   "outputs": [],
   "source": []
  },
  {
   "cell_type": "code",
   "execution_count": 6,
   "metadata": {
    "collapsed": false
   },
   "outputs": [],
   "source": [
    "def get_dist_func_xy(dist, func, *shapeargs, **params):\n",
    "    # due to bug in scipy.levy_stable no keyword args\n",
    "    if func == 'ppf':\n",
    "        interval = [0., 1.]\n",
    "    else:\n",
    "        interval = list(support(dist, *shapeargs))\n",
    "    if dist in dist_continuous:\n",
    "        for i, x in enumerate(interval):\n",
    "            if np.isinf(x):\n",
    "                interval[i] = np.sign(x)*100\n",
    "            interval[i] += (-1)**i*1e-3\n",
    "        l, r = interval\n",
    "        x = np.linspace(l, r, 100*(r-l))\n",
    "    elif dist in dist_discrete:\n",
    "        for i, x in enumerate(interval):\n",
    "            if np.isinf(x):\n",
    "                interval[i] = np.sign(x)*10\n",
    "        l, r = interval        \n",
    "        x = np.arange(l+1, r+1)\n",
    "    else:\n",
    "        raise RuntimeError(\"Unknown distribution: {}\".format(dist.name))\n",
    "    y = getattr(dist, func)(x, *shapeargs, **params)\n",
    "    return x, y"
   ]
  },
  {
   "cell_type": "code",
   "execution_count": 7,
   "metadata": {
    "collapsed": false
   },
   "outputs": [],
   "source": [
    "def get_dist_fig_data():\n",
    "    fig = figure(width=600, height=600, title=None, x_range=(-1, 1), y_range=(0, 1))\n",
    "    ren_p = fig.patches([[]], [[]], line_width=3, alpha=0.3)\n",
    "    ren_l = fig.line([], [], line_width=3)\n",
    "    return fig, ren_l.data_source.data, ren_p.data_source.data"
   ]
  },
  {
   "cell_type": "code",
   "execution_count": 8,
   "metadata": {
    "collapsed": false
   },
   "outputs": [],
   "source": [
    "def dist_options(dist_type):\n",
    "    if dist_type == CONTINUOUS:\n",
    "        options = make_dict(dist_continuous)\n",
    "    elif dist_type == DISCRETE:\n",
    "        options = make_dict(dist_discrete)\n",
    "    else:\n",
    "        raise RuntimeError(\"Unknown distribution type: {}\".format(dist_type))\n",
    "    return options\n",
    "\n",
    "def func_options(dist_type):\n",
    "    if dist_type == CONTINUOUS:\n",
    "        return ['pdf', 'cdf', 'ppf']\n",
    "    elif dist_type == DISCRETE:\n",
    "        return ['pmf', 'cdf']\n",
    "    else:\n",
    "        raise RuntimeError(\"Unknown distribution type: {}\".format(dist_type))"
   ]
  },
  {
   "cell_type": "code",
   "execution_count": 9,
   "metadata": {
    "collapsed": false
   },
   "outputs": [
    {
     "data": {
      "text/html": [
       "\n",
       "\n",
       "    <div class=\"plotdiv\" id=\"02b13016-3dd8-43a6-b787-7057066dfc7a\"></div>\n",
       "<script type=\"text/javascript\">\n",
       "  \n",
       "  (function(global) {\n",
       "    function now() {\n",
       "      return new Date();\n",
       "    }\n",
       "  \n",
       "    if (typeof (window._bokeh_onload_callbacks) === \"undefined\") {\n",
       "      window._bokeh_onload_callbacks = [];\n",
       "    }\n",
       "  \n",
       "    function run_callbacks() {\n",
       "      window._bokeh_onload_callbacks.forEach(function(callback) { callback() });\n",
       "      delete window._bokeh_onload_callbacks\n",
       "      console.info(\"Bokeh: all callbacks have finished\");\n",
       "    }\n",
       "  \n",
       "    function load_libs(js_urls, callback) {\n",
       "      window._bokeh_onload_callbacks.push(callback);\n",
       "      if (window._bokeh_is_loading > 0) {\n",
       "        console.log(\"Bokeh: BokehJS is being loaded, scheduling callback at\", now());\n",
       "        return null;\n",
       "      }\n",
       "      if (js_urls == null || js_urls.length === 0) {\n",
       "        run_callbacks();\n",
       "        return null;\n",
       "      }\n",
       "      console.log(\"Bokeh: BokehJS not loaded, scheduling load and callback at\", now());\n",
       "      window._bokeh_is_loading = js_urls.length;\n",
       "      for (var i = 0; i < js_urls.length; i++) {\n",
       "        var url = js_urls[i];\n",
       "        var s = document.createElement('script');\n",
       "        s.src = url;\n",
       "        s.async = false;\n",
       "        s.onreadystatechange = s.onload = function() {\n",
       "          window._bokeh_is_loading--;\n",
       "          if (window._bokeh_is_loading === 0) {\n",
       "            console.log(\"Bokeh: all BokehJS libraries loaded\");\n",
       "            run_callbacks()\n",
       "          }\n",
       "        };\n",
       "        s.onerror = function() {\n",
       "          console.warn(\"failed to load library \" + url);\n",
       "        };\n",
       "        console.log(\"Bokeh: injecting script tag for BokehJS library: \", url);\n",
       "        document.getElementsByTagName(\"head\")[0].appendChild(s);\n",
       "      }\n",
       "    };var element = document.getElementById(\"02b13016-3dd8-43a6-b787-7057066dfc7a\");\n",
       "    if (element == null) {\n",
       "      console.log(\"Bokeh: ERROR: autoload.js configured with elementid '02b13016-3dd8-43a6-b787-7057066dfc7a' but no matching script tag was found. \")\n",
       "      return false;\n",
       "    }\n",
       "  \n",
       "    var js_urls = [];\n",
       "  \n",
       "    var inline_js = [\n",
       "      function(Bokeh) {\n",
       "        Bokeh.$(function() {\n",
       "            var docs_json = {\"522b357d-048d-4f41-b356-f3d77a82510b\":{\"roots\":{\"references\":[{\"attributes\":{\"data_source\":{\"id\":\"d7195e9a-c603-4cb2-949a-7af264ad9138\",\"type\":\"ColumnDataSource\"},\"glyph\":{\"id\":\"cb505221-0015-46d1-84ff-1d831e56b38e\",\"type\":\"Patches\"},\"hover_glyph\":null,\"nonselection_glyph\":{\"id\":\"357e44f1-6d64-4893-8361-dbbedb7a0b9b\",\"type\":\"Patches\"},\"selection_glyph\":null},\"id\":\"933085ca-6164-4a70-a6cd-68666245aa99\",\"type\":\"GlyphRenderer\"},{\"attributes\":{\"line_alpha\":{\"value\":0.1},\"line_color\":{\"value\":\"#1f77b4\"},\"line_width\":{\"value\":3},\"x\":{\"field\":\"x\"},\"y\":{\"field\":\"y\"}},\"id\":\"a36b278a-767c-4c21-a6c8-cb4d139cbe3e\",\"type\":\"Line\"},{\"attributes\":{},\"id\":\"271fa95c-5804-454b-903b-820725a4cd39\",\"type\":\"ToolEvents\"},{\"attributes\":{\"line_color\":{\"value\":\"#1f77b4\"},\"line_width\":{\"value\":3},\"x\":{\"field\":\"x\"},\"y\":{\"field\":\"y\"}},\"id\":\"23b19ae9-0c0b-437b-817e-dc3470abcd23\",\"type\":\"Line\"},{\"attributes\":{\"below\":[{\"id\":\"806f8a34-7a66-4375-acce-fe599800d144\",\"type\":\"LinearAxis\"}],\"left\":[{\"id\":\"99cbdaa6-0dd9-44ec-95d7-312fb80af7fd\",\"type\":\"LinearAxis\"}],\"renderers\":[{\"id\":\"806f8a34-7a66-4375-acce-fe599800d144\",\"type\":\"LinearAxis\"},{\"id\":\"4615f182-ef37-4e20-b900-3577eecc2493\",\"type\":\"Grid\"},{\"id\":\"99cbdaa6-0dd9-44ec-95d7-312fb80af7fd\",\"type\":\"LinearAxis\"},{\"id\":\"f52d0657-b0ec-4015-ad8a-02e0dc6567e7\",\"type\":\"Grid\"},{\"id\":\"c5f230a7-0ead-4aea-bc5a-5d816a46159e\",\"type\":\"BoxAnnotation\"},{\"id\":\"933085ca-6164-4a70-a6cd-68666245aa99\",\"type\":\"GlyphRenderer\"},{\"id\":\"6ed34f0f-3fe0-40ea-9261-96b6b38be8e8\",\"type\":\"GlyphRenderer\"}],\"title\":null,\"tool_events\":{\"id\":\"271fa95c-5804-454b-903b-820725a4cd39\",\"type\":\"ToolEvents\"},\"tools\":[{\"id\":\"1773eaf0-f0ba-4d73-9c2e-2e1d177ef224\",\"type\":\"PanTool\"},{\"id\":\"fbec7294-30c1-48ab-8597-4581307d1c55\",\"type\":\"WheelZoomTool\"},{\"id\":\"9791efaa-e9f6-4c0e-89e0-ae04dfab2ed9\",\"type\":\"BoxZoomTool\"},{\"id\":\"931a1827-34f3-4fcb-a322-fa060e03c56f\",\"type\":\"PreviewSaveTool\"},{\"id\":\"c6db44fe-311b-45e8-80ff-368bc8c43ebd\",\"type\":\"ResizeTool\"},{\"id\":\"b201b2fe-a4d6-4017-a5ff-5ebfccf6d40d\",\"type\":\"ResetTool\"},{\"id\":\"32bdfbd3-655e-437e-8cb3-2e0a01309830\",\"type\":\"HelpTool\"}],\"x_range\":{\"id\":\"74438257-922c-424d-b81d-2c2fd759c955\",\"type\":\"Range1d\"},\"y_range\":{\"id\":\"5d816293-fb35-4665-9ec3-1533507ee257\",\"type\":\"Range1d\"}},\"id\":\"7ced2e2c-349c-472f-931a-f9696a1bb2c5\",\"subtype\":\"Figure\",\"type\":\"Plot\"},{\"attributes\":{\"callback\":null},\"id\":\"5d816293-fb35-4665-9ec3-1533507ee257\",\"type\":\"Range1d\"},{\"attributes\":{\"bottom_units\":\"screen\",\"fill_alpha\":{\"value\":0.5},\"fill_color\":{\"value\":\"lightgrey\"},\"left_units\":\"screen\",\"level\":\"overlay\",\"line_alpha\":{\"value\":1.0},\"line_color\":{\"value\":\"black\"},\"line_dash\":[4,4],\"line_width\":{\"value\":2},\"plot\":null,\"render_mode\":\"css\",\"right_units\":\"screen\",\"top_units\":\"screen\"},\"id\":\"c5f230a7-0ead-4aea-bc5a-5d816a46159e\",\"type\":\"BoxAnnotation\"},{\"attributes\":{\"plot\":{\"id\":\"7ced2e2c-349c-472f-931a-f9696a1bb2c5\",\"subtype\":\"Figure\",\"type\":\"Plot\"}},\"id\":\"fbec7294-30c1-48ab-8597-4581307d1c55\",\"type\":\"WheelZoomTool\"},{\"attributes\":{\"callback\":null,\"start\":-1},\"id\":\"74438257-922c-424d-b81d-2c2fd759c955\",\"type\":\"Range1d\"},{\"attributes\":{},\"id\":\"0dda0c00-e8ca-4475-82b0-17c1f05499bd\",\"type\":\"BasicTickFormatter\"},{\"attributes\":{\"fill_alpha\":{\"value\":0.3},\"fill_color\":{\"value\":\"#1f77b4\"},\"line_alpha\":{\"value\":0.3},\"line_color\":{\"value\":\"#1f77b4\"},\"line_width\":{\"value\":3},\"xs\":{\"field\":\"xs\"},\"ys\":{\"field\":\"ys\"}},\"id\":\"cb505221-0015-46d1-84ff-1d831e56b38e\",\"type\":\"Patches\"},{\"attributes\":{},\"id\":\"b120ea3e-30dd-4ec6-a5b8-0c31872363c3\",\"type\":\"BasicTicker\"},{\"attributes\":{\"plot\":{\"id\":\"7ced2e2c-349c-472f-931a-f9696a1bb2c5\",\"subtype\":\"Figure\",\"type\":\"Plot\"},\"ticker\":{\"id\":\"44e16b5b-10cc-4c64-b797-2d9cb5850f30\",\"type\":\"BasicTicker\"}},\"id\":\"4615f182-ef37-4e20-b900-3577eecc2493\",\"type\":\"Grid\"},{\"attributes\":{},\"id\":\"4815ba58-8e5b-4a65-8e3f-3a0f0190667b\",\"type\":\"BasicTickFormatter\"},{\"attributes\":{\"callback\":null,\"column_names\":[\"xs\",\"ys\"],\"data\":{\"xs\":[[]],\"ys\":[[]]}},\"id\":\"d7195e9a-c603-4cb2-949a-7af264ad9138\",\"type\":\"ColumnDataSource\"},{\"attributes\":{\"plot\":{\"id\":\"7ced2e2c-349c-472f-931a-f9696a1bb2c5\",\"subtype\":\"Figure\",\"type\":\"Plot\"}},\"id\":\"32bdfbd3-655e-437e-8cb3-2e0a01309830\",\"type\":\"HelpTool\"},{\"attributes\":{\"plot\":{\"id\":\"7ced2e2c-349c-472f-931a-f9696a1bb2c5\",\"subtype\":\"Figure\",\"type\":\"Plot\"}},\"id\":\"1773eaf0-f0ba-4d73-9c2e-2e1d177ef224\",\"type\":\"PanTool\"},{\"attributes\":{\"plot\":{\"id\":\"7ced2e2c-349c-472f-931a-f9696a1bb2c5\",\"subtype\":\"Figure\",\"type\":\"Plot\"}},\"id\":\"c6db44fe-311b-45e8-80ff-368bc8c43ebd\",\"type\":\"ResizeTool\"},{\"attributes\":{\"callback\":null,\"column_names\":[\"y\",\"x\"],\"data\":{\"x\":[],\"y\":[]}},\"id\":\"5e94dd7b-36af-490e-b011-227aecceee82\",\"type\":\"ColumnDataSource\"},{\"attributes\":{\"overlay\":{\"id\":\"c5f230a7-0ead-4aea-bc5a-5d816a46159e\",\"type\":\"BoxAnnotation\"},\"plot\":{\"id\":\"7ced2e2c-349c-472f-931a-f9696a1bb2c5\",\"subtype\":\"Figure\",\"type\":\"Plot\"}},\"id\":\"9791efaa-e9f6-4c0e-89e0-ae04dfab2ed9\",\"type\":\"BoxZoomTool\"},{\"attributes\":{\"dimension\":1,\"plot\":{\"id\":\"7ced2e2c-349c-472f-931a-f9696a1bb2c5\",\"subtype\":\"Figure\",\"type\":\"Plot\"},\"ticker\":{\"id\":\"b120ea3e-30dd-4ec6-a5b8-0c31872363c3\",\"type\":\"BasicTicker\"}},\"id\":\"f52d0657-b0ec-4015-ad8a-02e0dc6567e7\",\"type\":\"Grid\"},{\"attributes\":{\"formatter\":{\"id\":\"4815ba58-8e5b-4a65-8e3f-3a0f0190667b\",\"type\":\"BasicTickFormatter\"},\"plot\":{\"id\":\"7ced2e2c-349c-472f-931a-f9696a1bb2c5\",\"subtype\":\"Figure\",\"type\":\"Plot\"},\"ticker\":{\"id\":\"44e16b5b-10cc-4c64-b797-2d9cb5850f30\",\"type\":\"BasicTicker\"}},\"id\":\"806f8a34-7a66-4375-acce-fe599800d144\",\"type\":\"LinearAxis\"},{\"attributes\":{\"plot\":{\"id\":\"7ced2e2c-349c-472f-931a-f9696a1bb2c5\",\"subtype\":\"Figure\",\"type\":\"Plot\"}},\"id\":\"931a1827-34f3-4fcb-a322-fa060e03c56f\",\"type\":\"PreviewSaveTool\"},{\"attributes\":{\"data_source\":{\"id\":\"5e94dd7b-36af-490e-b011-227aecceee82\",\"type\":\"ColumnDataSource\"},\"glyph\":{\"id\":\"23b19ae9-0c0b-437b-817e-dc3470abcd23\",\"type\":\"Line\"},\"hover_glyph\":null,\"nonselection_glyph\":{\"id\":\"a36b278a-767c-4c21-a6c8-cb4d139cbe3e\",\"type\":\"Line\"},\"selection_glyph\":null},\"id\":\"6ed34f0f-3fe0-40ea-9261-96b6b38be8e8\",\"type\":\"GlyphRenderer\"},{\"attributes\":{\"fill_alpha\":{\"value\":0.1},\"fill_color\":{\"value\":\"#1f77b4\"},\"line_alpha\":{\"value\":0.1},\"line_color\":{\"value\":\"#1f77b4\"},\"line_width\":{\"value\":3},\"xs\":{\"field\":\"xs\"},\"ys\":{\"field\":\"ys\"}},\"id\":\"357e44f1-6d64-4893-8361-dbbedb7a0b9b\",\"type\":\"Patches\"},{\"attributes\":{},\"id\":\"44e16b5b-10cc-4c64-b797-2d9cb5850f30\",\"type\":\"BasicTicker\"},{\"attributes\":{\"formatter\":{\"id\":\"0dda0c00-e8ca-4475-82b0-17c1f05499bd\",\"type\":\"BasicTickFormatter\"},\"plot\":{\"id\":\"7ced2e2c-349c-472f-931a-f9696a1bb2c5\",\"subtype\":\"Figure\",\"type\":\"Plot\"},\"ticker\":{\"id\":\"b120ea3e-30dd-4ec6-a5b8-0c31872363c3\",\"type\":\"BasicTicker\"}},\"id\":\"99cbdaa6-0dd9-44ec-95d7-312fb80af7fd\",\"type\":\"LinearAxis\"},{\"attributes\":{\"plot\":{\"id\":\"7ced2e2c-349c-472f-931a-f9696a1bb2c5\",\"subtype\":\"Figure\",\"type\":\"Plot\"}},\"id\":\"b201b2fe-a4d6-4017-a5ff-5ebfccf6d40d\",\"type\":\"ResetTool\"}],\"root_ids\":[\"7ced2e2c-349c-472f-931a-f9696a1bb2c5\"]},\"title\":\"Bokeh Application\",\"version\":\"0.11.1\"}};\n",
       "            var render_items = [{\"docid\":\"522b357d-048d-4f41-b356-f3d77a82510b\",\"elementid\":\"02b13016-3dd8-43a6-b787-7057066dfc7a\",\"modelid\":\"7ced2e2c-349c-472f-931a-f9696a1bb2c5\",\"notebook_comms_target\":\"5bfefe19-f01b-4699-af61-ed5586a5d191\"}];\n",
       "            \n",
       "            Bokeh.embed.embed_items(docs_json, render_items);\n",
       "        });\n",
       "      },\n",
       "      function(Bokeh) {\n",
       "      }\n",
       "    ];\n",
       "  \n",
       "    function run_inline_js() {\n",
       "      for (var i = 0; i < inline_js.length; i++) {\n",
       "        inline_js[i](window.Bokeh);\n",
       "      }\n",
       "    }\n",
       "  \n",
       "    if (window._bokeh_is_loading === 0) {\n",
       "      console.log(\"Bokeh: BokehJS loaded, going straight to plotting\");\n",
       "      run_inline_js();\n",
       "    } else {\n",
       "      load_libs(js_urls, function() {\n",
       "        console.log(\"Bokeh: BokehJS plotting callback run at\", now());\n",
       "        run_inline_js();\n",
       "      });\n",
       "    }\n",
       "  }(this));\n",
       "</script>"
      ]
     },
     "metadata": {},
     "output_type": "display_data"
    }
   ],
   "source": [
    "def update_type_sel():\n",
    "    dist_sel.options = dist_options(type_sel.value)\n",
    "    \n",
    "def update_dist_sel():\n",
    "    func_sel.options = func_options(type_sel.value)\n",
    "    if has_shape_params(dist_sel.value):\n",
    "        shapes = OrderedDict([(p, DEFAULT_SHAPES[dist_sel.value.name][p]) for p in shape_params(dist_sel.value)])\n",
    "        text_inputs = [widgets.BoundedFloatText(value=v, description='{}:'.format(k)) for k, v in shapes.items()]\n",
    "        [w.on_trait_change(update_dist_params, name='value') for w in text_inputs]\n",
    "        shape_param_container.children = text_inputs\n",
    "    else:\n",
    "        shape_param_container.children = []\n",
    "    if type_sel.value == CONTINUOUS:\n",
    "        param_container.children = [loc_slider, scale_slider]\n",
    "    else:\n",
    "        param_container.children = []\n",
    "    update_dist_params()\n",
    "    \n",
    "\n",
    "def update_continuous(fig, data, *shapeargs):\n",
    "    data['x'], data['y'] = get_dist_func_xy(dist_sel.value, func_sel.value, *shapeargs, loc=loc_slider.value, scale=scale_slider.value)\n",
    "    fig.y_range.start, fig.y_range.end = max(np.max(data['y']) - 5, 1.1*np.min(data['y'])), min(np.min(data['y']) + 5, 1.1*np.max(data['y']))\n",
    "    offset, lim = 1e-1, 5\n",
    "    fig.x_range.start, fig.x_range.end = max(-lim, np.min(data['x']) - offset), min(lim, np.max(data['x']) + offset)\n",
    "    \n",
    "    \n",
    "def update_discrete(fig, data, *shapeargs):\n",
    "    x, y = get_dist_func_xy(dist_sel.value, func_sel.value, *shapeargs)\n",
    "    data['xs'], data['ys'] = make_patches(x, y)\n",
    "    fig.y_range.start, fig.y_range.end = 0., 1.1*max(max(data['ys']))\n",
    "    x_high_value = [x for x, y in zip(flatten(data['xs']), flatten(data['ys'])) if y > 0.001] \n",
    "    fig.x_range.start, fig.x_range.end = min(x_high_value) - 1, max(x_high_value) + 1\n",
    "    \n",
    "    \n",
    "def update_dist_params():\n",
    "    shapeargs = [c.value for c in shape_param_container.children]\n",
    "    l_data['x'], l_data['y'] = [], []\n",
    "    p_data['xs'], p_data['ys'] = [], []\n",
    "    try:\n",
    "        if type_sel.value == CONTINUOUS:\n",
    "            update_continuous(fig, l_data, *shapeargs)\n",
    "        else:\n",
    "            update_discrete(fig, p_data, *shapeargs)\n",
    "    except Exception as e:\n",
    "        error_text.value = \"Invalid parameters! Choose again.<br>ERROR: {}\".format(e)\n",
    "        error_text.visible = True\n",
    "    else:\n",
    "        error_text.visible = False\n",
    "    push_notebook()\n",
    "    \n",
    "type_sel = widgets.Dropdown(options=[CONTINUOUS, DISCRETE], value=CONTINUOUS, description='type:')\n",
    "type_sel.on_trait_change(update_type_sel, name='value')\n",
    "dist_sel = widgets.Dropdown(options=dist_options(type_sel.value), description='dist:')\n",
    "dist_sel.on_trait_change(update_dist_sel, name='value')\n",
    "func_sel = widgets.Dropdown(options=func_options(type_sel.value), description='func:')\n",
    "func_sel.on_trait_change(update_dist_sel, name='value')\n",
    "\n",
    "loc_slider = widgets.FloatSlider(value=0., min=-5.0, max=5.0, step=0.1, description='loc:')\n",
    "loc_slider.on_trait_change(update_dist_params, name='value')\n",
    "scale_slider = widgets.FloatSlider(value=1., min=0.01, max=10.0, step=0.01, description='scale:')\n",
    "scale_slider.on_trait_change(update_dist_params, name='value')\n",
    "\n",
    "dist_container = widgets.HBox()  \n",
    "dist_container.children = [type_sel, dist_sel, func_sel]\n",
    "\n",
    "param_container = widgets.VBox()\n",
    "param_container.children = [loc_slider, scale_slider]\n",
    "\n",
    "shape_param_container = widgets.HBox()\n",
    "error_text = widgets.HTML()\n",
    "\n",
    "display(dist_container)\n",
    "display(param_container)\n",
    "display(shape_param_container)\n",
    "display(error_text)\n",
    "\n",
    "fig, l_data, p_data = get_dist_fig_data()\n",
    "\n",
    "show(fig)\n",
    "dist_sel.value = make_dict(dist_continuous)['norm']"
   ]
  }
 ],
 "metadata": {
  "kernelspec": {
   "display_name": "Python 3",
   "language": "python",
   "name": "python3"
  },
  "language_info": {
   "codemirror_mode": {
    "name": "ipython",
    "version": 3
   },
   "file_extension": ".py",
   "mimetype": "text/x-python",
   "name": "python",
   "nbconvert_exporter": "python",
   "pygments_lexer": "ipython3",
   "version": "3.4.3"
  }
 },
 "nbformat": 4,
 "nbformat_minor": 0
}
