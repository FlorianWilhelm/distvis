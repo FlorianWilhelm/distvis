{
 "cells": [
  {
   "cell_type": "markdown",
   "metadata": {},
   "source": [
    "# Visualizer for all SciPy distributions\n",
    "\n",
    "The awesome ``scipy.stats`` subpackage holds a lot of continuous and discrete distributions that you might never have heard of. To quickly familiarize oneself with an unknown distribution plotting and *experiencing* the distribution helps a lot. This visualiser tries to make this as easy and comfortable as possible. This tool is based on [Bokeh](http://bokeh.pydata.org/) and [ipywidgets](http://ipywidgets.readthedocs.org/).\n",
    "\n",
    "**TL;DR: Just run all cells and be stunned!**"
   ]
  },
  {
   "cell_type": "code",
   "execution_count": 1,
   "metadata": {
    "collapsed": false
   },
   "outputs": [],
   "source": [
    "from collections import OrderedDict, defaultdict\n",
    "from enum import Enum\n",
    "\n",
    "import numpy as np\n",
    "from scipy import stats\n",
    "\n",
    "from bokeh.io import output_notebook, show, push_notebook\n",
    "from bokeh.plotting import figure\n",
    "from bokeh.io import show\n",
    "\n",
    "from ipywidgets import widgets, interact, interactive\n",
    "from IPython.display import display \n",
    "\n",
    "import warnings\n",
    "warnings.simplefilter('ignore', DeprecationWarning)"
   ]
  },
  {
   "cell_type": "code",
   "execution_count": 2,
   "metadata": {
    "collapsed": false
   },
   "outputs": [
    {
     "data": {
      "text/html": [
       "\n",
       "    <div class=\"bk-banner\">\n",
       "        <a href=\"http://bokeh.pydata.org\" target=\"_blank\" class=\"bk-logo bk-logo-small bk-logo-notebook\"></a>\n",
       "        <span id=\"35eced69-a901-45ce-b4c1-0485523e979b\">Loading BokehJS ...</span>\n",
       "    </div>"
      ]
     },
     "metadata": {},
     "output_type": "display_data"
    },
    {
     "data": {
      "application/javascript": [
       "\n",
       "(function(global) {\n",
       "  function now() {\n",
       "    return new Date();\n",
       "  }\n",
       "\n",
       "  if (typeof (window._bokeh_onload_callbacks) === \"undefined\") {\n",
       "    window._bokeh_onload_callbacks = [];\n",
       "  }\n",
       "\n",
       "  function run_callbacks() {\n",
       "    window._bokeh_onload_callbacks.forEach(function(callback) { callback() });\n",
       "    delete window._bokeh_onload_callbacks\n",
       "    console.info(\"Bokeh: all callbacks have finished\");\n",
       "  }\n",
       "\n",
       "  function load_libs(js_urls, callback) {\n",
       "    window._bokeh_onload_callbacks.push(callback);\n",
       "    if (window._bokeh_is_loading > 0) {\n",
       "      console.log(\"Bokeh: BokehJS is being loaded, scheduling callback at\", now());\n",
       "      return null;\n",
       "    }\n",
       "    if (js_urls == null || js_urls.length === 0) {\n",
       "      run_callbacks();\n",
       "      return null;\n",
       "    }\n",
       "    console.log(\"Bokeh: BokehJS not loaded, scheduling load and callback at\", now());\n",
       "    window._bokeh_is_loading = js_urls.length;\n",
       "    for (var i = 0; i < js_urls.length; i++) {\n",
       "      var url = js_urls[i];\n",
       "      var s = document.createElement('script');\n",
       "      s.src = url;\n",
       "      s.async = false;\n",
       "      s.onreadystatechange = s.onload = function() {\n",
       "        window._bokeh_is_loading--;\n",
       "        if (window._bokeh_is_loading === 0) {\n",
       "          console.log(\"Bokeh: all BokehJS libraries loaded\");\n",
       "          run_callbacks()\n",
       "        }\n",
       "      };\n",
       "      s.onerror = function() {\n",
       "        console.warn(\"failed to load library \" + url);\n",
       "      };\n",
       "      console.log(\"Bokeh: injecting script tag for BokehJS library: \", url);\n",
       "      document.getElementsByTagName(\"head\")[0].appendChild(s);\n",
       "    }\n",
       "  };\n",
       "\n",
       "  var js_urls = ['https://cdn.pydata.org/bokeh/release/bokeh-0.11.1.min.js', 'https://cdn.pydata.org/bokeh/release/bokeh-widgets-0.11.1.min.js', 'https://cdn.pydata.org/bokeh/release/bokeh-compiler-0.11.1.min.js'];\n",
       "\n",
       "  var inline_js = [\n",
       "    function(Bokeh) {\n",
       "      Bokeh.set_log_level(\"info\");\n",
       "    },\n",
       "    \n",
       "    function(Bokeh) {\n",
       "      Bokeh.$(\"#35eced69-a901-45ce-b4c1-0485523e979b\").text(\"BokehJS successfully loaded\");\n",
       "    },\n",
       "    function(Bokeh) {\n",
       "      console.log(\"Bokeh: injecting CSS: https://cdn.pydata.org/bokeh/release/bokeh-0.11.1.min.css\");\n",
       "      Bokeh.embed.inject_css(\"https://cdn.pydata.org/bokeh/release/bokeh-0.11.1.min.css\");\n",
       "      console.log(\"Bokeh: injecting CSS: https://cdn.pydata.org/bokeh/release/bokeh-widgets-0.11.1.min.css\");\n",
       "      Bokeh.embed.inject_css(\"https://cdn.pydata.org/bokeh/release/bokeh-widgets-0.11.1.min.css\");\n",
       "    }\n",
       "  ];\n",
       "\n",
       "  function run_inline_js() {\n",
       "    for (var i = 0; i < inline_js.length; i++) {\n",
       "      inline_js[i](window.Bokeh);\n",
       "    }\n",
       "  }\n",
       "\n",
       "  if (window._bokeh_is_loading === 0) {\n",
       "    console.log(\"Bokeh: BokehJS loaded, going straight to plotting\");\n",
       "    run_inline_js();\n",
       "  } else {\n",
       "    load_libs(js_urls, function() {\n",
       "      console.log(\"Bokeh: BokehJS plotting callback run at\", now());\n",
       "      run_inline_js();\n",
       "    });\n",
       "  }\n",
       "}(this));"
      ]
     },
     "metadata": {},
     "output_type": "display_data"
    }
   ],
   "source": [
    "output_notebook()"
   ]
  },
  {
   "cell_type": "markdown",
   "metadata": {},
   "source": [
    "We start with a little introspection to get lists of all continuous and discrete distributions in ``scipy.stats``. In order to do so, we use an ``Enum`` to define the two types of distribution that exists in the world of mathematics, i.e. *continuous* and *discrete* distributions. Based on a given type we determine all classes that have as base class either ``stats.rv_contiuous`` or ``stats.rv_discrete`` and create an ordered dictionary with the distribution's name as key and the object of the distribution as value."
   ]
  },
  {
   "cell_type": "code",
   "execution_count": 3,
   "metadata": {
    "collapsed": false,
    "scrolled": true
   },
   "outputs": [
    {
     "name": "stdout",
     "output_type": "stream",
     "text": [
      "number of continuous distributions: 89\n",
      "number of discrete distributions:   13\n"
     ]
    }
   ],
   "source": [
    "class DistType(Enum):\n",
    "    continuous = 0\n",
    "    discrete = 1\n",
    "    \n",
    "dist_types = OrderedDict([('continuous', DistType.continuous),\n",
    "                          ('discrete', DistType.discrete)])\n",
    "\n",
    "def get_dict_of_dists(dist_type):\n",
    "    if dist_type is DistType.continuous:\n",
    "        baseclass = stats.rv_continuous\n",
    "    else:\n",
    "        baseclass = stats.rv_discrete\n",
    "    dists = [getattr(stats, d) for d in sorted(dir(stats)) if isinstance(getattr(stats,d), baseclass)]\n",
    "    return OrderedDict([(dist.name, dist) for dist in dists])\n",
    "\n",
    "dist_continuous = get_dict_of_dists(DistType.continuous)\n",
    "dist_discrete = get_dict_of_dists(DistType.discrete)\n",
    "print('number of continuous distributions:', len(dist_continuous))\n",
    "print('number of discrete distributions:  ', len(dist_discrete))"
   ]
  },
  {
   "cell_type": "markdown",
   "metadata": {},
   "source": [
    "Since a lot of distributions need additional shape parameters we use a nested ``defaultdict`` to define shape parameters as we go. For an undefined distribution ``DEFAULT_SHAPES`` will return ``1.0`` for all shape parameters.\n",
    "\n",
    "The ``DEFAULT_SHAPES`` dictionary is not exhaustive, meaning that a lot of sane parameters still need to be configured. We access those default parameters with the help of the function ``default_shape_params``."
   ]
  },
  {
   "cell_type": "code",
   "execution_count": 4,
   "metadata": {
    "collapsed": true
   },
   "outputs": [],
   "source": [
    "def make_default_shape_dict():\n",
    "    shape_param = defaultdict(lambda: 1.0)\n",
    "    return defaultdict(lambda: shape_param)\n",
    "\n",
    "def default_shape_params(dist):\n",
    "    return OrderedDict([(p, DEFAULT_SHAPES[dist.name][p]) for p in shape_params(dist)])\n",
    "\n",
    "DEFAULT_SHAPES = make_default_shape_dict()\n",
    "DEFAULT_SHAPES['alpha'] = {'a': 1.3}\n",
    "DEFAULT_SHAPES['beta'] = {'a': 1.5, 'b': 2.}\n",
    "\n",
    "# discrete\n",
    "DEFAULT_SHAPES['bernoulli'] = {'p': 0.7}\n",
    "DEFAULT_SHAPES['binom'] = {'n': 10, 'p': 0.7}\n",
    "DEFAULT_SHAPES['logser'] = {'p': 0.3}\n",
    "DEFAULT_SHAPES['zipf'] = {'a': 2}\n",
    "DEFAULT_SHAPES['randint'] = {'low': 0, 'high': 10}\n",
    "DEFAULT_SHAPES['nbinom'] = {'n': 10, 'p': 0.6}\n",
    "DEFAULT_SHAPES['hypergeom'] = {'n': 3, 'M': 10, 'N': 7}\n",
    "DEFAULT_SHAPES['geom'] = {'p': 0.6}"
   ]
  },
  {
   "cell_type": "markdown",
   "metadata": {},
   "source": [
    "Every project needs some purely auxiliary functions that help to keep the real program logic shorter and much more comprehensible. We define them in advance and all of them should be pretty much self-explanatory. Eventually, we have functions to:\n",
    "\n",
    "* flatten a list of list,\n",
    "* calculate the support of a distribution,\n",
    "* create patches, i.e. bars, from (x, y) data points,\n",
    "* determine the shape parameters of a distribution,\n",
    "* check if a distribution has shape parameters,\n",
    "* determine the options for a distribution selector widget,\n",
    "* determine the options for a function selector widget."
   ]
  },
  {
   "cell_type": "code",
   "execution_count": 5,
   "metadata": {
    "collapsed": false
   },
   "outputs": [],
   "source": [
    "def flatten(lst):\n",
    "    return [item for sublist in lst for item in sublist]\n",
    "\n",
    "def support(dist, *shapeargs):\n",
    "    # due to bug in scipy.levy_stable no keyword args for interval\n",
    "    return dist.interval(1.0, *shapeargs)\n",
    "\n",
    "def make_patches(x, y, width=0.8):\n",
    "    m = width/2\n",
    "    x = [[p-m, p-m, p+m, p+m] for p in x]\n",
    "    y = [[0, p, p, 0] for p in y]\n",
    "    return x, y\n",
    "\n",
    "def shape_params(dist):\n",
    "    if dist.shapes is not None:\n",
    "        return dist.shapes.split(', ')\n",
    "    \n",
    "def has_shape_params(dist):\n",
    "    return dist.numargs != 0\n",
    "\n",
    "def dist_options(dist_type):\n",
    "    if dist_type is DistType.continuous:\n",
    "        return dist_continuous\n",
    "    else:\n",
    "        return dist_discrete\n",
    "\n",
    "def func_options(dist_type):\n",
    "    if dist_type is DistType.continuous:\n",
    "        return ['pdf', 'cdf', 'ppf']\n",
    "    else:\n",
    "        return ['pmf', 'cdf']"
   ]
  },
  {
   "cell_type": "markdown",
   "metadata": {
    "collapsed": true
   },
   "source": [
    "The whole tool is basically about evaluating different functions, e.g. ``pdf``, ``cdf``, etc., of a distribution. So what we need to do is:\n",
    "\n",
    "1. determining the support of the function\n",
    "2. check if the distribution is continuous or discrete\n",
    "3. define a set of suitable ``x``-values\n",
    "4. evaluate the given function on that set of ``x`` and return ``x`` and ``y``"
   ]
  },
  {
   "cell_type": "code",
   "execution_count": 6,
   "metadata": {
    "collapsed": false
   },
   "outputs": [],
   "source": [
    "def get_dist_func_xy(dist, func, *shapeargs, **params):\n",
    "    if func == 'ppf':\n",
    "        interval = [0., 1.]\n",
    "    else:\n",
    "        interval = list(support(dist, *shapeargs))\n",
    "    if dist in dist_continuous.values():\n",
    "        for i, x in enumerate(interval):\n",
    "            if np.isinf(x):\n",
    "                interval[i] = np.sign(x)*100\n",
    "            interval[i] += (-1)**i*1e-3\n",
    "        l, r = interval\n",
    "        x = np.linspace(l, r, 100*(r-l))\n",
    "    elif dist in dist_discrete.values():\n",
    "        for i, x in enumerate(interval):\n",
    "            if np.isinf(x):\n",
    "                interval[i] = np.sign(x)*20\n",
    "        l, r = interval        \n",
    "        x = np.arange(l+1, r+1)\n",
    "    else:\n",
    "        raise RuntimeError(\"Unknown distribution: {}\".format(dist.name))\n",
    "    y = getattr(dist, func)(x, *shapeargs, **params)\n",
    "    return x, y"
   ]
  },
  {
   "cell_type": "markdown",
   "metadata": {
    "collapsed": false
   },
   "source": [
    "Here comes the heavy lifting. Later on, we will define selector widgets for the\n",
    "\n",
    "* type of distribution,\n",
    "* distribution itself,\n",
    "* function of the distribution,\n",
    "* parameters of the distribution (``loc`` and ``scale`` for continuous distributions),\n",
    "* shape parameters of the distribution if they exist,\n",
    "\n",
    "and therefore we need functions that steer the behaviour of the whole tool when one of the widgets changes its value. Because of that all functions start with the prefix ``update_`` and basically wire all widgets together. For instance if currently the normal distribution is selected and you choose the distribution type *discrete* we need to also set the distribution selector to a discrete distribution which also triggers the function selector in order to choose a suitable function like ``pmf`` for a discrete distribution."
   ]
  },
  {
   "cell_type": "code",
   "execution_count": 7,
   "metadata": {
    "collapsed": true
   },
   "outputs": [],
   "source": [
    "def update_type_sel():\n",
    "    dist_sel.options = dist_options(type_sel.value)\n",
    "    \n",
    "def update_dist_sel():\n",
    "    func_sel.options = func_options(type_sel.value)\n",
    "    if has_shape_params(dist_sel.value):\n",
    "        shapes = default_shape_params(dist_sel.value)\n",
    "        text_inputs = [widgets.BoundedFloatText(value=v, description='{}:'.format(k)) for k, v in shapes.items()]\n",
    "        [w.on_trait_change(update_dist_params, name='value') for w in text_inputs]\n",
    "        shape_param_container.children = text_inputs\n",
    "    else:\n",
    "        shape_param_container.children = []\n",
    "    if type_sel.value is DistType.continuous:\n",
    "        param_container.children = [loc_slider, scale_slider]\n",
    "    else:\n",
    "        param_container.children = []\n",
    "    update_dist_params()\n",
    "\n",
    "def update_func_sel():\n",
    "    update_dist_params()\n",
    "    \n",
    "def refresh_continuous(fig, data, *shapeargs):\n",
    "    params = dict(loc=loc_slider.value, scale=scale_slider.value)\n",
    "    data['x'], data['y'] = get_dist_func_xy(dist_sel.value, func_sel.value, *shapeargs, **params)\n",
    "    fig.y_range.start = max(np.max(data['y']) - 5, 1.1*np.min(data['y']))\n",
    "    fig.y_range.end = min(np.min(data['y']) + 5, 1.1*np.max(data['y']))\n",
    "    offset, lim = 1e-1, 5\n",
    "    fig.x_range.start = max(-lim, np.min(data['x']) - offset)\n",
    "    fig.x_range.end = min(lim, np.max(data['x']) + offset)\n",
    "    \n",
    "def refresh_discrete(fig, data, *shapeargs):\n",
    "    x, y = get_dist_func_xy(dist_sel.value, func_sel.value, *shapeargs)\n",
    "    data['xs'], data['ys'] = make_patches(x, y)\n",
    "    fig.y_range.start, fig.y_range.end = 0., 1.1*max(max(data['ys']))\n",
    "    x_good_values = [x for x, y in zip(flatten(data['xs']), flatten(data['ys'])) if y > 0.001 and y < 0.999] \n",
    "    fig.x_range.start = min(x_good_values) - 1\n",
    "    fig.x_range.end = max(x_good_values) + 1\n",
    "    \n",
    "def update_dist_params():\n",
    "    shapeargs = [c.value for c in shape_param_container.children]\n",
    "    l_data['x'], l_data['y'] = [], []\n",
    "    p_data['xs'], p_data['ys'] = [], []\n",
    "    try:\n",
    "        if type_sel.value is DistType.continuous:\n",
    "            refresh_continuous(fig, l_data, *shapeargs)\n",
    "        else:\n",
    "            refresh_discrete(fig, p_data, *shapeargs)\n",
    "    except Exception as e:\n",
    "        error_text.value = \"Invalid parameters! Choose again.<br>ERROR: {}\".format(e)\n",
    "        error_text.visible = True\n",
    "    else:\n",
    "        error_text.visible = False\n",
    "    push_notebook() "
   ]
  },
  {
   "cell_type": "markdown",
   "metadata": {},
   "source": [
    "To render the function values of the distribution we will use [Bokeh](http://bokeh.pydata.org/) which is a lot more appropriate for interactive visualisation than *matplotlib* and looks much nicer by default. Bokeh itself comes with a lot of widgets and you can do wonderful things like complete reporting web interfaces with them but at this point my design decision was to stick with Jupyter. Jupyter itself has [ipywidgets](http://ipywidgets.readthedocs.org/) and currently the advantage is that the Python community is just crazy about Jupyter meaning that there are also a lot of cool services like [binder](http://mybinder.org/), [tmpnb](https://tmpnb.org/) and many more. Since Bokeh widgets need a Bokeh server to be functional it is much easier right now to find a free service like binder that operates your notebook.\n",
    "\n",
    "That being said, here we go. We are basically following Bokeh's [Working in the Notebook tutorial](http://bokeh.pydata.org/en/0.11.0/docs/user_guide/notebook.html) and start by defining a figure as well as two glyphs, ``line`` for plotting continuous distributions and ``patches`` in order to plot discrete distributions. Currently, there is a limitation in the Jupyter/Bokeh interaction that allows you to only change the values in a plot of the last figure that was displayed. More important though is the fact that you change the last figure by changing the input sources (``data_source``) of the glyph's renderer and push them to the notebook via ``push_notebook()``. For that reason we set up only one figure including glyphs for plotting continuous as well as discreet functions and return the figure as well as the data sources of both renderers."
   ]
  },
  {
   "cell_type": "code",
   "execution_count": 8,
   "metadata": {
    "collapsed": true
   },
   "outputs": [],
   "source": [
    "def get_dist_fig_data():\n",
    "    fig = figure(width=700, height=700, title=None, x_range=(-1, 1), y_range=(0, 1))\n",
    "    ren_p = fig.patches([[]], [[]], line_width=3, alpha=0.3)\n",
    "    ren_l = fig.line([], [], line_width=3)\n",
    "    return fig, ren_l.data_source.data, ren_p.data_source.data"
   ]
  },
  {
   "cell_type": "markdown",
   "metadata": {},
   "source": [
    "At this point we have everything set up and what's left to do is only to define the actual widgets and use the functionality defined before to wire them up. Currently I am quite dissatisfied with the fact that the update functions work a lot on our globally defined widgets. It would be way more explicit if the update function had parameters for all widgets they are working on. One solution could be to make use of the *Functor Pattern* with the help of ``functools.partial`` but I am not 100% convinced. Drop me a line in the comments if you have a solution to that."
   ]
  },
  {
   "cell_type": "code",
   "execution_count": 9,
   "metadata": {
    "collapsed": false
   },
   "outputs": [
    {
     "data": {
      "text/html": [
       "\n",
       "\n",
       "    <div class=\"plotdiv\" id=\"3280e861-0e22-4b02-bd49-fa3f0cdab68a\"></div>\n",
       "<script type=\"text/javascript\">\n",
       "  \n",
       "  (function(global) {\n",
       "    function now() {\n",
       "      return new Date();\n",
       "    }\n",
       "  \n",
       "    if (typeof (window._bokeh_onload_callbacks) === \"undefined\") {\n",
       "      window._bokeh_onload_callbacks = [];\n",
       "    }\n",
       "  \n",
       "    function run_callbacks() {\n",
       "      window._bokeh_onload_callbacks.forEach(function(callback) { callback() });\n",
       "      delete window._bokeh_onload_callbacks\n",
       "      console.info(\"Bokeh: all callbacks have finished\");\n",
       "    }\n",
       "  \n",
       "    function load_libs(js_urls, callback) {\n",
       "      window._bokeh_onload_callbacks.push(callback);\n",
       "      if (window._bokeh_is_loading > 0) {\n",
       "        console.log(\"Bokeh: BokehJS is being loaded, scheduling callback at\", now());\n",
       "        return null;\n",
       "      }\n",
       "      if (js_urls == null || js_urls.length === 0) {\n",
       "        run_callbacks();\n",
       "        return null;\n",
       "      }\n",
       "      console.log(\"Bokeh: BokehJS not loaded, scheduling load and callback at\", now());\n",
       "      window._bokeh_is_loading = js_urls.length;\n",
       "      for (var i = 0; i < js_urls.length; i++) {\n",
       "        var url = js_urls[i];\n",
       "        var s = document.createElement('script');\n",
       "        s.src = url;\n",
       "        s.async = false;\n",
       "        s.onreadystatechange = s.onload = function() {\n",
       "          window._bokeh_is_loading--;\n",
       "          if (window._bokeh_is_loading === 0) {\n",
       "            console.log(\"Bokeh: all BokehJS libraries loaded\");\n",
       "            run_callbacks()\n",
       "          }\n",
       "        };\n",
       "        s.onerror = function() {\n",
       "          console.warn(\"failed to load library \" + url);\n",
       "        };\n",
       "        console.log(\"Bokeh: injecting script tag for BokehJS library: \", url);\n",
       "        document.getElementsByTagName(\"head\")[0].appendChild(s);\n",
       "      }\n",
       "    };var element = document.getElementById(\"3280e861-0e22-4b02-bd49-fa3f0cdab68a\");\n",
       "    if (element == null) {\n",
       "      console.log(\"Bokeh: ERROR: autoload.js configured with elementid '3280e861-0e22-4b02-bd49-fa3f0cdab68a' but no matching script tag was found. \")\n",
       "      return false;\n",
       "    }\n",
       "  \n",
       "    var js_urls = [];\n",
       "  \n",
       "    var inline_js = [\n",
       "      function(Bokeh) {\n",
       "        Bokeh.$(function() {\n",
       "            var docs_json = {\"13395797-99fd-4577-986d-c6148b8a2368\":{\"roots\":{\"references\":[{\"attributes\":{},\"id\":\"aaadf516-6d28-4553-bd34-977c88534f81\",\"type\":\"BasicTickFormatter\"},{\"attributes\":{},\"id\":\"4aadaf7c-b8f1-4162-b29a-ab65c139e5e3\",\"type\":\"BasicTickFormatter\"},{\"attributes\":{\"fill_alpha\":{\"value\":0.3},\"fill_color\":{\"value\":\"#1f77b4\"},\"line_alpha\":{\"value\":0.3},\"line_color\":{\"value\":\"#1f77b4\"},\"line_width\":{\"value\":3},\"xs\":{\"field\":\"xs\"},\"ys\":{\"field\":\"ys\"}},\"id\":\"4613b08a-3f02-4ba2-97bd-bedc81913b78\",\"type\":\"Patches\"},{\"attributes\":{\"callback\":null,\"column_names\":[\"xs\",\"ys\"],\"data\":{\"xs\":[[]],\"ys\":[[]]}},\"id\":\"ea0dbb02-e027-4205-8185-a59a944755a5\",\"type\":\"ColumnDataSource\"},{\"attributes\":{\"bottom_units\":\"screen\",\"fill_alpha\":{\"value\":0.5},\"fill_color\":{\"value\":\"lightgrey\"},\"left_units\":\"screen\",\"level\":\"overlay\",\"line_alpha\":{\"value\":1.0},\"line_color\":{\"value\":\"black\"},\"line_dash\":[4,4],\"line_width\":{\"value\":2},\"plot\":null,\"render_mode\":\"css\",\"right_units\":\"screen\",\"top_units\":\"screen\"},\"id\":\"ca8b0f48-ae75-4d95-986f-bc67726d5a62\",\"type\":\"BoxAnnotation\"},{\"attributes\":{\"data_source\":{\"id\":\"a1c7aa23-c719-4608-95ce-32097a796ebc\",\"type\":\"ColumnDataSource\"},\"glyph\":{\"id\":\"c657ece6-02f8-486e-9828-bbd5182effce\",\"type\":\"Line\"},\"hover_glyph\":null,\"nonselection_glyph\":{\"id\":\"d5c3c3f5-29f6-4d80-b3bb-1d4fa5cc3038\",\"type\":\"Line\"},\"selection_glyph\":null},\"id\":\"61e155b9-9b46-475d-b553-9704e69ababa\",\"type\":\"GlyphRenderer\"},{\"attributes\":{\"fill_alpha\":{\"value\":0.1},\"fill_color\":{\"value\":\"#1f77b4\"},\"line_alpha\":{\"value\":0.1},\"line_color\":{\"value\":\"#1f77b4\"},\"line_width\":{\"value\":3},\"xs\":{\"field\":\"xs\"},\"ys\":{\"field\":\"ys\"}},\"id\":\"54878651-2518-44a2-9dad-eb4f0bd3e1f3\",\"type\":\"Patches\"},{\"attributes\":{\"below\":[{\"id\":\"9ee5b313-0b0c-4fc4-93d9-1bb421523564\",\"type\":\"LinearAxis\"}],\"left\":[{\"id\":\"97df2c5f-e934-4ccd-8576-c2c07f893239\",\"type\":\"LinearAxis\"}],\"plot_height\":700,\"plot_width\":700,\"renderers\":[{\"id\":\"9ee5b313-0b0c-4fc4-93d9-1bb421523564\",\"type\":\"LinearAxis\"},{\"id\":\"20fbcd21-69a3-4d84-a7f0-f359b7d4fec3\",\"type\":\"Grid\"},{\"id\":\"97df2c5f-e934-4ccd-8576-c2c07f893239\",\"type\":\"LinearAxis\"},{\"id\":\"ca95405b-3f51-4406-b658-1a8372daf510\",\"type\":\"Grid\"},{\"id\":\"ca8b0f48-ae75-4d95-986f-bc67726d5a62\",\"type\":\"BoxAnnotation\"},{\"id\":\"ee4fe4bb-de3f-4812-9ea9-a5cc282dcf1c\",\"type\":\"GlyphRenderer\"},{\"id\":\"61e155b9-9b46-475d-b553-9704e69ababa\",\"type\":\"GlyphRenderer\"}],\"title\":null,\"tool_events\":{\"id\":\"557e4298-8e73-4cb0-ae82-6a7e3c8aab3a\",\"type\":\"ToolEvents\"},\"tools\":[{\"id\":\"41fb7716-35f2-4658-b52d-c37c0e1e138f\",\"type\":\"PanTool\"},{\"id\":\"a5a9593d-6e11-483e-8b0a-2b0032f11c5b\",\"type\":\"WheelZoomTool\"},{\"id\":\"c92c7524-b5b7-4f39-ab78-90d7434a33e0\",\"type\":\"BoxZoomTool\"},{\"id\":\"cd75db0b-be96-4805-b581-a19dbf6bd808\",\"type\":\"PreviewSaveTool\"},{\"id\":\"07517b2c-bc24-4ba3-9ff0-06d03ed430bb\",\"type\":\"ResizeTool\"},{\"id\":\"156d4d23-7d80-4b43-8c7b-f9336e90cd73\",\"type\":\"ResetTool\"},{\"id\":\"997d4a4c-f0b0-4a24-8008-d6094a5118d2\",\"type\":\"HelpTool\"}],\"x_range\":{\"id\":\"73edf568-8e75-44fa-9c78-f4e783921e8d\",\"type\":\"Range1d\"},\"y_range\":{\"id\":\"9ea85e5a-b273-42e1-a93c-74a753e8103c\",\"type\":\"Range1d\"}},\"id\":\"2fe42c82-16e2-4c95-bf78-9118776cb938\",\"subtype\":\"Figure\",\"type\":\"Plot\"},{\"attributes\":{\"plot\":{\"id\":\"2fe42c82-16e2-4c95-bf78-9118776cb938\",\"subtype\":\"Figure\",\"type\":\"Plot\"}},\"id\":\"a5a9593d-6e11-483e-8b0a-2b0032f11c5b\",\"type\":\"WheelZoomTool\"},{\"attributes\":{\"line_color\":{\"value\":\"#1f77b4\"},\"line_width\":{\"value\":3},\"x\":{\"field\":\"x\"},\"y\":{\"field\":\"y\"}},\"id\":\"c657ece6-02f8-486e-9828-bbd5182effce\",\"type\":\"Line\"},{\"attributes\":{},\"id\":\"702662ec-2547-4f44-8464-200244f1f1c3\",\"type\":\"BasicTicker\"},{\"attributes\":{\"dimension\":1,\"plot\":{\"id\":\"2fe42c82-16e2-4c95-bf78-9118776cb938\",\"subtype\":\"Figure\",\"type\":\"Plot\"},\"ticker\":{\"id\":\"702662ec-2547-4f44-8464-200244f1f1c3\",\"type\":\"BasicTicker\"}},\"id\":\"ca95405b-3f51-4406-b658-1a8372daf510\",\"type\":\"Grid\"},{\"attributes\":{\"formatter\":{\"id\":\"aaadf516-6d28-4553-bd34-977c88534f81\",\"type\":\"BasicTickFormatter\"},\"plot\":{\"id\":\"2fe42c82-16e2-4c95-bf78-9118776cb938\",\"subtype\":\"Figure\",\"type\":\"Plot\"},\"ticker\":{\"id\":\"702662ec-2547-4f44-8464-200244f1f1c3\",\"type\":\"BasicTicker\"}},\"id\":\"97df2c5f-e934-4ccd-8576-c2c07f893239\",\"type\":\"LinearAxis\"},{\"attributes\":{\"plot\":{\"id\":\"2fe42c82-16e2-4c95-bf78-9118776cb938\",\"subtype\":\"Figure\",\"type\":\"Plot\"}},\"id\":\"41fb7716-35f2-4658-b52d-c37c0e1e138f\",\"type\":\"PanTool\"},{\"attributes\":{\"line_alpha\":{\"value\":0.1},\"line_color\":{\"value\":\"#1f77b4\"},\"line_width\":{\"value\":3},\"x\":{\"field\":\"x\"},\"y\":{\"field\":\"y\"}},\"id\":\"d5c3c3f5-29f6-4d80-b3bb-1d4fa5cc3038\",\"type\":\"Line\"},{\"attributes\":{\"plot\":{\"id\":\"2fe42c82-16e2-4c95-bf78-9118776cb938\",\"subtype\":\"Figure\",\"type\":\"Plot\"},\"ticker\":{\"id\":\"e6034b01-6bb6-4c2f-9a67-1b71d1c234f1\",\"type\":\"BasicTicker\"}},\"id\":\"20fbcd21-69a3-4d84-a7f0-f359b7d4fec3\",\"type\":\"Grid\"},{\"attributes\":{\"plot\":{\"id\":\"2fe42c82-16e2-4c95-bf78-9118776cb938\",\"subtype\":\"Figure\",\"type\":\"Plot\"}},\"id\":\"156d4d23-7d80-4b43-8c7b-f9336e90cd73\",\"type\":\"ResetTool\"},{\"attributes\":{\"formatter\":{\"id\":\"4aadaf7c-b8f1-4162-b29a-ab65c139e5e3\",\"type\":\"BasicTickFormatter\"},\"plot\":{\"id\":\"2fe42c82-16e2-4c95-bf78-9118776cb938\",\"subtype\":\"Figure\",\"type\":\"Plot\"},\"ticker\":{\"id\":\"e6034b01-6bb6-4c2f-9a67-1b71d1c234f1\",\"type\":\"BasicTicker\"}},\"id\":\"9ee5b313-0b0c-4fc4-93d9-1bb421523564\",\"type\":\"LinearAxis\"},{\"attributes\":{\"plot\":{\"id\":\"2fe42c82-16e2-4c95-bf78-9118776cb938\",\"subtype\":\"Figure\",\"type\":\"Plot\"}},\"id\":\"07517b2c-bc24-4ba3-9ff0-06d03ed430bb\",\"type\":\"ResizeTool\"},{\"attributes\":{\"callback\":null,\"column_names\":[\"y\",\"x\"],\"data\":{\"x\":[],\"y\":[]}},\"id\":\"a1c7aa23-c719-4608-95ce-32097a796ebc\",\"type\":\"ColumnDataSource\"},{\"attributes\":{\"callback\":null,\"start\":-1},\"id\":\"73edf568-8e75-44fa-9c78-f4e783921e8d\",\"type\":\"Range1d\"},{\"attributes\":{},\"id\":\"557e4298-8e73-4cb0-ae82-6a7e3c8aab3a\",\"type\":\"ToolEvents\"},{\"attributes\":{\"data_source\":{\"id\":\"ea0dbb02-e027-4205-8185-a59a944755a5\",\"type\":\"ColumnDataSource\"},\"glyph\":{\"id\":\"4613b08a-3f02-4ba2-97bd-bedc81913b78\",\"type\":\"Patches\"},\"hover_glyph\":null,\"nonselection_glyph\":{\"id\":\"54878651-2518-44a2-9dad-eb4f0bd3e1f3\",\"type\":\"Patches\"},\"selection_glyph\":null},\"id\":\"ee4fe4bb-de3f-4812-9ea9-a5cc282dcf1c\",\"type\":\"GlyphRenderer\"},{\"attributes\":{\"overlay\":{\"id\":\"ca8b0f48-ae75-4d95-986f-bc67726d5a62\",\"type\":\"BoxAnnotation\"},\"plot\":{\"id\":\"2fe42c82-16e2-4c95-bf78-9118776cb938\",\"subtype\":\"Figure\",\"type\":\"Plot\"}},\"id\":\"c92c7524-b5b7-4f39-ab78-90d7434a33e0\",\"type\":\"BoxZoomTool\"},{\"attributes\":{\"callback\":null},\"id\":\"9ea85e5a-b273-42e1-a93c-74a753e8103c\",\"type\":\"Range1d\"},{\"attributes\":{\"plot\":{\"id\":\"2fe42c82-16e2-4c95-bf78-9118776cb938\",\"subtype\":\"Figure\",\"type\":\"Plot\"}},\"id\":\"997d4a4c-f0b0-4a24-8008-d6094a5118d2\",\"type\":\"HelpTool\"},{\"attributes\":{},\"id\":\"e6034b01-6bb6-4c2f-9a67-1b71d1c234f1\",\"type\":\"BasicTicker\"},{\"attributes\":{\"plot\":{\"id\":\"2fe42c82-16e2-4c95-bf78-9118776cb938\",\"subtype\":\"Figure\",\"type\":\"Plot\"}},\"id\":\"cd75db0b-be96-4805-b581-a19dbf6bd808\",\"type\":\"PreviewSaveTool\"}],\"root_ids\":[\"2fe42c82-16e2-4c95-bf78-9118776cb938\"]},\"title\":\"Bokeh Application\",\"version\":\"0.11.1\"}};\n",
       "            var render_items = [{\"docid\":\"13395797-99fd-4577-986d-c6148b8a2368\",\"elementid\":\"3280e861-0e22-4b02-bd49-fa3f0cdab68a\",\"modelid\":\"2fe42c82-16e2-4c95-bf78-9118776cb938\",\"notebook_comms_target\":\"7aa34c8c-21a4-4bec-8fc4-fbb39fb5dfde\"}];\n",
       "            \n",
       "            Bokeh.embed.embed_items(docs_json, render_items);\n",
       "        });\n",
       "      },\n",
       "      function(Bokeh) {\n",
       "      }\n",
       "    ];\n",
       "  \n",
       "    function run_inline_js() {\n",
       "      for (var i = 0; i < inline_js.length; i++) {\n",
       "        inline_js[i](window.Bokeh);\n",
       "      }\n",
       "    }\n",
       "  \n",
       "    if (window._bokeh_is_loading === 0) {\n",
       "      console.log(\"Bokeh: BokehJS loaded, going straight to plotting\");\n",
       "      run_inline_js();\n",
       "    } else {\n",
       "      load_libs(js_urls, function() {\n",
       "        console.log(\"Bokeh: BokehJS plotting callback run at\", now());\n",
       "        run_inline_js();\n",
       "      });\n",
       "    }\n",
       "  }(this));\n",
       "</script>"
      ]
     },
     "metadata": {},
     "output_type": "display_data"
    }
   ],
   "source": [
    "# Create widgets for selecting the type, distribution and function\n",
    "type_sel = widgets.Dropdown(options=dist_types, description='type:')\n",
    "dist_sel = widgets.Dropdown(options=dist_options(type_sel.value), description='dist:')\n",
    "func_sel = widgets.Dropdown(options=func_options(type_sel.value), description='func:')\n",
    "\n",
    "# Align the widgets in a horizontal box\n",
    "dist_container = widgets.HBox()  \n",
    "dist_container.children = [type_sel, dist_sel, func_sel]\n",
    "\n",
    "# Wire the widgets to their corresponding update function\n",
    "type_sel.on_trait_change(update_type_sel, name='value')\n",
    "dist_sel.on_trait_change(update_dist_sel, name='value')\n",
    "func_sel.on_trait_change(update_func_sel, name='value')\n",
    "\n",
    "# Create widgets for parameter selection and boxes to align them\n",
    "loc_slider = widgets.FloatSlider(value=0., min=-5.0, max=5.0, step=0.1, description='loc:')\n",
    "scale_slider = widgets.FloatSlider(value=1., min=0.01, max=10.0, step=0.01, description='scale:')\n",
    "loc_slider.on_trait_change(update_dist_params, name='value')\n",
    "scale_slider.on_trait_change(update_dist_params, name='value')\n",
    "param_container = widgets.VBox()\n",
    "shape_param_container = widgets.HBox()\n",
    "error_text = widgets.HTML()\n",
    "\n",
    "# Display the widgets\n",
    "display(dist_container)\n",
    "display(param_container)\n",
    "display(shape_param_container)\n",
    "display(error_text)\n",
    "\n",
    "# Generate the Bokeh plot and display\n",
    "fig, l_data, p_data = get_dist_fig_data()\n",
    "show(fig)\n",
    "\n",
    "# Let's select the famous normal distribution for starters\n",
    "type_sel.value = DistType.continuous\n",
    "dist_sel.value = dist_continuous['norm']"
   ]
  }
 ],
 "metadata": {
  "kernelspec": {
   "display_name": "Python 3",
   "language": "python",
   "name": "python3"
  },
  "language_info": {
   "codemirror_mode": {
    "name": "ipython",
    "version": 3
   },
   "file_extension": ".py",
   "mimetype": "text/x-python",
   "name": "python",
   "nbconvert_exporter": "python",
   "pygments_lexer": "ipython3",
   "version": "3.4.3"
  }
 },
 "nbformat": 4,
 "nbformat_minor": 0
}
