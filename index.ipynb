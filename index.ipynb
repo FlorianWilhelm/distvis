{
 "cells": [
  {
   "cell_type": "markdown",
   "metadata": {},
   "source": [
    "# Visualizer for all SciPy distributions\n",
    "\n",
    "The awesome ``scipy.stats`` subpackage holds a lot of continuous and discrete distributions that you might never have heard of. To quickly familiarize oneself with an unknown distribution plotting and *experiencing* the distribution helps a lot. This visualiser tries to make this as easy and comfortable as possible. This tool is based on [Bokeh](http://bokeh.pydata.org/) and [ipywidgets](http://ipywidgets.readthedocs.org/).\n",
    "\n",
    "**TL;DR**: Just run all cells and be stunned!"
   ]
  },
  {
   "cell_type": "code",
   "execution_count": 1,
   "metadata": {
    "collapsed": false
   },
   "outputs": [],
   "source": [
    "from collections import OrderedDict, defaultdict\n",
    "from enum import Enum\n",
    "\n",
    "import numpy as np\n",
    "from scipy import stats\n",
    "\n",
    "from bokeh.io import output_notebook, show, push_notebook\n",
    "from bokeh.plotting import figure\n",
    "from bokeh.io import show\n",
    "\n",
    "from ipywidgets import widgets, interact, interactive\n",
    "from IPython.display import display \n",
    "\n",
    "import warnings\n",
    "warnings.simplefilter('ignore', DeprecationWarning)"
   ]
  },
  {
   "cell_type": "code",
   "execution_count": 2,
   "metadata": {
    "collapsed": false
   },
   "outputs": [
    {
     "data": {
      "text/html": [
       "\n",
       "    <div class=\"bk-banner\">\n",
       "        <a href=\"http://bokeh.pydata.org\" target=\"_blank\" class=\"bk-logo bk-logo-small bk-logo-notebook\"></a>\n",
       "        <span id=\"95f3a55e-9212-4dc8-a9a5-7cb195a8c3e7\">Loading BokehJS ...</span>\n",
       "    </div>"
      ]
     },
     "metadata": {},
     "output_type": "display_data"
    },
    {
     "data": {
      "application/javascript": [
       "\n",
       "(function(global) {\n",
       "  function now() {\n",
       "    return new Date();\n",
       "  }\n",
       "\n",
       "  if (typeof (window._bokeh_onload_callbacks) === \"undefined\") {\n",
       "    window._bokeh_onload_callbacks = [];\n",
       "  }\n",
       "\n",
       "  function run_callbacks() {\n",
       "    window._bokeh_onload_callbacks.forEach(function(callback) { callback() });\n",
       "    delete window._bokeh_onload_callbacks\n",
       "    console.info(\"Bokeh: all callbacks have finished\");\n",
       "  }\n",
       "\n",
       "  function load_libs(js_urls, callback) {\n",
       "    window._bokeh_onload_callbacks.push(callback);\n",
       "    if (window._bokeh_is_loading > 0) {\n",
       "      console.log(\"Bokeh: BokehJS is being loaded, scheduling callback at\", now());\n",
       "      return null;\n",
       "    }\n",
       "    if (js_urls == null || js_urls.length === 0) {\n",
       "      run_callbacks();\n",
       "      return null;\n",
       "    }\n",
       "    console.log(\"Bokeh: BokehJS not loaded, scheduling load and callback at\", now());\n",
       "    window._bokeh_is_loading = js_urls.length;\n",
       "    for (var i = 0; i < js_urls.length; i++) {\n",
       "      var url = js_urls[i];\n",
       "      var s = document.createElement('script');\n",
       "      s.src = url;\n",
       "      s.async = false;\n",
       "      s.onreadystatechange = s.onload = function() {\n",
       "        window._bokeh_is_loading--;\n",
       "        if (window._bokeh_is_loading === 0) {\n",
       "          console.log(\"Bokeh: all BokehJS libraries loaded\");\n",
       "          run_callbacks()\n",
       "        }\n",
       "      };\n",
       "      s.onerror = function() {\n",
       "        console.warn(\"failed to load library \" + url);\n",
       "      };\n",
       "      console.log(\"Bokeh: injecting script tag for BokehJS library: \", url);\n",
       "      document.getElementsByTagName(\"head\")[0].appendChild(s);\n",
       "    }\n",
       "  };\n",
       "\n",
       "  var js_urls = ['https://cdn.pydata.org/bokeh/release/bokeh-0.11.1.min.js', 'https://cdn.pydata.org/bokeh/release/bokeh-widgets-0.11.1.min.js', 'https://cdn.pydata.org/bokeh/release/bokeh-compiler-0.11.1.min.js'];\n",
       "\n",
       "  var inline_js = [\n",
       "    function(Bokeh) {\n",
       "      Bokeh.set_log_level(\"info\");\n",
       "    },\n",
       "    \n",
       "    function(Bokeh) {\n",
       "      Bokeh.$(\"#95f3a55e-9212-4dc8-a9a5-7cb195a8c3e7\").text(\"BokehJS successfully loaded\");\n",
       "    },\n",
       "    function(Bokeh) {\n",
       "      console.log(\"Bokeh: injecting CSS: https://cdn.pydata.org/bokeh/release/bokeh-0.11.1.min.css\");\n",
       "      Bokeh.embed.inject_css(\"https://cdn.pydata.org/bokeh/release/bokeh-0.11.1.min.css\");\n",
       "      console.log(\"Bokeh: injecting CSS: https://cdn.pydata.org/bokeh/release/bokeh-widgets-0.11.1.min.css\");\n",
       "      Bokeh.embed.inject_css(\"https://cdn.pydata.org/bokeh/release/bokeh-widgets-0.11.1.min.css\");\n",
       "    }\n",
       "  ];\n",
       "\n",
       "  function run_inline_js() {\n",
       "    for (var i = 0; i < inline_js.length; i++) {\n",
       "      inline_js[i](window.Bokeh);\n",
       "    }\n",
       "  }\n",
       "\n",
       "  if (window._bokeh_is_loading === 0) {\n",
       "    console.log(\"Bokeh: BokehJS loaded, going straight to plotting\");\n",
       "    run_inline_js();\n",
       "  } else {\n",
       "    load_libs(js_urls, function() {\n",
       "      console.log(\"Bokeh: BokehJS plotting callback run at\", now());\n",
       "      run_inline_js();\n",
       "    });\n",
       "  }\n",
       "}(this));"
      ]
     },
     "metadata": {},
     "output_type": "display_data"
    }
   ],
   "source": [
    "output_notebook()"
   ]
  },
  {
   "cell_type": "markdown",
   "metadata": {},
   "source": [
    "We start with a little introspection to get lists of all continuous and discrete distributions in ``scipy.stats``. In order to do so, we use an ``Enum`` to define the two types of distribution that exists in the world of mathematics, i.e. *continuous* and *discrete* distributions. Based on a given type we determine all classes that have as base class either ``stats.rv_contiuous`` or ``stats.rv_discrete`` and create an ordered dictionary with the distribution's name as key and the object of the distribution as value."
   ]
  },
  {
   "cell_type": "code",
   "execution_count": 3,
   "metadata": {
    "collapsed": false,
    "scrolled": true
   },
   "outputs": [
    {
     "name": "stdout",
     "output_type": "stream",
     "text": [
      "number of continuous distributions: 89\n",
      "number of discrete distributions:   13\n"
     ]
    }
   ],
   "source": [
    "class DistType(Enum):\n",
    "    continuous = 0\n",
    "    discrete = 1\n",
    "    \n",
    "dist_types = OrderedDict([('continuous', DistType.continuous),\n",
    "                          ('discrete', DistType.discrete)])\n",
    "\n",
    "def get_dict_of_dists(dist_type):\n",
    "    if dist_type is DistType.continuous:\n",
    "        baseclass = stats.rv_continuous\n",
    "    else:\n",
    "        baseclass = stats.rv_discrete\n",
    "    dists = [getattr(stats, d) for d in sorted(dir(stats)) if isinstance(getattr(stats,d), baseclass)]\n",
    "    return OrderedDict([(dist.name, dist) for dist in dists])\n",
    "\n",
    "dist_continuous = get_dict_of_dists(DistType.continuous)\n",
    "dist_discrete = get_dict_of_dists(DistType.discrete)\n",
    "print('number of continuous distributions:', len(dist_continuous))\n",
    "print('number of discrete distributions:  ', len(dist_discrete))"
   ]
  },
  {
   "cell_type": "markdown",
   "metadata": {},
   "source": [
    "Since a lot of distributions need additional shape parameters we use a nested ``defaultdict`` to define shape parameters as we go. For an undefined distribution ``DEFAULT_SHAPES`` will return ``1.0`` for all shape parameters.\n",
    "\n",
    "The ``DEFAULT_SHAPES`` dictionary is not exhaustive, meaning that a lot of sane parameters still need to be configured. We access those default parameters with the help of the function ``default_shape_params``."
   ]
  },
  {
   "cell_type": "code",
   "execution_count": 4,
   "metadata": {
    "collapsed": true
   },
   "outputs": [],
   "source": [
    "def make_default_shape_dict():\n",
    "    shape_param = defaultdict(lambda: 1.0)\n",
    "    return defaultdict(lambda: shape_param)\n",
    "\n",
    "def default_shape_params(dist):\n",
    "    return OrderedDict([(p, DEFAULT_SHAPES[dist.name][p]) for p in shape_params(dist)])\n",
    "\n",
    "DEFAULT_SHAPES = make_default_shape_dict()\n",
    "DEFAULT_SHAPES['alpha'] = {'a': 1.3}\n",
    "DEFAULT_SHAPES['beta'] = {'a': 1.5, 'b': 2.}\n",
    "\n",
    "# discrete\n",
    "DEFAULT_SHAPES['bernoulli'] = {'p': 0.7}\n",
    "DEFAULT_SHAPES['binom'] = {'n': 10, 'p': 0.7}\n",
    "DEFAULT_SHAPES['logser'] = {'p': 0.3}\n",
    "DEFAULT_SHAPES['zipf'] = {'a': 2}\n",
    "DEFAULT_SHAPES['randint'] = {'low': 0, 'high': 10}\n",
    "DEFAULT_SHAPES['nbinom'] = {'n': 10, 'p': 0.6}\n",
    "DEFAULT_SHAPES['hypergeom'] = {'n': 3, 'M': 10, 'N': 7}\n",
    "DEFAULT_SHAPES['geom'] = {'p': 0.6}"
   ]
  },
  {
   "cell_type": "markdown",
   "metadata": {},
   "source": [
    "Every project needs some purely auxiliary functions that help to keep the real program logic shorter and much more comprehensible. We define them in advance and all of them should be pretty much self-explanatory. Eventually, we have functions to:\n",
    "\n",
    "* flatten a list of list,\n",
    "* calculate the support of a distribution,\n",
    "* create patches, i.e. bars, from (x, y) data points,\n",
    "* determine the shape parameters of a distribution,\n",
    "* check if a distribution has shape parameters,\n",
    "* determine the options for a distribution selector widget,\n",
    "* determine the options for a function selector widget."
   ]
  },
  {
   "cell_type": "code",
   "execution_count": 5,
   "metadata": {
    "collapsed": false
   },
   "outputs": [],
   "source": [
    "def flatten(lst):\n",
    "    return [item for sublist in lst for item in sublist]\n",
    "\n",
    "def support(dist, *shapeargs):\n",
    "    # due to bug in scipy.levy_stable no keyword args for interval\n",
    "    return dist.interval(1.0, *shapeargs)\n",
    "\n",
    "def make_patches(x, y, width=0.8):\n",
    "    m = width/2\n",
    "    x = [[p-m, p-m, p+m, p+m] for p in x]\n",
    "    y = [[0, p, p, 0] for p in y]\n",
    "    return x, y\n",
    "\n",
    "def shape_params(dist):\n",
    "    if dist.shapes is not None:\n",
    "        return dist.shapes.split(', ')\n",
    "    \n",
    "def has_shape_params(dist):\n",
    "    return shape_params(dist) is not None\n",
    "\n",
    "def dist_options(dist_type):\n",
    "    if dist_type is DistType.continuous:\n",
    "        return dist_continuous\n",
    "    else:\n",
    "        return dist_discrete\n",
    "\n",
    "def func_options(dist_type):\n",
    "    if dist_type is DistType.continuous:\n",
    "        return ['pdf', 'cdf', 'ppf']\n",
    "    else:\n",
    "        return ['pmf', 'cdf']"
   ]
  },
  {
   "cell_type": "markdown",
   "metadata": {
    "collapsed": true
   },
   "source": [
    "The whole tool is basically about evaluating different functions, e.g. ``pdf``, ``cdf``, etc., of a distribution. So what we need to do is:\n",
    "\n",
    "1. determining the support of the function\n",
    "2. check if the distribution is continuous or discrete\n",
    "3. define a set of suitable ``x``-values\n",
    "4. evaluate the given function on that set of ``x`` and return ``x`` and ``y``"
   ]
  },
  {
   "cell_type": "code",
   "execution_count": 6,
   "metadata": {
    "collapsed": false
   },
   "outputs": [],
   "source": [
    "def get_dist_func_xy(dist, func, *shapeargs, **params):\n",
    "    if func == 'ppf':\n",
    "        interval = [0., 1.]\n",
    "    else:\n",
    "        interval = list(support(dist, *shapeargs))\n",
    "    if dist in dist_continuous.values():\n",
    "        for i, x in enumerate(interval):\n",
    "            if np.isinf(x):\n",
    "                interval[i] = np.sign(x)*100\n",
    "            interval[i] += (-1)**i*1e-3\n",
    "        l, r = interval\n",
    "        x = np.linspace(l, r, 100*(r-l))\n",
    "    elif dist in dist_discrete.values():\n",
    "        for i, x in enumerate(interval):\n",
    "            if np.isinf(x):\n",
    "                interval[i] = np.sign(x)*20\n",
    "        l, r = interval        \n",
    "        x = np.arange(l+1, r+1)\n",
    "    else:\n",
    "        raise RuntimeError(\"Unknown distribution: {}\".format(dist.name))\n",
    "    y = getattr(dist, func)(x, *shapeargs, **params)\n",
    "    return x, y"
   ]
  },
  {
   "cell_type": "markdown",
   "metadata": {
    "collapsed": false
   },
   "source": [
    "Here comes the heavy lifting. Later on, we will define selector widgets for the\n",
    "\n",
    "* type of distribution,\n",
    "* distribution itself,\n",
    "* function of the distribution,\n",
    "* parameters of the distribution (``loc`` and ``scale`` for continuous distributions),\n",
    "* shape parameters of the distribution if they exist,\n",
    "\n",
    "and therefore we need functions that steer the behaviour of the whole tool when one of the widgets changes its value. Because of that all functions start with the prefix ``update_`` and basically wire all widgets together. For instance if currently the normal distribution is selected and you choose the distribution type *discrete* we need to also set the distribution selector to a discrete distribution which also triggers the function selector in order to choose a suitable function like ``pmf`` for a discrete distribution."
   ]
  },
  {
   "cell_type": "code",
   "execution_count": 10,
   "metadata": {
    "collapsed": true
   },
   "outputs": [],
   "source": [
    "def update_type_sel():\n",
    "    dist_sel.options = dist_options(type_sel.value)\n",
    "    \n",
    "def update_dist_sel():\n",
    "    func_sel.options = func_options(type_sel.value)\n",
    "    if has_shape_params(dist_sel.value):\n",
    "        shapes = default_shape_params(dist_sel.value)\n",
    "        text_inputs = [widgets.BoundedFloatText(value=v, description='{}:'.format(k)) for k, v in shapes.items()]\n",
    "        [w.on_trait_change(update_dist_params, name='value') for w in text_inputs]\n",
    "        shape_param_container.children = text_inputs\n",
    "    else:\n",
    "        shape_param_container.children = []\n",
    "    if type_sel.value is DistType.continuous:\n",
    "        param_container.children = [loc_slider, scale_slider]\n",
    "    else:\n",
    "        param_container.children = []\n",
    "    update_dist_params()\n",
    "\n",
    "def update_continuous(fig, data, *shapeargs):\n",
    "    params = dict(loc=loc_slider.value, scale=scale_slider.value)\n",
    "    data['x'], data['y'] = get_dist_func_xy(dist_sel.value, func_sel.value, *shapeargs, **params)\n",
    "    fig.y_range.start = max(np.max(data['y']) - 5, 1.1*np.min(data['y']))\n",
    "    fig.y_range.end = min(np.min(data['y']) + 5, 1.1*np.max(data['y']))\n",
    "    offset, lim = 1e-1, 5\n",
    "    fig.x_range.start = max(-lim, np.min(data['x']) - offset)\n",
    "    fig.x_range.end = min(lim, np.max(data['x']) + offset)\n",
    "    \n",
    "def update_discrete(fig, data, *shapeargs):\n",
    "    x, y = get_dist_func_xy(dist_sel.value, func_sel.value, *shapeargs)\n",
    "    data['xs'], data['ys'] = make_patches(x, y)\n",
    "    fig.y_range.start, fig.y_range.end = 0., 1.1*max(max(data['ys']))\n",
    "    x_good_values = [x for x, y in zip(flatten(data['xs']), flatten(data['ys'])) if y > 0.001 and y < 0.999] \n",
    "    fig.x_range.start = min(x_good_values) - 1\n",
    "    fig.x_range.end = max(x_good_values) + 1\n",
    "    \n",
    "def update_dist_params():\n",
    "    shapeargs = [c.value for c in shape_param_container.children]\n",
    "    l_data['x'], l_data['y'] = [], []\n",
    "    p_data['xs'], p_data['ys'] = [], []\n",
    "    try:\n",
    "        if type_sel.value is DistType.continuous:\n",
    "            update_continuous(fig, l_data, *shapeargs)\n",
    "        else:\n",
    "            update_discrete(fig, p_data, *shapeargs)\n",
    "    except Exception as e:\n",
    "        error_text.value = \"Invalid parameters! Choose again.<br>ERROR: {}\".format(e)\n",
    "        error_text.visible = True\n",
    "    else:\n",
    "        error_text.visible = False\n",
    "    push_notebook() "
   ]
  },
  {
   "cell_type": "markdown",
   "metadata": {},
   "source": [
    "To render the function values of the distribution we will use [Bokeh](http://bokeh.pydata.org/) which is a lot more appropriate for interactive visualsiation than *matplotlib* and looks much nicer by default. Bokeh itself comes with a lot of widgets and you can do wonderful things like complete reporting web interfaces with them but at this point my design decision was to stick with Jupyter. Jupyter itself has [ipywidgets](http://ipywidgets.readthedocs.org/) and currently the advantage is that the Python community is just crazy about Jupyter meaning that there are also a lot of cool services like [binder](http://mybinder.org/), [tmpnb](https://tmpnb.org/) and many more. Since Bokeh widgets need a Bokeh server to be functional it is much easier right now to find a free service like binder that operates your notebook.\n",
    "\n",
    "That being said, here we go. We are basically following Bokeh's [Working in the Notebook tutorial](http://bokeh.pydata.org/en/0.11.0/docs/user_guide/notebook.html) and start by defining a figure as well as two glyphs, ``line`` for plotting continuous distributions and ``patches`` in order to plot discrete distributions. Currently, there is a limitation in the Jupyter/Bokeh interaction that allows you to only change the values in a plot of the last figure that was displayed. More important though is the fact that you change the last figure by changing the input sources (``data_source``) of the glyph's renderer and push them to the notebook via ``push_notebook()``. For that reason we set up only one figure including glyphs for plotting continuous as well as discreet functions and return the figure as well as the data sources of both renderers."
   ]
  },
  {
   "cell_type": "code",
   "execution_count": 11,
   "metadata": {
    "collapsed": true
   },
   "outputs": [],
   "source": [
    "def get_dist_fig_data():\n",
    "    fig = figure(width=700, height=700, title=None, x_range=(-1, 1), y_range=(0, 1))\n",
    "    ren_p = fig.patches([[]], [[]], line_width=3, alpha=0.3)\n",
    "    ren_l = fig.line([], [], line_width=3)\n",
    "    return fig, ren_l.data_source.data, ren_p.data_source.data"
   ]
  },
  {
   "cell_type": "markdown",
   "metadata": {},
   "source": [
    "At this point we have everything set up and what's left to do is only to define the actual widgets and use the functionality defined before to wire them up. Currently I am quite dissatisfied with the fact that the update functions work a lot on our globally defined widgets. It would be way more explicit if the update function had parameters for all widgets they are working on. One solution could be to make use of the *Functor Pattern* with the help of ``functools.partial`` but I am not 100% convinced. Drop me a line in the comments if you have a solution to that."
   ]
  },
  {
   "cell_type": "code",
   "execution_count": 13,
   "metadata": {
    "collapsed": false
   },
   "outputs": [
    {
     "data": {
      "text/html": [
       "\n",
       "\n",
       "    <div class=\"plotdiv\" id=\"5246c084-8f9b-4c18-a261-9958a84d741d\"></div>\n",
       "<script type=\"text/javascript\">\n",
       "  \n",
       "  (function(global) {\n",
       "    function now() {\n",
       "      return new Date();\n",
       "    }\n",
       "  \n",
       "    if (typeof (window._bokeh_onload_callbacks) === \"undefined\") {\n",
       "      window._bokeh_onload_callbacks = [];\n",
       "    }\n",
       "  \n",
       "    function run_callbacks() {\n",
       "      window._bokeh_onload_callbacks.forEach(function(callback) { callback() });\n",
       "      delete window._bokeh_onload_callbacks\n",
       "      console.info(\"Bokeh: all callbacks have finished\");\n",
       "    }\n",
       "  \n",
       "    function load_libs(js_urls, callback) {\n",
       "      window._bokeh_onload_callbacks.push(callback);\n",
       "      if (window._bokeh_is_loading > 0) {\n",
       "        console.log(\"Bokeh: BokehJS is being loaded, scheduling callback at\", now());\n",
       "        return null;\n",
       "      }\n",
       "      if (js_urls == null || js_urls.length === 0) {\n",
       "        run_callbacks();\n",
       "        return null;\n",
       "      }\n",
       "      console.log(\"Bokeh: BokehJS not loaded, scheduling load and callback at\", now());\n",
       "      window._bokeh_is_loading = js_urls.length;\n",
       "      for (var i = 0; i < js_urls.length; i++) {\n",
       "        var url = js_urls[i];\n",
       "        var s = document.createElement('script');\n",
       "        s.src = url;\n",
       "        s.async = false;\n",
       "        s.onreadystatechange = s.onload = function() {\n",
       "          window._bokeh_is_loading--;\n",
       "          if (window._bokeh_is_loading === 0) {\n",
       "            console.log(\"Bokeh: all BokehJS libraries loaded\");\n",
       "            run_callbacks()\n",
       "          }\n",
       "        };\n",
       "        s.onerror = function() {\n",
       "          console.warn(\"failed to load library \" + url);\n",
       "        };\n",
       "        console.log(\"Bokeh: injecting script tag for BokehJS library: \", url);\n",
       "        document.getElementsByTagName(\"head\")[0].appendChild(s);\n",
       "      }\n",
       "    };var element = document.getElementById(\"5246c084-8f9b-4c18-a261-9958a84d741d\");\n",
       "    if (element == null) {\n",
       "      console.log(\"Bokeh: ERROR: autoload.js configured with elementid '5246c084-8f9b-4c18-a261-9958a84d741d' but no matching script tag was found. \")\n",
       "      return false;\n",
       "    }\n",
       "  \n",
       "    var js_urls = [];\n",
       "  \n",
       "    var inline_js = [\n",
       "      function(Bokeh) {\n",
       "        Bokeh.$(function() {\n",
       "            var docs_json = {\"8d55acfb-c14f-42a8-a4eb-0d96ff77f141\":{\"roots\":{\"references\":[{\"attributes\":{\"line_alpha\":{\"value\":0.1},\"line_color\":{\"value\":\"#1f77b4\"},\"line_width\":{\"value\":3},\"x\":{\"field\":\"x\"},\"y\":{\"field\":\"y\"}},\"id\":\"ff809bea-760a-4593-808c-2004bd22a9df\",\"type\":\"Line\"},{\"attributes\":{},\"id\":\"0bc0873f-f505-4d83-85f2-38250c054504\",\"type\":\"BasicTickFormatter\"},{\"attributes\":{\"callback\":null,\"end\":1.4,\"start\":-1.4},\"id\":\"b02b3ece-f632-46ca-a5ab-cefb8df0bf39\",\"type\":\"Range1d\"},{\"attributes\":{\"bottom_units\":\"screen\",\"fill_alpha\":{\"value\":0.5},\"fill_color\":{\"value\":\"lightgrey\"},\"left_units\":\"screen\",\"level\":\"overlay\",\"line_alpha\":{\"value\":1.0},\"line_color\":{\"value\":\"black\"},\"line_dash\":[4,4],\"line_width\":{\"value\":2},\"plot\":null,\"render_mode\":\"css\",\"right_units\":\"screen\",\"top_units\":\"screen\"},\"id\":\"ffa56ef8-f34b-4844-b458-1d4e3f078f51\",\"type\":\"BoxAnnotation\"},{\"attributes\":{\"plot\":{\"id\":\"584ad3c4-de25-4d0f-816d-42aae3b49790\",\"subtype\":\"Figure\",\"type\":\"Plot\"}},\"id\":\"20a77df3-cb8b-46d8-83ea-db110f4d622a\",\"type\":\"PreviewSaveTool\"},{\"attributes\":{\"plot\":{\"id\":\"881ff86e-e7b4-4029-a108-405a6176a429\",\"subtype\":\"Figure\",\"type\":\"Plot\"}},\"id\":\"c6d39835-1e20-40a7-b309-d864a1702c62\",\"type\":\"PreviewSaveTool\"},{\"attributes\":{\"line_alpha\":{\"value\":0.1},\"line_color\":{\"value\":\"#1f77b4\"},\"line_width\":{\"value\":3},\"x\":{\"field\":\"x\"},\"y\":{\"field\":\"y\"}},\"id\":\"74a56ffd-02c8-452d-8862-2fc3fe0954ef\",\"type\":\"Line\"},{\"attributes\":{\"data_source\":{\"id\":\"a2c9d917-9223-4237-90d5-c994a680e23a\",\"type\":\"ColumnDataSource\"},\"glyph\":{\"id\":\"aca8d3f0-f7b7-4983-a755-90cf05b2cba1\",\"type\":\"Patches\"},\"hover_glyph\":null,\"nonselection_glyph\":{\"id\":\"1033803e-cb71-45fa-960b-e189160cbf13\",\"type\":\"Patches\"},\"selection_glyph\":null},\"id\":\"9308ff75-e0f4-4b6c-914d-51de9f23b128\",\"type\":\"GlyphRenderer\"},{\"attributes\":{\"data_source\":{\"id\":\"acad01e0-1ede-4ac6-b2fb-cd5eea5c0e26\",\"type\":\"ColumnDataSource\"},\"glyph\":{\"id\":\"b040d252-6092-4ebd-88fe-cf2dc5649783\",\"type\":\"Line\"},\"hover_glyph\":null,\"nonselection_glyph\":{\"id\":\"ff809bea-760a-4593-808c-2004bd22a9df\",\"type\":\"Line\"},\"selection_glyph\":null},\"id\":\"8512072c-a054-4c93-82e5-f3d1f26b777a\",\"type\":\"GlyphRenderer\"},{\"attributes\":{\"callback\":null,\"column_names\":[\"x\",\"y\"],\"data\":{\"x\":[],\"y\":[]}},\"id\":\"2cd73264-dd50-4817-a3f4-934f31d1a8c2\",\"type\":\"ColumnDataSource\"},{\"attributes\":{\"dimension\":1,\"plot\":{\"id\":\"584ad3c4-de25-4d0f-816d-42aae3b49790\",\"subtype\":\"Figure\",\"type\":\"Plot\"},\"ticker\":{\"id\":\"5d4d532e-796e-4016-ab92-306c07807c91\",\"type\":\"BasicTicker\"}},\"id\":\"64ffc5d8-f37b-41f8-8eeb-a9baac06fa33\",\"type\":\"Grid\"},{\"attributes\":{\"callback\":null,\"end\":21.4,\"start\":-1.4},\"id\":\"b6e0b367-dccb-43b3-a15b-3e7ae2116bac\",\"type\":\"Range1d\"},{\"attributes\":{\"callback\":null},\"id\":\"489e1021-930b-45b9-a229-13ebde1387da\",\"type\":\"Range1d\"},{\"attributes\":{\"line_color\":{\"value\":\"#1f77b4\"},\"line_width\":{\"value\":3},\"x\":{\"field\":\"x\"},\"y\":{\"field\":\"y\"}},\"id\":\"1896829b-cc8c-4862-8663-b2ba10def9f1\",\"type\":\"Line\"},{\"attributes\":{\"below\":[{\"id\":\"17214468-3f74-4cbe-9772-bf3648467d6a\",\"type\":\"LinearAxis\"}],\"left\":[{\"id\":\"7c7c3dc2-7bf2-418c-9328-905a1a259e7a\",\"type\":\"LinearAxis\"}],\"plot_height\":700,\"plot_width\":700,\"renderers\":[{\"id\":\"17214468-3f74-4cbe-9772-bf3648467d6a\",\"type\":\"LinearAxis\"},{\"id\":\"b2612130-11fa-4f3f-ba5a-9482378d2503\",\"type\":\"Grid\"},{\"id\":\"7c7c3dc2-7bf2-418c-9328-905a1a259e7a\",\"type\":\"LinearAxis\"},{\"id\":\"2e54116c-d48d-45a5-aec7-c30bc8493904\",\"type\":\"Grid\"},{\"id\":\"ffa56ef8-f34b-4844-b458-1d4e3f078f51\",\"type\":\"BoxAnnotation\"},{\"id\":\"7c3a7eb8-0c29-46af-9f11-249ca544b4d2\",\"type\":\"GlyphRenderer\"},{\"id\":\"8512072c-a054-4c93-82e5-f3d1f26b777a\",\"type\":\"GlyphRenderer\"}],\"title\":null,\"tool_events\":{\"id\":\"33cd1ff1-184a-47f7-a85d-79ea60199dda\",\"type\":\"ToolEvents\"},\"tools\":[{\"id\":\"b37d7079-79b2-4f29-8b6f-1cac46fe16a4\",\"type\":\"PanTool\"},{\"id\":\"ab088ac2-26b0-450d-b829-f10bb90a67f2\",\"type\":\"WheelZoomTool\"},{\"id\":\"ea504ee9-8603-4a9a-b0ce-b0ca53a88af8\",\"type\":\"BoxZoomTool\"},{\"id\":\"91c63df0-3a6f-4cdf-9bf5-d21f75cd83df\",\"type\":\"PreviewSaveTool\"},{\"id\":\"05155641-d776-41e1-a86a-ed49006ea0b3\",\"type\":\"ResizeTool\"},{\"id\":\"ee49952b-da99-4f6c-bece-1786b1170114\",\"type\":\"ResetTool\"},{\"id\":\"621a5d95-0701-4104-8cf0-178730b19ca8\",\"type\":\"HelpTool\"}],\"x_range\":{\"id\":\"b02b3ece-f632-46ca-a5ab-cefb8df0bf39\",\"type\":\"Range1d\"},\"y_range\":{\"id\":\"73adb056-f7aa-43c1-84c0-48c6460282eb\",\"type\":\"Range1d\"}},\"id\":\"79f7c1d9-3570-4f0b-9425-5637ba84a633\",\"subtype\":\"Figure\",\"type\":\"Plot\"},{\"attributes\":{\"plot\":{\"id\":\"881ff86e-e7b4-4029-a108-405a6176a429\",\"subtype\":\"Figure\",\"type\":\"Plot\"}},\"id\":\"27a3811a-648d-4d93-9d55-7079d17892b9\",\"type\":\"ResetTool\"},{\"attributes\":{\"callback\":null,\"column_names\":[\"x\",\"y\"],\"data\":{\"x\":[],\"y\":[]}},\"id\":\"af4be7d2-ec52-4673-b63a-470917b67c64\",\"type\":\"ColumnDataSource\"},{\"attributes\":{\"plot\":{\"id\":\"79f7c1d9-3570-4f0b-9425-5637ba84a633\",\"subtype\":\"Figure\",\"type\":\"Plot\"}},\"id\":\"b37d7079-79b2-4f29-8b6f-1cac46fe16a4\",\"type\":\"PanTool\"},{\"attributes\":{},\"id\":\"d011c042-31b6-4818-b56a-9467d9bfad6e\",\"type\":\"BasicTicker\"},{\"attributes\":{\"fill_alpha\":{\"value\":0.3},\"fill_color\":{\"value\":\"#1f77b4\"},\"line_alpha\":{\"value\":0.3},\"line_color\":{\"value\":\"#1f77b4\"},\"line_width\":{\"value\":3},\"xs\":{\"field\":\"xs\"},\"ys\":{\"field\":\"ys\"}},\"id\":\"b7959b41-ad4e-4d19-b61c-f875a3da86ba\",\"type\":\"Patches\"},{\"attributes\":{},\"id\":\"02a93a8c-785d-4d03-981f-774d2c706325\",\"type\":\"BasicTicker\"},{\"attributes\":{\"plot\":{\"id\":\"881ff86e-e7b4-4029-a108-405a6176a429\",\"subtype\":\"Figure\",\"type\":\"Plot\"}},\"id\":\"e84feff1-28b0-4ee3-b08d-704f51c8e813\",\"type\":\"HelpTool\"},{\"attributes\":{\"dimension\":1,\"plot\":{\"id\":\"79f7c1d9-3570-4f0b-9425-5637ba84a633\",\"subtype\":\"Figure\",\"type\":\"Plot\"},\"ticker\":{\"id\":\"81b50645-cbf4-41e2-ab19-7c90dfc8789f\",\"type\":\"BasicTicker\"}},\"id\":\"2e54116c-d48d-45a5-aec7-c30bc8493904\",\"type\":\"Grid\"},{\"attributes\":{\"formatter\":{\"id\":\"a932ad49-daf8-4e40-9e35-9b6c1d75e522\",\"type\":\"BasicTickFormatter\"},\"plot\":{\"id\":\"881ff86e-e7b4-4029-a108-405a6176a429\",\"subtype\":\"Figure\",\"type\":\"Plot\"},\"ticker\":{\"id\":\"43c1f9ca-d36f-4700-ac79-1f201fff0bd9\",\"type\":\"BasicTicker\"}},\"id\":\"2c3701a2-5e28-48a8-96a6-4bdaa6038589\",\"type\":\"LinearAxis\"},{\"attributes\":{\"plot\":{\"id\":\"881ff86e-e7b4-4029-a108-405a6176a429\",\"subtype\":\"Figure\",\"type\":\"Plot\"}},\"id\":\"d175cdcf-99fe-479d-9057-c032e0e01361\",\"type\":\"WheelZoomTool\"},{\"attributes\":{\"below\":[{\"id\":\"2c3701a2-5e28-48a8-96a6-4bdaa6038589\",\"type\":\"LinearAxis\"}],\"left\":[{\"id\":\"8b93937d-505e-4c54-8bf8-b722b100e24c\",\"type\":\"LinearAxis\"}],\"plot_height\":700,\"plot_width\":700,\"renderers\":[{\"id\":\"2c3701a2-5e28-48a8-96a6-4bdaa6038589\",\"type\":\"LinearAxis\"},{\"id\":\"019690da-774a-4e76-8a40-19160af8dc1a\",\"type\":\"Grid\"},{\"id\":\"8b93937d-505e-4c54-8bf8-b722b100e24c\",\"type\":\"LinearAxis\"},{\"id\":\"533abb7f-5f53-4e31-a8be-7bcc4c680fa8\",\"type\":\"Grid\"},{\"id\":\"fcccd963-2705-482e-8ab4-f40cd6981732\",\"type\":\"BoxAnnotation\"},{\"id\":\"1007a419-c81b-4137-8c1b-1edbf1c0afb0\",\"type\":\"GlyphRenderer\"},{\"id\":\"95c3c0f1-0390-4805-b76f-1ee42baa382e\",\"type\":\"GlyphRenderer\"}],\"title\":null,\"tool_events\":{\"id\":\"ecaab56a-93fe-4253-b4a3-5df055f7ba58\",\"type\":\"ToolEvents\"},\"tools\":[{\"id\":\"7f7ba256-70f5-40bf-86f5-3922d4fbfc37\",\"type\":\"PanTool\"},{\"id\":\"d175cdcf-99fe-479d-9057-c032e0e01361\",\"type\":\"WheelZoomTool\"},{\"id\":\"98962c8a-7789-4009-b3d3-b9b8822e8a89\",\"type\":\"BoxZoomTool\"},{\"id\":\"c6d39835-1e20-40a7-b309-d864a1702c62\",\"type\":\"PreviewSaveTool\"},{\"id\":\"5f28e589-a2b1-4805-95f1-dd6eb2b708f1\",\"type\":\"ResizeTool\"},{\"id\":\"27a3811a-648d-4d93-9d55-7079d17892b9\",\"type\":\"ResetTool\"},{\"id\":\"e84feff1-28b0-4ee3-b08d-704f51c8e813\",\"type\":\"HelpTool\"}],\"x_range\":{\"id\":\"b6e0b367-dccb-43b3-a15b-3e7ae2116bac\",\"type\":\"Range1d\"},\"y_range\":{\"id\":\"b1e47c58-0fdb-44ca-880d-06104f533310\",\"type\":\"Range1d\"}},\"id\":\"881ff86e-e7b4-4029-a108-405a6176a429\",\"subtype\":\"Figure\",\"type\":\"Plot\"},{\"attributes\":{\"callback\":null,\"start\":-1},\"id\":\"12cde68e-a5e3-4e46-b4fd-22d54c32b76b\",\"type\":\"Range1d\"},{\"attributes\":{\"plot\":{\"id\":\"79f7c1d9-3570-4f0b-9425-5637ba84a633\",\"subtype\":\"Figure\",\"type\":\"Plot\"}},\"id\":\"621a5d95-0701-4104-8cf0-178730b19ca8\",\"type\":\"HelpTool\"},{\"attributes\":{},\"id\":\"a932ad49-daf8-4e40-9e35-9b6c1d75e522\",\"type\":\"BasicTickFormatter\"},{\"attributes\":{\"plot\":{\"id\":\"79f7c1d9-3570-4f0b-9425-5637ba84a633\",\"subtype\":\"Figure\",\"type\":\"Plot\"}},\"id\":\"91c63df0-3a6f-4cdf-9bf5-d21f75cd83df\",\"type\":\"PreviewSaveTool\"},{\"attributes\":{},\"id\":\"3c608ebb-d682-49e2-8e51-a7fff434e7cb\",\"type\":\"BasicTickFormatter\"},{\"attributes\":{\"formatter\":{\"id\":\"33e50cb0-b8f6-41c3-a4c8-42ed19626a2a\",\"type\":\"BasicTickFormatter\"},\"plot\":{\"id\":\"881ff86e-e7b4-4029-a108-405a6176a429\",\"subtype\":\"Figure\",\"type\":\"Plot\"},\"ticker\":{\"id\":\"6aaa568a-7580-4ea9-8508-451eb663c9dd\",\"type\":\"BasicTicker\"}},\"id\":\"8b93937d-505e-4c54-8bf8-b722b100e24c\",\"type\":\"LinearAxis\"},{\"attributes\":{\"plot\":{\"id\":\"881ff86e-e7b4-4029-a108-405a6176a429\",\"subtype\":\"Figure\",\"type\":\"Plot\"},\"ticker\":{\"id\":\"43c1f9ca-d36f-4700-ac79-1f201fff0bd9\",\"type\":\"BasicTicker\"}},\"id\":\"019690da-774a-4e76-8a40-19160af8dc1a\",\"type\":\"Grid\"},{\"attributes\":{\"fill_alpha\":{\"value\":0.1},\"fill_color\":{\"value\":\"#1f77b4\"},\"line_alpha\":{\"value\":0.1},\"line_color\":{\"value\":\"#1f77b4\"},\"line_width\":{\"value\":3},\"xs\":{\"field\":\"xs\"},\"ys\":{\"field\":\"ys\"}},\"id\":\"9338be24-ef03-413d-bd79-d6c95c8dad99\",\"type\":\"Patches\"},{\"attributes\":{\"plot\":{\"id\":\"79f7c1d9-3570-4f0b-9425-5637ba84a633\",\"subtype\":\"Figure\",\"type\":\"Plot\"}},\"id\":\"05155641-d776-41e1-a86a-ed49006ea0b3\",\"type\":\"ResizeTool\"},{\"attributes\":{\"plot\":{\"id\":\"584ad3c4-de25-4d0f-816d-42aae3b49790\",\"subtype\":\"Figure\",\"type\":\"Plot\"}},\"id\":\"f4fd1252-8bbc-4f8f-b41e-7d926dfe7262\",\"type\":\"HelpTool\"},{\"attributes\":{\"overlay\":{\"id\":\"1e01a364-5f0d-4aab-8a4c-2d650acfc3cc\",\"type\":\"BoxAnnotation\"},\"plot\":{\"id\":\"584ad3c4-de25-4d0f-816d-42aae3b49790\",\"subtype\":\"Figure\",\"type\":\"Plot\"}},\"id\":\"2102968b-a980-4a53-b483-8fd88f0af435\",\"type\":\"BoxZoomTool\"},{\"attributes\":{\"formatter\":{\"id\":\"270f7f38-77ec-400a-a3a3-16c793d501b9\",\"type\":\"BasicTickFormatter\"},\"plot\":{\"id\":\"79f7c1d9-3570-4f0b-9425-5637ba84a633\",\"subtype\":\"Figure\",\"type\":\"Plot\"},\"ticker\":{\"id\":\"81b50645-cbf4-41e2-ab19-7c90dfc8789f\",\"type\":\"BasicTicker\"}},\"id\":\"7c7c3dc2-7bf2-418c-9328-905a1a259e7a\",\"type\":\"LinearAxis\"},{\"attributes\":{},\"id\":\"43c1f9ca-d36f-4700-ac79-1f201fff0bd9\",\"type\":\"BasicTicker\"},{\"attributes\":{},\"id\":\"33e50cb0-b8f6-41c3-a4c8-42ed19626a2a\",\"type\":\"BasicTickFormatter\"},{\"attributes\":{\"data_source\":{\"id\":\"51ccc965-a448-45c8-a08e-0214d09658c2\",\"type\":\"ColumnDataSource\"},\"glyph\":{\"id\":\"2c5b7251-a5dc-4bd2-9436-7b2ba377e4e3\",\"type\":\"Patches\"},\"hover_glyph\":null,\"nonselection_glyph\":{\"id\":\"9338be24-ef03-413d-bd79-d6c95c8dad99\",\"type\":\"Patches\"},\"selection_glyph\":null},\"id\":\"1007a419-c81b-4137-8c1b-1edbf1c0afb0\",\"type\":\"GlyphRenderer\"},{\"attributes\":{\"data_source\":{\"id\":\"4cfa8933-afa4-4f73-b31b-cfc4c154b80c\",\"type\":\"ColumnDataSource\"},\"glyph\":{\"id\":\"b7959b41-ad4e-4d19-b61c-f875a3da86ba\",\"type\":\"Patches\"},\"hover_glyph\":null,\"nonselection_glyph\":{\"id\":\"0db71b21-d576-4823-85b9-72265d0d4b4d\",\"type\":\"Patches\"},\"selection_glyph\":null},\"id\":\"7c3a7eb8-0c29-46af-9f11-249ca544b4d2\",\"type\":\"GlyphRenderer\"},{\"attributes\":{},\"id\":\"755ce1c9-799d-4a09-bd4a-2aa2e8dae64f\",\"type\":\"BasicTickFormatter\"},{\"attributes\":{\"dimension\":1,\"plot\":{\"id\":\"881ff86e-e7b4-4029-a108-405a6176a429\",\"subtype\":\"Figure\",\"type\":\"Plot\"},\"ticker\":{\"id\":\"6aaa568a-7580-4ea9-8508-451eb663c9dd\",\"type\":\"BasicTicker\"}},\"id\":\"533abb7f-5f53-4e31-a8be-7bcc4c680fa8\",\"type\":\"Grid\"},{\"attributes\":{\"bottom_units\":\"screen\",\"fill_alpha\":{\"value\":0.5},\"fill_color\":{\"value\":\"lightgrey\"},\"left_units\":\"screen\",\"level\":\"overlay\",\"line_alpha\":{\"value\":1.0},\"line_color\":{\"value\":\"black\"},\"line_dash\":[4,4],\"line_width\":{\"value\":2},\"plot\":null,\"render_mode\":\"css\",\"right_units\":\"screen\",\"top_units\":\"screen\"},\"id\":\"fcccd963-2705-482e-8ab4-f40cd6981732\",\"type\":\"BoxAnnotation\"},{\"attributes\":{\"plot\":{\"id\":\"584ad3c4-de25-4d0f-816d-42aae3b49790\",\"subtype\":\"Figure\",\"type\":\"Plot\"}},\"id\":\"740acc2d-6279-4cb7-80ca-ae4d6666e386\",\"type\":\"ResizeTool\"},{\"attributes\":{\"fill_alpha\":{\"value\":0.1},\"fill_color\":{\"value\":\"#1f77b4\"},\"line_alpha\":{\"value\":0.1},\"line_color\":{\"value\":\"#1f77b4\"},\"line_width\":{\"value\":3},\"xs\":{\"field\":\"xs\"},\"ys\":{\"field\":\"ys\"}},\"id\":\"0db71b21-d576-4823-85b9-72265d0d4b4d\",\"type\":\"Patches\"},{\"attributes\":{},\"id\":\"5d4d532e-796e-4016-ab92-306c07807c91\",\"type\":\"BasicTicker\"},{\"attributes\":{},\"id\":\"270f7f38-77ec-400a-a3a3-16c793d501b9\",\"type\":\"BasicTickFormatter\"},{\"attributes\":{\"callback\":null,\"column_names\":[\"x\",\"y\"],\"data\":{\"x\":[],\"y\":[]}},\"id\":\"acad01e0-1ede-4ac6-b2fb-cd5eea5c0e26\",\"type\":\"ColumnDataSource\"},{\"attributes\":{\"plot\":{\"id\":\"881ff86e-e7b4-4029-a108-405a6176a429\",\"subtype\":\"Figure\",\"type\":\"Plot\"}},\"id\":\"7f7ba256-70f5-40bf-86f5-3922d4fbfc37\",\"type\":\"PanTool\"},{\"attributes\":{\"plot\":{\"id\":\"79f7c1d9-3570-4f0b-9425-5637ba84a633\",\"subtype\":\"Figure\",\"type\":\"Plot\"},\"ticker\":{\"id\":\"d011c042-31b6-4818-b56a-9467d9bfad6e\",\"type\":\"BasicTicker\"}},\"id\":\"b2612130-11fa-4f3f-ba5a-9482378d2503\",\"type\":\"Grid\"},{\"attributes\":{\"formatter\":{\"id\":\"755ce1c9-799d-4a09-bd4a-2aa2e8dae64f\",\"type\":\"BasicTickFormatter\"},\"plot\":{\"id\":\"79f7c1d9-3570-4f0b-9425-5637ba84a633\",\"subtype\":\"Figure\",\"type\":\"Plot\"},\"ticker\":{\"id\":\"d011c042-31b6-4818-b56a-9467d9bfad6e\",\"type\":\"BasicTicker\"}},\"id\":\"17214468-3f74-4cbe-9772-bf3648467d6a\",\"type\":\"LinearAxis\"},{\"attributes\":{},\"id\":\"7c349937-69fd-4f55-ad99-97a2c24a7aa0\",\"type\":\"ToolEvents\"},{\"attributes\":{},\"id\":\"6aaa568a-7580-4ea9-8508-451eb663c9dd\",\"type\":\"BasicTicker\"},{\"attributes\":{\"fill_alpha\":{\"value\":0.3},\"fill_color\":{\"value\":\"#1f77b4\"},\"line_alpha\":{\"value\":0.3},\"line_color\":{\"value\":\"#1f77b4\"},\"line_width\":{\"value\":3},\"xs\":{\"field\":\"xs\"},\"ys\":{\"field\":\"ys\"}},\"id\":\"aca8d3f0-f7b7-4983-a755-90cf05b2cba1\",\"type\":\"Patches\"},{\"attributes\":{\"plot\":{\"id\":\"79f7c1d9-3570-4f0b-9425-5637ba84a633\",\"subtype\":\"Figure\",\"type\":\"Plot\"}},\"id\":\"ee49952b-da99-4f6c-bece-1786b1170114\",\"type\":\"ResetTool\"},{\"attributes\":{\"callback\":null,\"column_names\":[\"ys\",\"xs\"],\"data\":{\"xs\":[[-0.4,-0.4,0.4,0.4],[0.6,0.6,1.4,1.4]],\"ys\":[[0.0,0.19999999999999996,0.19999999999999996,0.0],[0.0,1.0,1.0,0.0]]}},\"id\":\"4cfa8933-afa4-4f73-b31b-cfc4c154b80c\",\"type\":\"ColumnDataSource\"},{\"attributes\":{\"plot\":{\"id\":\"881ff86e-e7b4-4029-a108-405a6176a429\",\"subtype\":\"Figure\",\"type\":\"Plot\"}},\"id\":\"5f28e589-a2b1-4805-95f1-dd6eb2b708f1\",\"type\":\"ResizeTool\"},{\"attributes\":{\"data_source\":{\"id\":\"2cd73264-dd50-4817-a3f4-934f31d1a8c2\",\"type\":\"ColumnDataSource\"},\"glyph\":{\"id\":\"1896829b-cc8c-4862-8663-b2ba10def9f1\",\"type\":\"Line\"},\"hover_glyph\":null,\"nonselection_glyph\":{\"id\":\"989c12c1-a7d9-4e98-9baa-277f2ace2243\",\"type\":\"Line\"},\"selection_glyph\":null},\"id\":\"95c3c0f1-0390-4805-b76f-1ee42baa382e\",\"type\":\"GlyphRenderer\"},{\"attributes\":{\"formatter\":{\"id\":\"3c608ebb-d682-49e2-8e51-a7fff434e7cb\",\"type\":\"BasicTickFormatter\"},\"plot\":{\"id\":\"584ad3c4-de25-4d0f-816d-42aae3b49790\",\"subtype\":\"Figure\",\"type\":\"Plot\"},\"ticker\":{\"id\":\"5d4d532e-796e-4016-ab92-306c07807c91\",\"type\":\"BasicTicker\"}},\"id\":\"63f15ece-48ec-4483-84e7-fdffc108285c\",\"type\":\"LinearAxis\"},{\"attributes\":{\"callback\":null,\"column_names\":[\"ys\",\"xs\"],\"data\":{\"xs\":[[-0.4,-0.4,0.4,0.4],[0.6,0.6,1.4,1.4],[1.6,1.6,2.4,2.4],[2.6,2.6,3.4,3.4],[3.6,3.6,4.4,4.4],[4.6,4.6,5.4,5.4],[5.6,5.6,6.4,6.4],[6.6,6.6,7.4,7.4],[7.6,7.6,8.4,8.4],[8.6,8.6,9.4,9.4],[9.6,9.6,10.4,10.4],[10.6,10.6,11.4,11.4],[11.6,11.6,12.4,12.4],[12.6,12.6,13.4,13.4],[13.6,13.6,14.4,14.4],[14.6,14.6,15.4,15.4],[15.6,15.6,16.4,16.4],[16.6,16.6,17.4,17.4],[17.6,17.6,18.4,18.4],[18.6,18.6,19.4,19.4],[19.6,19.6,20.4,20.4]],\"ys\":[[0.0,0.6321205588285577,0.6321205588285577,0.0],[0.0,0.8646647167633873,0.8646647167633873,0.0],[0.0,0.950212931632136,0.950212931632136,0.0],[0.0,0.9816843611112658,0.9816843611112658,0.0],[0.0,0.9932620530009145,0.9932620530009145,0.0],[0.0,0.9975212478233336,0.9975212478233336,0.0],[0.0,0.9990881180344455,0.9990881180344455,0.0],[0.0,0.9996645373720975,0.9996645373720975,0.0],[0.0,0.9998765901959134,0.9998765901959134,0.0],[0.0,0.9999546000702375,0.9999546000702375,0.0],[0.0,0.9999832982992097,0.9999832982992097,0.0],[0.0,0.9999938557876467,0.9999938557876467,0.0],[0.0,0.999997739670593,0.999997739670593,0.0],[0.0,0.9999991684712809,0.9999991684712809,0.0],[0.0,0.9999996940976795,0.9999996940976795,0.0],[0.0,0.9999998874648253,0.9999998874648253,0.0],[0.0,0.9999999586006229,0.9999999586006229,0.0],[0.0,0.9999999847700203,0.9999999847700203,0.0],[0.0,0.9999999943972036,0.9999999943972036,0.0],[0.0,0.9999999979388464,0.9999999979388464,0.0],[0.0,0.999999999241744,0.999999999241744,0.0]]}},\"id\":\"51ccc965-a448-45c8-a08e-0214d09658c2\",\"type\":\"ColumnDataSource\"},{\"attributes\":{\"plot\":{\"id\":\"584ad3c4-de25-4d0f-816d-42aae3b49790\",\"subtype\":\"Figure\",\"type\":\"Plot\"}},\"id\":\"b569477c-a5ba-4f24-9426-f887e8fcd954\",\"type\":\"WheelZoomTool\"},{\"attributes\":{\"formatter\":{\"id\":\"0bc0873f-f505-4d83-85f2-38250c054504\",\"type\":\"BasicTickFormatter\"},\"plot\":{\"id\":\"584ad3c4-de25-4d0f-816d-42aae3b49790\",\"subtype\":\"Figure\",\"type\":\"Plot\"},\"ticker\":{\"id\":\"02a93a8c-785d-4d03-981f-774d2c706325\",\"type\":\"BasicTicker\"}},\"id\":\"f3434aa2-0411-4f40-b13e-4034a6318294\",\"type\":\"LinearAxis\"},{\"attributes\":{\"line_color\":{\"value\":\"#1f77b4\"},\"line_width\":{\"value\":3},\"x\":{\"field\":\"x\"},\"y\":{\"field\":\"y\"}},\"id\":\"b040d252-6092-4ebd-88fe-cf2dc5649783\",\"type\":\"Line\"},{\"attributes\":{\"plot\":{\"id\":\"79f7c1d9-3570-4f0b-9425-5637ba84a633\",\"subtype\":\"Figure\",\"type\":\"Plot\"}},\"id\":\"ab088ac2-26b0-450d-b829-f10bb90a67f2\",\"type\":\"WheelZoomTool\"},{\"attributes\":{\"plot\":{\"id\":\"584ad3c4-de25-4d0f-816d-42aae3b49790\",\"subtype\":\"Figure\",\"type\":\"Plot\"},\"ticker\":{\"id\":\"02a93a8c-785d-4d03-981f-774d2c706325\",\"type\":\"BasicTicker\"}},\"id\":\"41cc70c5-862e-4459-8252-655bee0b9be5\",\"type\":\"Grid\"},{\"attributes\":{},\"id\":\"81b50645-cbf4-41e2-ab19-7c90dfc8789f\",\"type\":\"BasicTicker\"},{\"attributes\":{},\"id\":\"ecaab56a-93fe-4253-b4a3-5df055f7ba58\",\"type\":\"ToolEvents\"},{\"attributes\":{\"callback\":null,\"end\":1.0999999991659184},\"id\":\"b1e47c58-0fdb-44ca-880d-06104f533310\",\"type\":\"Range1d\"},{\"attributes\":{},\"id\":\"33cd1ff1-184a-47f7-a85d-79ea60199dda\",\"type\":\"ToolEvents\"},{\"attributes\":{\"line_color\":{\"value\":\"#1f77b4\"},\"line_width\":{\"value\":3},\"x\":{\"field\":\"x\"},\"y\":{\"field\":\"y\"}},\"id\":\"8fc2176a-a3cd-4f6e-a685-b2886cc0353f\",\"type\":\"Line\"},{\"attributes\":{\"line_alpha\":{\"value\":0.1},\"line_color\":{\"value\":\"#1f77b4\"},\"line_width\":{\"value\":3},\"x\":{\"field\":\"x\"},\"y\":{\"field\":\"y\"}},\"id\":\"989c12c1-a7d9-4e98-9baa-277f2ace2243\",\"type\":\"Line\"},{\"attributes\":{\"callback\":null,\"end\":1.1},\"id\":\"73adb056-f7aa-43c1-84c0-48c6460282eb\",\"type\":\"Range1d\"},{\"attributes\":{\"bottom_units\":\"screen\",\"fill_alpha\":{\"value\":0.5},\"fill_color\":{\"value\":\"lightgrey\"},\"left_units\":\"screen\",\"level\":\"overlay\",\"line_alpha\":{\"value\":1.0},\"line_color\":{\"value\":\"black\"},\"line_dash\":[4,4],\"line_width\":{\"value\":2},\"plot\":null,\"render_mode\":\"css\",\"right_units\":\"screen\",\"top_units\":\"screen\"},\"id\":\"1e01a364-5f0d-4aab-8a4c-2d650acfc3cc\",\"type\":\"BoxAnnotation\"},{\"attributes\":{\"data_source\":{\"id\":\"af4be7d2-ec52-4673-b63a-470917b67c64\",\"type\":\"ColumnDataSource\"},\"glyph\":{\"id\":\"8fc2176a-a3cd-4f6e-a685-b2886cc0353f\",\"type\":\"Line\"},\"hover_glyph\":null,\"nonselection_glyph\":{\"id\":\"74a56ffd-02c8-452d-8862-2fc3fe0954ef\",\"type\":\"Line\"},\"selection_glyph\":null},\"id\":\"acd70cba-2f66-4801-aec5-7021f05c49c0\",\"type\":\"GlyphRenderer\"},{\"attributes\":{\"plot\":{\"id\":\"584ad3c4-de25-4d0f-816d-42aae3b49790\",\"subtype\":\"Figure\",\"type\":\"Plot\"}},\"id\":\"b9535231-3f4c-4512-8bab-481cb7dc0729\",\"type\":\"ResetTool\"},{\"attributes\":{\"overlay\":{\"id\":\"ffa56ef8-f34b-4844-b458-1d4e3f078f51\",\"type\":\"BoxAnnotation\"},\"plot\":{\"id\":\"79f7c1d9-3570-4f0b-9425-5637ba84a633\",\"subtype\":\"Figure\",\"type\":\"Plot\"}},\"id\":\"ea504ee9-8603-4a9a-b0ce-b0ca53a88af8\",\"type\":\"BoxZoomTool\"},{\"attributes\":{\"fill_alpha\":{\"value\":0.3},\"fill_color\":{\"value\":\"#1f77b4\"},\"line_alpha\":{\"value\":0.3},\"line_color\":{\"value\":\"#1f77b4\"},\"line_width\":{\"value\":3},\"xs\":{\"field\":\"xs\"},\"ys\":{\"field\":\"ys\"}},\"id\":\"2c5b7251-a5dc-4bd2-9436-7b2ba377e4e3\",\"type\":\"Patches\"},{\"attributes\":{\"plot\":{\"id\":\"584ad3c4-de25-4d0f-816d-42aae3b49790\",\"subtype\":\"Figure\",\"type\":\"Plot\"}},\"id\":\"20cfb8f7-ed8d-4c4a-9cc8-86b348e53f29\",\"type\":\"PanTool\"},{\"attributes\":{\"overlay\":{\"id\":\"fcccd963-2705-482e-8ab4-f40cd6981732\",\"type\":\"BoxAnnotation\"},\"plot\":{\"id\":\"881ff86e-e7b4-4029-a108-405a6176a429\",\"subtype\":\"Figure\",\"type\":\"Plot\"}},\"id\":\"98962c8a-7789-4009-b3d3-b9b8822e8a89\",\"type\":\"BoxZoomTool\"},{\"attributes\":{\"callback\":null,\"column_names\":[\"ys\",\"xs\"],\"data\":{\"xs\":[[]],\"ys\":[[]]}},\"id\":\"a2c9d917-9223-4237-90d5-c994a680e23a\",\"type\":\"ColumnDataSource\"},{\"attributes\":{\"fill_alpha\":{\"value\":0.1},\"fill_color\":{\"value\":\"#1f77b4\"},\"line_alpha\":{\"value\":0.1},\"line_color\":{\"value\":\"#1f77b4\"},\"line_width\":{\"value\":3},\"xs\":{\"field\":\"xs\"},\"ys\":{\"field\":\"ys\"}},\"id\":\"1033803e-cb71-45fa-960b-e189160cbf13\",\"type\":\"Patches\"},{\"attributes\":{\"below\":[{\"id\":\"f3434aa2-0411-4f40-b13e-4034a6318294\",\"type\":\"LinearAxis\"}],\"left\":[{\"id\":\"63f15ece-48ec-4483-84e7-fdffc108285c\",\"type\":\"LinearAxis\"}],\"plot_height\":700,\"plot_width\":700,\"renderers\":[{\"id\":\"f3434aa2-0411-4f40-b13e-4034a6318294\",\"type\":\"LinearAxis\"},{\"id\":\"41cc70c5-862e-4459-8252-655bee0b9be5\",\"type\":\"Grid\"},{\"id\":\"63f15ece-48ec-4483-84e7-fdffc108285c\",\"type\":\"LinearAxis\"},{\"id\":\"64ffc5d8-f37b-41f8-8eeb-a9baac06fa33\",\"type\":\"Grid\"},{\"id\":\"1e01a364-5f0d-4aab-8a4c-2d650acfc3cc\",\"type\":\"BoxAnnotation\"},{\"id\":\"9308ff75-e0f4-4b6c-914d-51de9f23b128\",\"type\":\"GlyphRenderer\"},{\"id\":\"acd70cba-2f66-4801-aec5-7021f05c49c0\",\"type\":\"GlyphRenderer\"}],\"title\":null,\"tool_events\":{\"id\":\"7c349937-69fd-4f55-ad99-97a2c24a7aa0\",\"type\":\"ToolEvents\"},\"tools\":[{\"id\":\"20cfb8f7-ed8d-4c4a-9cc8-86b348e53f29\",\"type\":\"PanTool\"},{\"id\":\"b569477c-a5ba-4f24-9426-f887e8fcd954\",\"type\":\"WheelZoomTool\"},{\"id\":\"2102968b-a980-4a53-b483-8fd88f0af435\",\"type\":\"BoxZoomTool\"},{\"id\":\"20a77df3-cb8b-46d8-83ea-db110f4d622a\",\"type\":\"PreviewSaveTool\"},{\"id\":\"740acc2d-6279-4cb7-80ca-ae4d6666e386\",\"type\":\"ResizeTool\"},{\"id\":\"b9535231-3f4c-4512-8bab-481cb7dc0729\",\"type\":\"ResetTool\"},{\"id\":\"f4fd1252-8bbc-4f8f-b41e-7d926dfe7262\",\"type\":\"HelpTool\"}],\"x_range\":{\"id\":\"12cde68e-a5e3-4e46-b4fd-22d54c32b76b\",\"type\":\"Range1d\"},\"y_range\":{\"id\":\"489e1021-930b-45b9-a229-13ebde1387da\",\"type\":\"Range1d\"}},\"id\":\"584ad3c4-de25-4d0f-816d-42aae3b49790\",\"subtype\":\"Figure\",\"type\":\"Plot\"}],\"root_ids\":[\"881ff86e-e7b4-4029-a108-405a6176a429\",\"79f7c1d9-3570-4f0b-9425-5637ba84a633\",\"584ad3c4-de25-4d0f-816d-42aae3b49790\"]},\"title\":\"Bokeh Application\",\"version\":\"0.11.1\"}};\n",
       "            var render_items = [{\"docid\":\"8d55acfb-c14f-42a8-a4eb-0d96ff77f141\",\"elementid\":\"5246c084-8f9b-4c18-a261-9958a84d741d\",\"modelid\":\"584ad3c4-de25-4d0f-816d-42aae3b49790\",\"notebook_comms_target\":\"12d4d434-d570-4483-bc54-610b38bae9f8\"}];\n",
       "            \n",
       "            Bokeh.embed.embed_items(docs_json, render_items);\n",
       "        });\n",
       "      },\n",
       "      function(Bokeh) {\n",
       "      }\n",
       "    ];\n",
       "  \n",
       "    function run_inline_js() {\n",
       "      for (var i = 0; i < inline_js.length; i++) {\n",
       "        inline_js[i](window.Bokeh);\n",
       "      }\n",
       "    }\n",
       "  \n",
       "    if (window._bokeh_is_loading === 0) {\n",
       "      console.log(\"Bokeh: BokehJS loaded, going straight to plotting\");\n",
       "      run_inline_js();\n",
       "    } else {\n",
       "      load_libs(js_urls, function() {\n",
       "        console.log(\"Bokeh: BokehJS plotting callback run at\", now());\n",
       "        run_inline_js();\n",
       "      });\n",
       "    }\n",
       "  }(this));\n",
       "</script>"
      ]
     },
     "metadata": {},
     "output_type": "display_data"
    }
   ],
   "source": [
    "# Create widgets for selecting the type, distribution and function\n",
    "type_sel = widgets.Dropdown(options=dist_types, value=DistType.continuous, description='type:')\n",
    "dist_sel = widgets.Dropdown(options=dist_options(type_sel.value), description='dist:')\n",
    "func_sel = widgets.Dropdown(options=func_options(type_sel.value), description='func:')\n",
    "\n",
    "# Align the widgets in a horizontal box\n",
    "dist_container = widgets.HBox()  \n",
    "dist_container.children = [type_sel, dist_sel, func_sel]\n",
    "\n",
    "# Wire the widgets to their corresponding update function\n",
    "type_sel.on_trait_change(update_type_sel, name='value')\n",
    "dist_sel.on_trait_change(update_dist_sel, name='value')\n",
    "func_sel.on_trait_change(update_dist_sel, name='value')\n",
    "\n",
    "# Create widgets for parameter selection and boxes to align\n",
    "loc_slider = widgets.FloatSlider(value=0., min=-5.0, max=5.0, step=0.1, description='loc:')\n",
    "scale_slider = widgets.FloatSlider(value=1., min=0.01, max=10.0, step=0.01, description='scale:')\n",
    "loc_slider.on_trait_change(update_dist_params, name='value')\n",
    "scale_slider.on_trait_change(update_dist_params, name='value')\n",
    "param_container = widgets.VBox()\n",
    "shape_param_container = widgets.HBox()\n",
    "error_text = widgets.HTML()\n",
    "\n",
    "# Display the widgets\n",
    "display(dist_container)\n",
    "display(param_container)\n",
    "display(shape_param_container)\n",
    "display(error_text)\n",
    "\n",
    "# Generate the Bokeh plot and display\n",
    "fig, l_data, p_data = get_dist_fig_data()\n",
    "show(fig)\n",
    "\n",
    "# Let's select the famous normal distribution for starters\n",
    "dist_sel.value = dist_continuous['norm']"
   ]
  },
  {
   "cell_type": "code",
   "execution_count": null,
   "metadata": {
    "collapsed": true
   },
   "outputs": [],
   "source": []
  }
 ],
 "metadata": {
  "kernelspec": {
   "display_name": "Python 3",
   "language": "python",
   "name": "python3"
  },
  "language_info": {
   "codemirror_mode": {
    "name": "ipython",
    "version": 3
   },
   "file_extension": ".py",
   "mimetype": "text/x-python",
   "name": "python",
   "nbconvert_exporter": "python",
   "pygments_lexer": "ipython3",
   "version": "3.4.3"
  }
 },
 "nbformat": 4,
 "nbformat_minor": 0
}
